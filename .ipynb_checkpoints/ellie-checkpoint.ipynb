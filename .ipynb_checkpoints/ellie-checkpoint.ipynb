{
 "cells": [
  {
   "cell_type": "code",
   "execution_count": 142,
   "id": "64b020fb",
   "metadata": {},
   "outputs": [
    {
     "name": "stderr",
     "output_type": "stream",
     "text": [
      "/Users/elliekwang/miniforge3/envs/dsc80/lib/python3.8/site-packages/IPython/core/interactiveshell.py:3508: DtypeWarning: Columns (2) have mixed types.Specify dtype option on import or set low_memory=False.\n",
      "  exec(code_obj, self.user_global_ns, self.user_ns)\n"
     ]
    },
    {
     "data": {
      "text/plain": [
       "(309456, 131)"
      ]
     },
     "execution_count": 142,
     "metadata": {},
     "output_type": "execute_result"
    }
   ],
   "source": [
    "import pandas as pd\n",
    "import numpy as np\n",
    "from pathlib import Path\n",
    "\n",
    "import plotly.express as px\n",
    "pd.options.plotting.backend = 'plotly'\n",
    "\n",
    "# from dsc80_utils import * # Feel free to uncomment and use this.\n",
    "\n",
    "fp1 = '../data/league_2023.csv'\n",
    "\n",
    "fp2 = '../data/league_2022.csv'\n",
    "\n",
    "fp3 = '../data/league_2024.csv'\n",
    "\n",
    "league23 = pd.read_csv(fp1)\n",
    "league23[league23['patch'] == 13.09]\n",
    "\n",
    "league22 = pd.read_csv(fp2)\n",
    "\n",
    "league24 = pd.read_csv(fp3)\n",
    "\n",
    "league22\n",
    "\n",
    "list(league.columns)\n",
    "\n",
    "# neeko = league[league['champion'] == 'Neeko']\n",
    "\n",
    "# neeko = neeko[neeko['patch'] == 13.9]\n",
    "\n",
    "\n",
    "neeko['patch'].value_counts()\n",
    "\n",
    "# neeko\n",
    "\n",
    "\n",
    "league22[league22['champion'] == 'neeko']\n",
    "league22['champion'] == 'neeko'\n",
    "\n",
    "\n",
    "#hi joyce\n",
    "\n",
    "\n",
    "league = pd.concat([league22, league23, league24])\n",
    "league.shape\n",
    "# neeko = league[league['champion'] == 'Neeko']\n",
    "# neeko\n",
    "\n",
    "# neeko[neeko['gameid'] == 'ESPORTSTMNT02_2557639']"
   ]
  },
  {
   "cell_type": "code",
   "execution_count": 244,
   "id": "ca778409",
   "metadata": {},
   "outputs": [
    {
     "data": {
      "text/html": [
       "<div>\n",
       "<style scoped>\n",
       "    .dataframe tbody tr th:only-of-type {\n",
       "        vertical-align: middle;\n",
       "    }\n",
       "\n",
       "    .dataframe tbody tr th {\n",
       "        vertical-align: top;\n",
       "    }\n",
       "\n",
       "    .dataframe thead th {\n",
       "        text-align: right;\n",
       "    }\n",
       "</style>\n",
       "<table border=\"1\" class=\"dataframe\">\n",
       "  <thead>\n",
       "    <tr style=\"text-align: right;\">\n",
       "      <th></th>\n",
       "      <th>gameid</th>\n",
       "      <th>datacompleteness</th>\n",
       "      <th>url</th>\n",
       "      <th>league</th>\n",
       "      <th>year</th>\n",
       "      <th>split</th>\n",
       "      <th>playoffs</th>\n",
       "      <th>date</th>\n",
       "      <th>game</th>\n",
       "      <th>patch</th>\n",
       "      <th>...</th>\n",
       "      <th>opp_csat15</th>\n",
       "      <th>golddiffat15</th>\n",
       "      <th>xpdiffat15</th>\n",
       "      <th>csdiffat15</th>\n",
       "      <th>killsat15</th>\n",
       "      <th>assistsat15</th>\n",
       "      <th>deathsat15</th>\n",
       "      <th>opp_killsat15</th>\n",
       "      <th>opp_assistsat15</th>\n",
       "      <th>opp_deathsat15</th>\n",
       "    </tr>\n",
       "  </thead>\n",
       "  <tbody>\n",
       "    <tr>\n",
       "      <th>16027</th>\n",
       "      <td>ESPORTSTMNT02_2557639</td>\n",
       "      <td>complete</td>\n",
       "      <td>NaN</td>\n",
       "      <td>EL</td>\n",
       "      <td>2022</td>\n",
       "      <td>NaN</td>\n",
       "      <td>0</td>\n",
       "      <td>2022-02-09 00:31:28</td>\n",
       "      <td>1</td>\n",
       "      <td>12.02</td>\n",
       "      <td>...</td>\n",
       "      <td>126.0</td>\n",
       "      <td>381.0</td>\n",
       "      <td>97.0</td>\n",
       "      <td>3.0</td>\n",
       "      <td>1.0</td>\n",
       "      <td>3.0</td>\n",
       "      <td>0.0</td>\n",
       "      <td>2.0</td>\n",
       "      <td>0.0</td>\n",
       "      <td>1.0</td>\n",
       "    </tr>\n",
       "    <tr>\n",
       "      <th>21038</th>\n",
       "      <td>NA1_4217310447</td>\n",
       "      <td>complete</td>\n",
       "      <td>NaN</td>\n",
       "      <td>PGC</td>\n",
       "      <td>2022</td>\n",
       "      <td>NaN</td>\n",
       "      <td>0</td>\n",
       "      <td>2022-02-14 23:08:07</td>\n",
       "      <td>1</td>\n",
       "      <td>12.03</td>\n",
       "      <td>...</td>\n",
       "      <td>136.0</td>\n",
       "      <td>-919.0</td>\n",
       "      <td>336.0</td>\n",
       "      <td>-21.0</td>\n",
       "      <td>4.0</td>\n",
       "      <td>1.0</td>\n",
       "      <td>2.0</td>\n",
       "      <td>2.0</td>\n",
       "      <td>0.0</td>\n",
       "      <td>0.0</td>\n",
       "    </tr>\n",
       "    <tr>\n",
       "      <th>21192</th>\n",
       "      <td>NA1_4214959149</td>\n",
       "      <td>complete</td>\n",
       "      <td>NaN</td>\n",
       "      <td>PGC</td>\n",
       "      <td>2022</td>\n",
       "      <td>NaN</td>\n",
       "      <td>0</td>\n",
       "      <td>2022-02-14 23:24:23</td>\n",
       "      <td>1</td>\n",
       "      <td>12.03</td>\n",
       "      <td>...</td>\n",
       "      <td>98.0</td>\n",
       "      <td>2273.0</td>\n",
       "      <td>685.0</td>\n",
       "      <td>54.0</td>\n",
       "      <td>0.0</td>\n",
       "      <td>0.0</td>\n",
       "      <td>0.0</td>\n",
       "      <td>0.0</td>\n",
       "      <td>0.0</td>\n",
       "      <td>0.0</td>\n",
       "    </tr>\n",
       "    <tr>\n",
       "      <th>28598</th>\n",
       "      <td>ESPORTSTMNT01_2740451</td>\n",
       "      <td>complete</td>\n",
       "      <td>NaN</td>\n",
       "      <td>PGC</td>\n",
       "      <td>2022</td>\n",
       "      <td>NaN</td>\n",
       "      <td>0</td>\n",
       "      <td>2022-02-22 23:41:17</td>\n",
       "      <td>2</td>\n",
       "      <td>12.04</td>\n",
       "      <td>...</td>\n",
       "      <td>84.0</td>\n",
       "      <td>2069.0</td>\n",
       "      <td>713.0</td>\n",
       "      <td>28.0</td>\n",
       "      <td>4.0</td>\n",
       "      <td>9.0</td>\n",
       "      <td>1.0</td>\n",
       "      <td>2.0</td>\n",
       "      <td>2.0</td>\n",
       "      <td>5.0</td>\n",
       "    </tr>\n",
       "    <tr>\n",
       "      <th>33679</th>\n",
       "      <td>ESPORTSTMNT01_2743216</td>\n",
       "      <td>complete</td>\n",
       "      <td>NaN</td>\n",
       "      <td>EL</td>\n",
       "      <td>2022</td>\n",
       "      <td>NaN</td>\n",
       "      <td>0</td>\n",
       "      <td>2022-02-28 23:41:41</td>\n",
       "      <td>1</td>\n",
       "      <td>12.04</td>\n",
       "      <td>...</td>\n",
       "      <td>119.0</td>\n",
       "      <td>169.0</td>\n",
       "      <td>396.0</td>\n",
       "      <td>15.0</td>\n",
       "      <td>0.0</td>\n",
       "      <td>0.0</td>\n",
       "      <td>0.0</td>\n",
       "      <td>0.0</td>\n",
       "      <td>2.0</td>\n",
       "      <td>0.0</td>\n",
       "    </tr>\n",
       "    <tr>\n",
       "      <th>...</th>\n",
       "      <td>...</td>\n",
       "      <td>...</td>\n",
       "      <td>...</td>\n",
       "      <td>...</td>\n",
       "      <td>...</td>\n",
       "      <td>...</td>\n",
       "      <td>...</td>\n",
       "      <td>...</td>\n",
       "      <td>...</td>\n",
       "      <td>...</td>\n",
       "      <td>...</td>\n",
       "      <td>...</td>\n",
       "      <td>...</td>\n",
       "      <td>...</td>\n",
       "      <td>...</td>\n",
       "      <td>...</td>\n",
       "      <td>...</td>\n",
       "      <td>...</td>\n",
       "      <td>...</td>\n",
       "      <td>...</td>\n",
       "      <td>...</td>\n",
       "    </tr>\n",
       "    <tr>\n",
       "      <th>33907</th>\n",
       "      <td>LOLTMNT04_31805</td>\n",
       "      <td>complete</td>\n",
       "      <td>NaN</td>\n",
       "      <td>LEC</td>\n",
       "      <td>2024</td>\n",
       "      <td>Spring</td>\n",
       "      <td>0</td>\n",
       "      <td>2024-03-18 16:08:19</td>\n",
       "      <td>1</td>\n",
       "      <td>14.05</td>\n",
       "      <td>...</td>\n",
       "      <td>142.0</td>\n",
       "      <td>-305.0</td>\n",
       "      <td>-770.0</td>\n",
       "      <td>-13.0</td>\n",
       "      <td>0.0</td>\n",
       "      <td>0.0</td>\n",
       "      <td>0.0</td>\n",
       "      <td>1.0</td>\n",
       "      <td>0.0</td>\n",
       "      <td>0.0</td>\n",
       "    </tr>\n",
       "    <tr>\n",
       "      <th>33919</th>\n",
       "      <td>LOLTMNT01_70626</td>\n",
       "      <td>complete</td>\n",
       "      <td>NaN</td>\n",
       "      <td>NEXO</td>\n",
       "      <td>2024</td>\n",
       "      <td>Split 2</td>\n",
       "      <td>1</td>\n",
       "      <td>2024-03-18 16:15:45</td>\n",
       "      <td>1</td>\n",
       "      <td>14.05</td>\n",
       "      <td>...</td>\n",
       "      <td>127.0</td>\n",
       "      <td>-474.0</td>\n",
       "      <td>-67.0</td>\n",
       "      <td>-16.0</td>\n",
       "      <td>1.0</td>\n",
       "      <td>0.0</td>\n",
       "      <td>2.0</td>\n",
       "      <td>2.0</td>\n",
       "      <td>2.0</td>\n",
       "      <td>1.0</td>\n",
       "    </tr>\n",
       "    <tr>\n",
       "      <th>33938</th>\n",
       "      <td>LOLTMNT01_71061</td>\n",
       "      <td>complete</td>\n",
       "      <td>NaN</td>\n",
       "      <td>NEXO</td>\n",
       "      <td>2024</td>\n",
       "      <td>Split 2</td>\n",
       "      <td>1</td>\n",
       "      <td>2024-03-18 17:14:52</td>\n",
       "      <td>2</td>\n",
       "      <td>14.05</td>\n",
       "      <td>...</td>\n",
       "      <td>144.0</td>\n",
       "      <td>-107.0</td>\n",
       "      <td>-460.0</td>\n",
       "      <td>-11.0</td>\n",
       "      <td>1.0</td>\n",
       "      <td>0.0</td>\n",
       "      <td>0.0</td>\n",
       "      <td>0.0</td>\n",
       "      <td>1.0</td>\n",
       "      <td>0.0</td>\n",
       "    </tr>\n",
       "    <tr>\n",
       "      <th>34201</th>\n",
       "      <td>LOLTMNT01_71470</td>\n",
       "      <td>complete</td>\n",
       "      <td>NaN</td>\n",
       "      <td>NEXO</td>\n",
       "      <td>2024</td>\n",
       "      <td>Split 2</td>\n",
       "      <td>0</td>\n",
       "      <td>2024-03-19 16:06:46</td>\n",
       "      <td>1</td>\n",
       "      <td>14.05</td>\n",
       "      <td>...</td>\n",
       "      <td>115.0</td>\n",
       "      <td>845.0</td>\n",
       "      <td>381.0</td>\n",
       "      <td>5.0</td>\n",
       "      <td>3.0</td>\n",
       "      <td>0.0</td>\n",
       "      <td>0.0</td>\n",
       "      <td>0.0</td>\n",
       "      <td>1.0</td>\n",
       "      <td>2.0</td>\n",
       "    </tr>\n",
       "    <tr>\n",
       "      <th>34526</th>\n",
       "      <td>LOLTMNT04_31872</td>\n",
       "      <td>complete</td>\n",
       "      <td>NaN</td>\n",
       "      <td>TCL</td>\n",
       "      <td>2024</td>\n",
       "      <td>Winter</td>\n",
       "      <td>1</td>\n",
       "      <td>2024-03-19 20:13:41</td>\n",
       "      <td>4</td>\n",
       "      <td>14.05</td>\n",
       "      <td>...</td>\n",
       "      <td>138.0</td>\n",
       "      <td>1278.0</td>\n",
       "      <td>-35.0</td>\n",
       "      <td>-13.0</td>\n",
       "      <td>4.0</td>\n",
       "      <td>3.0</td>\n",
       "      <td>0.0</td>\n",
       "      <td>0.0</td>\n",
       "      <td>0.0</td>\n",
       "      <td>2.0</td>\n",
       "    </tr>\n",
       "  </tbody>\n",
       "</table>\n",
       "<p>915 rows × 131 columns</p>\n",
       "</div>"
      ],
      "text/plain": [
       "                      gameid datacompleteness  url league  year    split  \\\n",
       "16027  ESPORTSTMNT02_2557639         complete  NaN     EL  2022      NaN   \n",
       "21038         NA1_4217310447         complete  NaN    PGC  2022      NaN   \n",
       "21192         NA1_4214959149         complete  NaN    PGC  2022      NaN   \n",
       "28598  ESPORTSTMNT01_2740451         complete  NaN    PGC  2022      NaN   \n",
       "33679  ESPORTSTMNT01_2743216         complete  NaN     EL  2022      NaN   \n",
       "...                      ...              ...  ...    ...   ...      ...   \n",
       "33907        LOLTMNT04_31805         complete  NaN    LEC  2024   Spring   \n",
       "33919        LOLTMNT01_70626         complete  NaN   NEXO  2024  Split 2   \n",
       "33938        LOLTMNT01_71061         complete  NaN   NEXO  2024  Split 2   \n",
       "34201        LOLTMNT01_71470         complete  NaN   NEXO  2024  Split 2   \n",
       "34526        LOLTMNT04_31872         complete  NaN    TCL  2024   Winter   \n",
       "\n",
       "       playoffs                 date  game  patch  ...  opp_csat15  \\\n",
       "16027         0  2022-02-09 00:31:28     1  12.02  ...       126.0   \n",
       "21038         0  2022-02-14 23:08:07     1  12.03  ...       136.0   \n",
       "21192         0  2022-02-14 23:24:23     1  12.03  ...        98.0   \n",
       "28598         0  2022-02-22 23:41:17     2  12.04  ...        84.0   \n",
       "33679         0  2022-02-28 23:41:41     1  12.04  ...       119.0   \n",
       "...         ...                  ...   ...    ...  ...         ...   \n",
       "33907         0  2024-03-18 16:08:19     1  14.05  ...       142.0   \n",
       "33919         1  2024-03-18 16:15:45     1  14.05  ...       127.0   \n",
       "33938         1  2024-03-18 17:14:52     2  14.05  ...       144.0   \n",
       "34201         0  2024-03-19 16:06:46     1  14.05  ...       115.0   \n",
       "34526         1  2024-03-19 20:13:41     4  14.05  ...       138.0   \n",
       "\n",
       "      golddiffat15 xpdiffat15 csdiffat15 killsat15 assistsat15 deathsat15  \\\n",
       "16027        381.0       97.0        3.0       1.0         3.0        0.0   \n",
       "21038       -919.0      336.0      -21.0       4.0         1.0        2.0   \n",
       "21192       2273.0      685.0       54.0       0.0         0.0        0.0   \n",
       "28598       2069.0      713.0       28.0       4.0         9.0        1.0   \n",
       "33679        169.0      396.0       15.0       0.0         0.0        0.0   \n",
       "...            ...        ...        ...       ...         ...        ...   \n",
       "33907       -305.0     -770.0      -13.0       0.0         0.0        0.0   \n",
       "33919       -474.0      -67.0      -16.0       1.0         0.0        2.0   \n",
       "33938       -107.0     -460.0      -11.0       1.0         0.0        0.0   \n",
       "34201        845.0      381.0        5.0       3.0         0.0        0.0   \n",
       "34526       1278.0      -35.0      -13.0       4.0         3.0        0.0   \n",
       "\n",
       "      opp_killsat15 opp_assistsat15 opp_deathsat15  \n",
       "16027           2.0             0.0            1.0  \n",
       "21038           2.0             0.0            0.0  \n",
       "21192           0.0             0.0            0.0  \n",
       "28598           2.0             2.0            5.0  \n",
       "33679           0.0             2.0            0.0  \n",
       "...             ...             ...            ...  \n",
       "33907           1.0             0.0            0.0  \n",
       "33919           2.0             2.0            1.0  \n",
       "33938           0.0             1.0            0.0  \n",
       "34201           0.0             1.0            2.0  \n",
       "34526           0.0             0.0            2.0  \n",
       "\n",
       "[915 rows x 131 columns]"
      ]
     },
     "execution_count": 244,
     "metadata": {},
     "output_type": "execute_result"
    }
   ],
   "source": [
    "neeko = league[league['champion'] == 'Neeko']\n",
    "neeko = neeko[neeko['datacompleteness'] != 'partial']\n",
    "neeko"
   ]
  },
  {
   "cell_type": "code",
   "execution_count": 139,
   "id": "24972fc6",
   "metadata": {},
   "outputs": [
    {
     "data": {
      "text/plain": [
       "25788"
      ]
     },
     "execution_count": 139,
     "metadata": {},
     "output_type": "execute_result"
    }
   ],
   "source": [
    "len(league['gameid'].unique())"
   ]
  },
  {
   "cell_type": "code",
   "execution_count": 140,
   "id": "0147a076",
   "metadata": {},
   "outputs": [],
   "source": [
    "#hypothesis test: was playing neeko after the patch random or is \n",
    "#there a significant difference what happened before and after the patch\n",
    "\n",
    "\n",
    "\n"
   ]
  },
  {
   "cell_type": "markdown",
   "id": "31597df4",
   "metadata": {},
   "source": [
    "Clearly state your null and alternative hypotheses, your choice of test statistic and significance level, the resulting \n",
    "p\n",
    "-value, and your conclusion. Justify why these choices are good choices for answering the question you are trying to answer.\n",
    "\n",
    "\n",
    "\n",
    "Question: Is there a higher proportion of games with a Neeko in it after the Patch 13.9 rework?\n",
    "\n",
    "Null: There is no difference in proportion of games with Neeko before and after the Patch 13.9 rework.\n",
    "\n",
    "\n",
    "Alternative: There is a higher proportion of games with Neeko after the Patch 13.9 rework. \n",
    "\n",
    "\n",
    "Test Statistic: Difference in Proportion, more specifically the proportion of games with Neeko after minus before the patch 13.9\n",
    "- We chose difference in proportion because our data is categorical and directional.\n",
    "- Our observed statistic: 0.1404526229251691\n",
    "\n",
    "Significance Level: 0.05\n",
    "- This is a standard hypothesis test. \n",
    "\n",
    "\n",
    "Result p-value: 0\n",
    "- We ran 10,000 repetitions. \n",
    "\n",
    "Conclusion: As the p-value is 0, we reject the null hypothesis in favor of the alternative hypothesis, which is that there is a higher proportion of games with Neeko after the Patch 13.9 rework. \n",
    "\n",
    "\n",
    "\n",
    "\n",
    "\n",
    "\n"
   ]
  },
  {
   "cell_type": "code",
   "execution_count": 242,
   "id": "a60fc015",
   "metadata": {},
   "outputs": [
    {
     "data": {
      "text/plain": [
       "54"
      ]
     },
     "execution_count": 242,
     "metadata": {},
     "output_type": "execute_result"
    }
   ],
   "source": [
    "combined = league[league['patch'] >= 12.10]\n",
    "na_values = league[pd.isna(league['patch'])]\n",
    "\n",
    "league[league['patch'] == 13.24]\n",
    "\n",
    "\n",
    "na_values\n",
    "# league['patch'].value_counts()\n",
    "\n",
    "# values_na\n",
    "\n",
    "na_values['date'].unique()\n",
    "# na_values\n",
    "# league.shape\n",
    "\n",
    "na_values\n",
    "league['league'].unique()\n",
    "\n",
    "na_values['league'].unique()\n",
    "\n",
    "# for col in league.columns:\n",
    "#     print(col)\n",
    "\n",
    "any_na_values = league.isna().any()\n",
    "any_na_index = any_na_values.index[any_na_values]\n",
    "\n",
    "# for col in any_na_values:\n",
    "#     print()\n",
    "any_na_index\n",
    "\n",
    "league['teamname'].isna().sum()"
   ]
  },
  {
   "cell_type": "code",
   "execution_count": 170,
   "id": "d4841f7a",
   "metadata": {},
   "outputs": [
    {
     "ename": "KeyError",
     "evalue": "\"None of [Index(['LDL', 'LDL', 'LDL', 'LDL', 'LDL', 'LDL', 'LDL', 'LDL', 'LDL', 'LDL',\\n       ...\\n       'LDL', 'LDL', 'LDL', 'LDL', 'LDL', 'LDL', 'LDL', 'LDL', 'LDL', 'LDL'],\\n      dtype='object', length=288)] are in the [columns]\"",
     "output_type": "error",
     "traceback": [
      "\u001b[0;31m---------------------------------------------------------------------------\u001b[0m",
      "\u001b[0;31mKeyError\u001b[0m                                  Traceback (most recent call last)",
      "Cell \u001b[0;32mIn[170], line 1\u001b[0m\n\u001b[0;32m----> 1\u001b[0m \u001b[43mna_values\u001b[49m\u001b[43m[\u001b[49m\u001b[43mna_values\u001b[49m\u001b[43m[\u001b[49m\u001b[38;5;124;43m'\u001b[39;49m\u001b[38;5;124;43mleague\u001b[39;49m\u001b[38;5;124;43m'\u001b[39;49m\u001b[43m]\u001b[49m\u001b[43m]\u001b[49m\u001b[38;5;241m.\u001b[39mmean()\n",
      "File \u001b[0;32m~/miniforge3/envs/dsc80/lib/python3.8/site-packages/pandas/core/frame.py:3464\u001b[0m, in \u001b[0;36mDataFrame.__getitem__\u001b[0;34m(self, key)\u001b[0m\n\u001b[1;32m   3462\u001b[0m     \u001b[38;5;28;01mif\u001b[39;00m is_iterator(key):\n\u001b[1;32m   3463\u001b[0m         key \u001b[38;5;241m=\u001b[39m \u001b[38;5;28mlist\u001b[39m(key)\n\u001b[0;32m-> 3464\u001b[0m     indexer \u001b[38;5;241m=\u001b[39m \u001b[38;5;28;43mself\u001b[39;49m\u001b[38;5;241;43m.\u001b[39;49m\u001b[43mloc\u001b[49m\u001b[38;5;241;43m.\u001b[39;49m\u001b[43m_get_listlike_indexer\u001b[49m\u001b[43m(\u001b[49m\u001b[43mkey\u001b[49m\u001b[43m,\u001b[49m\u001b[43m \u001b[49m\u001b[43maxis\u001b[49m\u001b[38;5;241;43m=\u001b[39;49m\u001b[38;5;241;43m1\u001b[39;49m\u001b[43m)\u001b[49m[\u001b[38;5;241m1\u001b[39m]\n\u001b[1;32m   3466\u001b[0m \u001b[38;5;66;03m# take() does not accept boolean indexers\u001b[39;00m\n\u001b[1;32m   3467\u001b[0m \u001b[38;5;28;01mif\u001b[39;00m \u001b[38;5;28mgetattr\u001b[39m(indexer, \u001b[38;5;124m\"\u001b[39m\u001b[38;5;124mdtype\u001b[39m\u001b[38;5;124m\"\u001b[39m, \u001b[38;5;28;01mNone\u001b[39;00m) \u001b[38;5;241m==\u001b[39m \u001b[38;5;28mbool\u001b[39m:\n",
      "File \u001b[0;32m~/miniforge3/envs/dsc80/lib/python3.8/site-packages/pandas/core/indexing.py:1314\u001b[0m, in \u001b[0;36m_LocIndexer._get_listlike_indexer\u001b[0;34m(self, key, axis)\u001b[0m\n\u001b[1;32m   1311\u001b[0m \u001b[38;5;28;01melse\u001b[39;00m:\n\u001b[1;32m   1312\u001b[0m     keyarr, indexer, new_indexer \u001b[38;5;241m=\u001b[39m ax\u001b[38;5;241m.\u001b[39m_reindex_non_unique(keyarr)\n\u001b[0;32m-> 1314\u001b[0m \u001b[38;5;28;43mself\u001b[39;49m\u001b[38;5;241;43m.\u001b[39;49m\u001b[43m_validate_read_indexer\u001b[49m\u001b[43m(\u001b[49m\u001b[43mkeyarr\u001b[49m\u001b[43m,\u001b[49m\u001b[43m \u001b[49m\u001b[43mindexer\u001b[49m\u001b[43m,\u001b[49m\u001b[43m \u001b[49m\u001b[43maxis\u001b[49m\u001b[43m)\u001b[49m\n\u001b[1;32m   1316\u001b[0m \u001b[38;5;28;01mif\u001b[39;00m needs_i8_conversion(ax\u001b[38;5;241m.\u001b[39mdtype) \u001b[38;5;129;01mor\u001b[39;00m \u001b[38;5;28misinstance\u001b[39m(\n\u001b[1;32m   1317\u001b[0m     ax, (IntervalIndex, CategoricalIndex)\n\u001b[1;32m   1318\u001b[0m ):\n\u001b[1;32m   1319\u001b[0m     \u001b[38;5;66;03m# For CategoricalIndex take instead of reindex to preserve dtype.\u001b[39;00m\n\u001b[1;32m   1320\u001b[0m     \u001b[38;5;66;03m#  For IntervalIndex this is to map integers to the Intervals they match to.\u001b[39;00m\n\u001b[1;32m   1321\u001b[0m     keyarr \u001b[38;5;241m=\u001b[39m ax\u001b[38;5;241m.\u001b[39mtake(indexer)\n",
      "File \u001b[0;32m~/miniforge3/envs/dsc80/lib/python3.8/site-packages/pandas/core/indexing.py:1374\u001b[0m, in \u001b[0;36m_LocIndexer._validate_read_indexer\u001b[0;34m(self, key, indexer, axis)\u001b[0m\n\u001b[1;32m   1372\u001b[0m     \u001b[38;5;28;01mif\u001b[39;00m use_interval_msg:\n\u001b[1;32m   1373\u001b[0m         key \u001b[38;5;241m=\u001b[39m \u001b[38;5;28mlist\u001b[39m(key)\n\u001b[0;32m-> 1374\u001b[0m     \u001b[38;5;28;01mraise\u001b[39;00m \u001b[38;5;167;01mKeyError\u001b[39;00m(\u001b[38;5;124mf\u001b[39m\u001b[38;5;124m\"\u001b[39m\u001b[38;5;124mNone of [\u001b[39m\u001b[38;5;132;01m{\u001b[39;00mkey\u001b[38;5;132;01m}\u001b[39;00m\u001b[38;5;124m] are in the [\u001b[39m\u001b[38;5;132;01m{\u001b[39;00maxis_name\u001b[38;5;132;01m}\u001b[39;00m\u001b[38;5;124m]\u001b[39m\u001b[38;5;124m\"\u001b[39m)\n\u001b[1;32m   1376\u001b[0m not_found \u001b[38;5;241m=\u001b[39m \u001b[38;5;28mlist\u001b[39m(ensure_index(key)[missing_mask\u001b[38;5;241m.\u001b[39mnonzero()[\u001b[38;5;241m0\u001b[39m]]\u001b[38;5;241m.\u001b[39munique())\n\u001b[1;32m   1377\u001b[0m \u001b[38;5;28;01mraise\u001b[39;00m \u001b[38;5;167;01mKeyError\u001b[39;00m(\u001b[38;5;124mf\u001b[39m\u001b[38;5;124m\"\u001b[39m\u001b[38;5;132;01m{\u001b[39;00mnot_found\u001b[38;5;132;01m}\u001b[39;00m\u001b[38;5;124m not in index\u001b[39m\u001b[38;5;124m\"\u001b[39m)\n",
      "\u001b[0;31mKeyError\u001b[0m: \"None of [Index(['LDL', 'LDL', 'LDL', 'LDL', 'LDL', 'LDL', 'LDL', 'LDL', 'LDL', 'LDL',\\n       ...\\n       'LDL', 'LDL', 'LDL', 'LDL', 'LDL', 'LDL', 'LDL', 'LDL', 'LDL', 'LDL'],\\n      dtype='object', length=288)] are in the [columns]\""
     ]
    }
   ],
   "source": [
    "league."
   ]
  },
  {
   "cell_type": "markdown",
   "id": "9bc9a8b8",
   "metadata": {},
   "source": [
    "Permutation Test: patch vs. league"
   ]
  },
  {
   "cell_type": "markdown",
   "id": "811ba98b",
   "metadata": {},
   "source": [
    "State whether you believe there is a column in your dataset that is NMAR. Explain your reasoning and any additional data you might want to obtain that could explain the missingness (thereby making it MAR). Make sure to explicitly use the term “NMAR.”\n",
    "\n",
    "We do not belive that there is a column in our dataset that is NMAR. Based on our preliminary findings when looking at the \"patch\" column that has missing data, we believe that the column \"league\", which is composed of the different leagues played in the game, could explain the missingness since we found that there were only missing patches for two leagues out of the 56."
   ]
  },
  {
   "cell_type": "code",
   "execution_count": 174,
   "id": "f20e8121",
   "metadata": {},
   "outputs": [
    {
     "name": "stderr",
     "output_type": "stream",
     "text": [
      "/var/folders/_l/f4zhrz9s7q356_sd74v3cqmm0000gn/T/ipykernel_7224/4260375598.py:2: SettingWithCopyWarning: \n",
      "A value is trying to be set on a copy of a slice from a DataFrame.\n",
      "Try using .loc[row_indexer,col_indexer] = value instead\n",
      "\n",
      "See the caveats in the documentation: https://pandas.pydata.org/pandas-docs/stable/user_guide/indexing.html#returning-a-view-versus-a-copy\n",
      "  league_patch['patch_missing'] = league_patch['patch'].isna()\n"
     ]
    },
    {
     "data": {
      "text/html": [
       "<div>\n",
       "<style scoped>\n",
       "    .dataframe tbody tr th:only-of-type {\n",
       "        vertical-align: middle;\n",
       "    }\n",
       "\n",
       "    .dataframe tbody tr th {\n",
       "        vertical-align: top;\n",
       "    }\n",
       "\n",
       "    .dataframe thead th {\n",
       "        text-align: right;\n",
       "    }\n",
       "</style>\n",
       "<table border=\"1\" class=\"dataframe\">\n",
       "  <thead>\n",
       "    <tr style=\"text-align: right;\">\n",
       "      <th></th>\n",
       "      <th>league</th>\n",
       "      <th>patch</th>\n",
       "      <th>patch_missing</th>\n",
       "    </tr>\n",
       "  </thead>\n",
       "  <tbody>\n",
       "    <tr>\n",
       "      <th>0</th>\n",
       "      <td>LCKC</td>\n",
       "      <td>12.01</td>\n",
       "      <td>False</td>\n",
       "    </tr>\n",
       "    <tr>\n",
       "      <th>1</th>\n",
       "      <td>LCKC</td>\n",
       "      <td>12.01</td>\n",
       "      <td>False</td>\n",
       "    </tr>\n",
       "    <tr>\n",
       "      <th>2</th>\n",
       "      <td>LCKC</td>\n",
       "      <td>12.01</td>\n",
       "      <td>False</td>\n",
       "    </tr>\n",
       "    <tr>\n",
       "      <th>3</th>\n",
       "      <td>LCKC</td>\n",
       "      <td>12.01</td>\n",
       "      <td>False</td>\n",
       "    </tr>\n",
       "    <tr>\n",
       "      <th>4</th>\n",
       "      <td>LCKC</td>\n",
       "      <td>12.01</td>\n",
       "      <td>False</td>\n",
       "    </tr>\n",
       "    <tr>\n",
       "      <th>...</th>\n",
       "      <td>...</td>\n",
       "      <td>...</td>\n",
       "      <td>...</td>\n",
       "    </tr>\n",
       "    <tr>\n",
       "      <th>34555</th>\n",
       "      <td>CBLOLA</td>\n",
       "      <td>14.05</td>\n",
       "      <td>False</td>\n",
       "    </tr>\n",
       "    <tr>\n",
       "      <th>34556</th>\n",
       "      <td>CBLOLA</td>\n",
       "      <td>14.05</td>\n",
       "      <td>False</td>\n",
       "    </tr>\n",
       "    <tr>\n",
       "      <th>34557</th>\n",
       "      <td>CBLOLA</td>\n",
       "      <td>14.05</td>\n",
       "      <td>False</td>\n",
       "    </tr>\n",
       "    <tr>\n",
       "      <th>34558</th>\n",
       "      <td>CBLOLA</td>\n",
       "      <td>14.05</td>\n",
       "      <td>False</td>\n",
       "    </tr>\n",
       "    <tr>\n",
       "      <th>34559</th>\n",
       "      <td>CBLOLA</td>\n",
       "      <td>14.05</td>\n",
       "      <td>False</td>\n",
       "    </tr>\n",
       "  </tbody>\n",
       "</table>\n",
       "<p>309456 rows × 3 columns</p>\n",
       "</div>"
      ],
      "text/plain": [
       "       league  patch  patch_missing\n",
       "0        LCKC  12.01          False\n",
       "1        LCKC  12.01          False\n",
       "2        LCKC  12.01          False\n",
       "3        LCKC  12.01          False\n",
       "4        LCKC  12.01          False\n",
       "...       ...    ...            ...\n",
       "34555  CBLOLA  14.05          False\n",
       "34556  CBLOLA  14.05          False\n",
       "34557  CBLOLA  14.05          False\n",
       "34558  CBLOLA  14.05          False\n",
       "34559  CBLOLA  14.05          False\n",
       "\n",
       "[309456 rows x 3 columns]"
      ]
     },
     "execution_count": 174,
     "metadata": {},
     "output_type": "execute_result"
    }
   ],
   "source": [
    "league_patch = league[['league', 'patch']]\n",
    "league_patch['patch_missing'] = league_patch['patch'].isna()\n",
    "league_patch"
   ]
  },
  {
   "cell_type": "code",
   "execution_count": 223,
   "id": "40e161c1",
   "metadata": {},
   "outputs": [
    {
     "data": {
      "text/plain": [
       "league\n",
       "AL            0.000000\n",
       "CBLOL         0.000000\n",
       "CBLOLA        0.000000\n",
       "CDF           0.000000\n",
       "CT            0.000000\n",
       "DCup          0.000000\n",
       "DDH           0.000000\n",
       "EBL           0.000000\n",
       "EL            0.000000\n",
       "EM            0.000000\n",
       "EPL           0.000000\n",
       "ESLOL         0.000000\n",
       "EUM           0.000000\n",
       "GL            0.000000\n",
       "GLL           0.000000\n",
       "HC            0.000000\n",
       "HM            0.000000\n",
       "IC            0.000000\n",
       "LAS           0.000000\n",
       "LCK           0.000000\n",
       "LCKC          0.000000\n",
       "LCL           0.000000\n",
       "LCO           0.000000\n",
       "LCS           0.000000\n",
       "LCSA          0.000000\n",
       "LDL           0.791667\n",
       "LEC           0.000000\n",
       "LFL           0.000000\n",
       "LFL2          0.000000\n",
       "LHE           0.000000\n",
       "LIT           0.000000\n",
       "LJL           0.000000\n",
       "LJLA          0.000000\n",
       "LLA           0.000000\n",
       "LMF           0.000000\n",
       "LPL           0.208333\n",
       "LPLOL         0.000000\n",
       "LRN           0.000000\n",
       "LRS           0.000000\n",
       "LVP SL        0.000000\n",
       "MSI           0.000000\n",
       "NACL          0.000000\n",
       "NEXO          0.000000\n",
       "NLC           0.000000\n",
       "PCS           0.000000\n",
       "PGC           0.000000\n",
       "PGN           0.000000\n",
       "PRM           0.000000\n",
       "SL (LATAM)    0.000000\n",
       "TAL           0.000000\n",
       "TCL           0.000000\n",
       "UL            0.000000\n",
       "UPL           0.000000\n",
       "VCS           0.000000\n",
       "VL            0.000000\n",
       "WLDs          0.000000\n",
       "Name: patch_missing, dtype: float64"
      ]
     },
     "execution_count": 223,
     "metadata": {},
     "output_type": "execute_result"
    }
   ],
   "source": [
    "# obs_tvd = league_patch['patch_missing'].value_counts(normalize = True)\n",
    "\n",
    "obs_tvd = league_patch.groupby('league')['patch_missing'].sum() / 288\n",
    "# .sum().apply(lambda s: s / s.sum(), axis = 1).diff().iloc[-1].abs().sum()/2\n",
    "obs_tvd\n",
    "# league_patch['league'].nunique()"
   ]
  },
  {
   "cell_type": "code",
   "execution_count": 200,
   "id": "0321ee05",
   "metadata": {},
   "outputs": [
    {
     "data": {
      "text/plain": [
       "0.011949"
      ]
     },
     "execution_count": 200,
     "metadata": {},
     "output_type": "execute_result"
    }
   ],
   "source": [
    "0.009205 + 0.002744"
   ]
  },
  {
   "cell_type": "code",
   "execution_count": 214,
   "id": "f4c4e205",
   "metadata": {},
   "outputs": [
    {
     "data": {
      "text/plain": [
       "344"
      ]
     },
     "execution_count": 214,
     "metadata": {},
     "output_type": "execute_result"
    }
   ],
   "source": [
    "288 + 56"
   ]
  },
  {
   "cell_type": "code",
   "execution_count": 224,
   "id": "d2c7d71e",
   "metadata": {},
   "outputs": [
    {
     "data": {
      "text/plain": [
       "0.017857142857142856"
      ]
     },
     "execution_count": 224,
     "metadata": {},
     "output_type": "execute_result"
    }
   ],
   "source": [
    "1/56 #uniform distribution"
   ]
  },
  {
   "cell_type": "code",
   "execution_count": 225,
   "id": "c413297b",
   "metadata": {},
   "outputs": [
    {
     "data": {
      "text/plain": [
       "1.0"
      ]
     },
     "execution_count": 225,
     "metadata": {},
     "output_type": "execute_result"
    }
   ],
   "source": [
    "0.017857142857142856 * 56"
   ]
  },
  {
   "cell_type": "code",
   "execution_count": 205,
   "id": "58ece405",
   "metadata": {},
   "outputs": [
    {
     "data": {
      "text/plain": [
       "288"
      ]
     },
     "execution_count": 205,
     "metadata": {},
     "output_type": "execute_result"
    }
   ],
   "source": [
    "228+ 60"
   ]
  },
  {
   "cell_type": "code",
   "execution_count": 215,
   "id": "3f8ca534",
   "metadata": {},
   "outputs": [
    {
     "data": {
      "text/plain": [
       "0.6627906976744186"
      ]
     },
     "execution_count": 215,
     "metadata": {},
     "output_type": "execute_result"
    }
   ],
   "source": [
    "228/344"
   ]
  },
  {
   "cell_type": "code",
   "execution_count": null,
   "id": "5f5e3626",
   "metadata": {},
   "outputs": [],
   "source": [
    "60/"
   ]
  },
  {
   "cell_type": "code",
   "execution_count": 177,
   "id": "aa5a0dee",
   "metadata": {},
   "outputs": [
    {
     "ename": "TypeError",
     "evalue": "unsupported operand type(s) for -: 'float' and 'str'",
     "output_type": "error",
     "traceback": [
      "\u001b[0;31m---------------------------------------------------------------------------\u001b[0m",
      "\u001b[0;31mTypeError\u001b[0m                                 Traceback (most recent call last)",
      "File \u001b[0;32m~/miniforge3/envs/dsc80/lib/python3.8/site-packages/pandas/core/ops/array_ops.py:166\u001b[0m, in \u001b[0;36m_na_arithmetic_op\u001b[0;34m(left, right, op, is_cmp)\u001b[0m\n\u001b[1;32m    165\u001b[0m \u001b[38;5;28;01mtry\u001b[39;00m:\n\u001b[0;32m--> 166\u001b[0m     result \u001b[38;5;241m=\u001b[39m \u001b[43mfunc\u001b[49m\u001b[43m(\u001b[49m\u001b[43mleft\u001b[49m\u001b[43m,\u001b[49m\u001b[43m \u001b[49m\u001b[43mright\u001b[49m\u001b[43m)\u001b[49m\n\u001b[1;32m    167\u001b[0m \u001b[38;5;28;01mexcept\u001b[39;00m \u001b[38;5;167;01mTypeError\u001b[39;00m:\n",
      "File \u001b[0;32m~/miniforge3/envs/dsc80/lib/python3.8/site-packages/pandas/core/computation/expressions.py:239\u001b[0m, in \u001b[0;36mevaluate\u001b[0;34m(op, a, b, use_numexpr)\u001b[0m\n\u001b[1;32m    237\u001b[0m     \u001b[38;5;28;01mif\u001b[39;00m use_numexpr:\n\u001b[1;32m    238\u001b[0m         \u001b[38;5;66;03m# error: \"None\" not callable\u001b[39;00m\n\u001b[0;32m--> 239\u001b[0m         \u001b[38;5;28;01mreturn\u001b[39;00m \u001b[43m_evaluate\u001b[49m\u001b[43m(\u001b[49m\u001b[43mop\u001b[49m\u001b[43m,\u001b[49m\u001b[43m \u001b[49m\u001b[43mop_str\u001b[49m\u001b[43m,\u001b[49m\u001b[43m \u001b[49m\u001b[43ma\u001b[49m\u001b[43m,\u001b[49m\u001b[43m \u001b[49m\u001b[43mb\u001b[49m\u001b[43m)\u001b[49m  \u001b[38;5;66;03m# type: ignore[misc]\u001b[39;00m\n\u001b[1;32m    240\u001b[0m \u001b[38;5;28;01mreturn\u001b[39;00m _evaluate_standard(op, op_str, a, b)\n",
      "File \u001b[0;32m~/miniforge3/envs/dsc80/lib/python3.8/site-packages/pandas/core/computation/expressions.py:69\u001b[0m, in \u001b[0;36m_evaluate_standard\u001b[0;34m(op, op_str, a, b)\u001b[0m\n\u001b[1;32m     68\u001b[0m     _store_test_result(\u001b[38;5;28;01mFalse\u001b[39;00m)\n\u001b[0;32m---> 69\u001b[0m \u001b[38;5;28;01mreturn\u001b[39;00m \u001b[43mop\u001b[49m\u001b[43m(\u001b[49m\u001b[43ma\u001b[49m\u001b[43m,\u001b[49m\u001b[43m \u001b[49m\u001b[43mb\u001b[49m\u001b[43m)\u001b[49m\n",
      "\u001b[0;31mTypeError\u001b[0m: unsupported operand type(s) for -: 'float' and 'str'",
      "\nDuring handling of the above exception, another exception occurred:\n",
      "\u001b[0;31mTypeError\u001b[0m                                 Traceback (most recent call last)",
      "Cell \u001b[0;32mIn[177], line 27\u001b[0m\n\u001b[1;32m     16\u001b[0m tvds \u001b[38;5;241m=\u001b[39m []\n\u001b[1;32m     17\u001b[0m \u001b[38;5;66;03m# for _ in range(n_reps):\u001b[39;00m\n\u001b[1;32m     18\u001b[0m     \n\u001b[1;32m     19\u001b[0m     \n\u001b[0;32m   (...)\u001b[0m\n\u001b[1;32m     24\u001b[0m \u001b[38;5;66;03m#     # Compute and store TVD\u001b[39;00m\n\u001b[1;32m     25\u001b[0m \u001b[38;5;66;03m#     tvds.append(tvd(shuffled))\u001b[39;00m\n\u001b[0;32m---> 27\u001b[0m obs_tvd \u001b[38;5;241m=\u001b[39m \u001b[43mcalc_tvd\u001b[49m\u001b[43m(\u001b[49m\u001b[43mshuffled\u001b[49m\u001b[43m)\u001b[49m\n\u001b[1;32m     31\u001b[0m \u001b[38;5;28mprint\u001b[39m(obs_tvd)\n",
      "Cell \u001b[0;32mIn[177], line 11\u001b[0m, in \u001b[0;36mcalc_tvd\u001b[0;34m(data)\u001b[0m\n\u001b[1;32m      1\u001b[0m \u001b[38;5;28;01mdef\u001b[39;00m \u001b[38;5;21mcalc_tvd\u001b[39m(data):\n\u001b[1;32m      2\u001b[0m \u001b[38;5;66;03m#     return (data\u001b[39;00m\n\u001b[1;32m      3\u001b[0m \u001b[38;5;66;03m#            .groupby('patch_missing')\u001b[39;00m\n\u001b[0;32m   (...)\u001b[0m\n\u001b[1;32m      9\u001b[0m \u001b[38;5;66;03m#            .sum() / 2\u001b[39;00m\n\u001b[1;32m     10\u001b[0m \u001b[38;5;66;03m#            )\u001b[39;00m\n\u001b[0;32m---> 11\u001b[0m     \u001b[38;5;28;01mreturn\u001b[39;00m \u001b[43mdata\u001b[49m\u001b[38;5;241;43m.\u001b[39;49m\u001b[43mdiff\u001b[49m\u001b[43m(\u001b[49m\u001b[43maxis\u001b[49m\u001b[43m \u001b[49m\u001b[38;5;241;43m=\u001b[39;49m\u001b[43m \u001b[49m\u001b[38;5;241;43m1\u001b[39;49m\u001b[43m)\u001b[49m\u001b[38;5;241m.\u001b[39miloc[: \u001b[38;5;241m-\u001b[39m\u001b[38;5;241m1\u001b[39m]\u001b[38;5;241m.\u001b[39mabs()\u001b[38;5;241m.\u001b[39msum() \u001b[38;5;241m/\u001b[39m \u001b[38;5;241m2\u001b[39m\n",
      "File \u001b[0;32m~/miniforge3/envs/dsc80/lib/python3.8/site-packages/pandas/core/frame.py:8434\u001b[0m, in \u001b[0;36mDataFrame.diff\u001b[0;34m(self, periods, axis)\u001b[0m\n\u001b[1;32m   8432\u001b[0m axis \u001b[38;5;241m=\u001b[39m \u001b[38;5;28mself\u001b[39m\u001b[38;5;241m.\u001b[39m_get_axis_number(axis)\n\u001b[1;32m   8433\u001b[0m \u001b[38;5;28;01mif\u001b[39;00m axis \u001b[38;5;241m==\u001b[39m \u001b[38;5;241m1\u001b[39m \u001b[38;5;129;01mand\u001b[39;00m periods \u001b[38;5;241m!=\u001b[39m \u001b[38;5;241m0\u001b[39m:\n\u001b[0;32m-> 8434\u001b[0m     \u001b[38;5;28;01mreturn\u001b[39;00m \u001b[38;5;28;43mself\u001b[39;49m\u001b[43m \u001b[49m\u001b[38;5;241;43m-\u001b[39;49m\u001b[43m \u001b[49m\u001b[38;5;28;43mself\u001b[39;49m\u001b[38;5;241;43m.\u001b[39;49m\u001b[43mshift\u001b[49m\u001b[43m(\u001b[49m\u001b[43mperiods\u001b[49m\u001b[43m,\u001b[49m\u001b[43m \u001b[49m\u001b[43maxis\u001b[49m\u001b[38;5;241;43m=\u001b[39;49m\u001b[43maxis\u001b[49m\u001b[43m)\u001b[49m\n\u001b[1;32m   8436\u001b[0m new_data \u001b[38;5;241m=\u001b[39m \u001b[38;5;28mself\u001b[39m\u001b[38;5;241m.\u001b[39m_mgr\u001b[38;5;241m.\u001b[39mdiff(n\u001b[38;5;241m=\u001b[39mperiods, axis\u001b[38;5;241m=\u001b[39maxis)\n\u001b[1;32m   8437\u001b[0m \u001b[38;5;28;01mreturn\u001b[39;00m \u001b[38;5;28mself\u001b[39m\u001b[38;5;241m.\u001b[39m_constructor(new_data)\u001b[38;5;241m.\u001b[39m__finalize__(\u001b[38;5;28mself\u001b[39m, \u001b[38;5;124m\"\u001b[39m\u001b[38;5;124mdiff\u001b[39m\u001b[38;5;124m\"\u001b[39m)\n",
      "File \u001b[0;32m~/miniforge3/envs/dsc80/lib/python3.8/site-packages/pandas/core/ops/common.py:69\u001b[0m, in \u001b[0;36m_unpack_zerodim_and_defer.<locals>.new_method\u001b[0;34m(self, other)\u001b[0m\n\u001b[1;32m     65\u001b[0m             \u001b[38;5;28;01mreturn\u001b[39;00m \u001b[38;5;28mNotImplemented\u001b[39m\n\u001b[1;32m     67\u001b[0m other \u001b[38;5;241m=\u001b[39m item_from_zerodim(other)\n\u001b[0;32m---> 69\u001b[0m \u001b[38;5;28;01mreturn\u001b[39;00m \u001b[43mmethod\u001b[49m\u001b[43m(\u001b[49m\u001b[38;5;28;43mself\u001b[39;49m\u001b[43m,\u001b[49m\u001b[43m \u001b[49m\u001b[43mother\u001b[49m\u001b[43m)\u001b[49m\n",
      "File \u001b[0;32m~/miniforge3/envs/dsc80/lib/python3.8/site-packages/pandas/core/arraylike.py:100\u001b[0m, in \u001b[0;36mOpsMixin.__sub__\u001b[0;34m(self, other)\u001b[0m\n\u001b[1;32m     98\u001b[0m \u001b[38;5;129m@unpack_zerodim_and_defer\u001b[39m(\u001b[38;5;124m\"\u001b[39m\u001b[38;5;124m__sub__\u001b[39m\u001b[38;5;124m\"\u001b[39m)\n\u001b[1;32m     99\u001b[0m \u001b[38;5;28;01mdef\u001b[39;00m \u001b[38;5;21m__sub__\u001b[39m(\u001b[38;5;28mself\u001b[39m, other):\n\u001b[0;32m--> 100\u001b[0m     \u001b[38;5;28;01mreturn\u001b[39;00m \u001b[38;5;28;43mself\u001b[39;49m\u001b[38;5;241;43m.\u001b[39;49m\u001b[43m_arith_method\u001b[49m\u001b[43m(\u001b[49m\u001b[43mother\u001b[49m\u001b[43m,\u001b[49m\u001b[43m \u001b[49m\u001b[43moperator\u001b[49m\u001b[38;5;241;43m.\u001b[39;49m\u001b[43msub\u001b[49m\u001b[43m)\u001b[49m\n",
      "File \u001b[0;32m~/miniforge3/envs/dsc80/lib/python3.8/site-packages/pandas/core/frame.py:6866\u001b[0m, in \u001b[0;36mDataFrame._arith_method\u001b[0;34m(self, other, op)\u001b[0m\n\u001b[1;32m   6862\u001b[0m other \u001b[38;5;241m=\u001b[39m ops\u001b[38;5;241m.\u001b[39mmaybe_prepare_scalar_for_op(other, (\u001b[38;5;28mself\u001b[39m\u001b[38;5;241m.\u001b[39mshape[axis],))\n\u001b[1;32m   6864\u001b[0m \u001b[38;5;28mself\u001b[39m, other \u001b[38;5;241m=\u001b[39m ops\u001b[38;5;241m.\u001b[39malign_method_FRAME(\u001b[38;5;28mself\u001b[39m, other, axis, flex\u001b[38;5;241m=\u001b[39m\u001b[38;5;28;01mTrue\u001b[39;00m, level\u001b[38;5;241m=\u001b[39m\u001b[38;5;28;01mNone\u001b[39;00m)\n\u001b[0;32m-> 6866\u001b[0m new_data \u001b[38;5;241m=\u001b[39m \u001b[38;5;28;43mself\u001b[39;49m\u001b[38;5;241;43m.\u001b[39;49m\u001b[43m_dispatch_frame_op\u001b[49m\u001b[43m(\u001b[49m\u001b[43mother\u001b[49m\u001b[43m,\u001b[49m\u001b[43m \u001b[49m\u001b[43mop\u001b[49m\u001b[43m,\u001b[49m\u001b[43m \u001b[49m\u001b[43maxis\u001b[49m\u001b[38;5;241;43m=\u001b[39;49m\u001b[43maxis\u001b[49m\u001b[43m)\u001b[49m\n\u001b[1;32m   6867\u001b[0m \u001b[38;5;28;01mreturn\u001b[39;00m \u001b[38;5;28mself\u001b[39m\u001b[38;5;241m.\u001b[39m_construct_result(new_data)\n",
      "File \u001b[0;32m~/miniforge3/envs/dsc80/lib/python3.8/site-packages/pandas/core/frame.py:6905\u001b[0m, in \u001b[0;36mDataFrame._dispatch_frame_op\u001b[0;34m(self, right, func, axis)\u001b[0m\n\u001b[1;32m   6899\u001b[0m     \u001b[38;5;66;03m# TODO: The previous assertion `assert right._indexed_same(self)`\u001b[39;00m\n\u001b[1;32m   6900\u001b[0m     \u001b[38;5;66;03m#  fails in cases with empty columns reached via\u001b[39;00m\n\u001b[1;32m   6901\u001b[0m     \u001b[38;5;66;03m#  _frame_arith_method_with_reindex\u001b[39;00m\n\u001b[1;32m   6902\u001b[0m \n\u001b[1;32m   6903\u001b[0m     \u001b[38;5;66;03m# TODO operate_blockwise expects a manager of the same type\u001b[39;00m\n\u001b[1;32m   6904\u001b[0m     \u001b[38;5;28;01mwith\u001b[39;00m np\u001b[38;5;241m.\u001b[39merrstate(\u001b[38;5;28mall\u001b[39m\u001b[38;5;241m=\u001b[39m\u001b[38;5;124m\"\u001b[39m\u001b[38;5;124mignore\u001b[39m\u001b[38;5;124m\"\u001b[39m):\n\u001b[0;32m-> 6905\u001b[0m         bm \u001b[38;5;241m=\u001b[39m \u001b[38;5;28;43mself\u001b[39;49m\u001b[38;5;241;43m.\u001b[39;49m\u001b[43m_mgr\u001b[49m\u001b[38;5;241;43m.\u001b[39;49m\u001b[43moperate_blockwise\u001b[49m\u001b[43m(\u001b[49m\n\u001b[1;32m   6906\u001b[0m \u001b[43m            \u001b[49m\u001b[38;5;66;43;03m# error: Argument 1 to \"operate_blockwise\" of \"ArrayManager\" has\u001b[39;49;00m\n\u001b[1;32m   6907\u001b[0m \u001b[43m            \u001b[49m\u001b[38;5;66;43;03m# incompatible type \"Union[ArrayManager, BlockManager]\"; expected\u001b[39;49;00m\n\u001b[1;32m   6908\u001b[0m \u001b[43m            \u001b[49m\u001b[38;5;66;43;03m# \"ArrayManager\"\u001b[39;49;00m\n\u001b[1;32m   6909\u001b[0m \u001b[43m            \u001b[49m\u001b[38;5;66;43;03m# error: Argument 1 to \"operate_blockwise\" of \"BlockManager\" has\u001b[39;49;00m\n\u001b[1;32m   6910\u001b[0m \u001b[43m            \u001b[49m\u001b[38;5;66;43;03m# incompatible type \"Union[ArrayManager, BlockManager]\"; expected\u001b[39;49;00m\n\u001b[1;32m   6911\u001b[0m \u001b[43m            \u001b[49m\u001b[38;5;66;43;03m# \"BlockManager\"\u001b[39;49;00m\n\u001b[1;32m   6912\u001b[0m \u001b[43m            \u001b[49m\u001b[43mright\u001b[49m\u001b[38;5;241;43m.\u001b[39;49m\u001b[43m_mgr\u001b[49m\u001b[43m,\u001b[49m\u001b[43m  \u001b[49m\u001b[38;5;66;43;03m# type: ignore[arg-type]\u001b[39;49;00m\n\u001b[1;32m   6913\u001b[0m \u001b[43m            \u001b[49m\u001b[43marray_op\u001b[49m\u001b[43m,\u001b[49m\n\u001b[1;32m   6914\u001b[0m \u001b[43m        \u001b[49m\u001b[43m)\u001b[49m\n\u001b[1;32m   6915\u001b[0m     \u001b[38;5;28;01mreturn\u001b[39;00m \u001b[38;5;28mtype\u001b[39m(\u001b[38;5;28mself\u001b[39m)(bm)\n\u001b[1;32m   6917\u001b[0m \u001b[38;5;28;01melif\u001b[39;00m \u001b[38;5;28misinstance\u001b[39m(right, Series) \u001b[38;5;129;01mand\u001b[39;00m axis \u001b[38;5;241m==\u001b[39m \u001b[38;5;241m1\u001b[39m:\n\u001b[1;32m   6918\u001b[0m     \u001b[38;5;66;03m# axis=1 means we want to operate row-by-row\u001b[39;00m\n",
      "File \u001b[0;32m~/miniforge3/envs/dsc80/lib/python3.8/site-packages/pandas/core/internals/managers.py:1303\u001b[0m, in \u001b[0;36mBlockManager.operate_blockwise\u001b[0;34m(self, other, array_op)\u001b[0m\n\u001b[1;32m   1299\u001b[0m \u001b[38;5;28;01mdef\u001b[39;00m \u001b[38;5;21moperate_blockwise\u001b[39m(\u001b[38;5;28mself\u001b[39m, other: BlockManager, array_op) \u001b[38;5;241m-\u001b[39m\u001b[38;5;241m>\u001b[39m BlockManager:\n\u001b[1;32m   1300\u001b[0m \u001b[38;5;250m    \u001b[39m\u001b[38;5;124;03m\"\"\"\u001b[39;00m\n\u001b[1;32m   1301\u001b[0m \u001b[38;5;124;03m    Apply array_op blockwise with another (aligned) BlockManager.\u001b[39;00m\n\u001b[1;32m   1302\u001b[0m \u001b[38;5;124;03m    \"\"\"\u001b[39;00m\n\u001b[0;32m-> 1303\u001b[0m     \u001b[38;5;28;01mreturn\u001b[39;00m \u001b[43moperate_blockwise\u001b[49m\u001b[43m(\u001b[49m\u001b[38;5;28;43mself\u001b[39;49m\u001b[43m,\u001b[49m\u001b[43m \u001b[49m\u001b[43mother\u001b[49m\u001b[43m,\u001b[49m\u001b[43m \u001b[49m\u001b[43marray_op\u001b[49m\u001b[43m)\u001b[49m\n",
      "File \u001b[0;32m~/miniforge3/envs/dsc80/lib/python3.8/site-packages/pandas/core/internals/ops.py:57\u001b[0m, in \u001b[0;36moperate_blockwise\u001b[0;34m(left, right, array_op)\u001b[0m\n\u001b[1;32m     55\u001b[0m res_blks: \u001b[38;5;28mlist\u001b[39m[Block] \u001b[38;5;241m=\u001b[39m []\n\u001b[1;32m     56\u001b[0m \u001b[38;5;28;01mfor\u001b[39;00m lvals, rvals, locs, left_ea, right_ea, rblk \u001b[38;5;129;01min\u001b[39;00m _iter_block_pairs(left, right):\n\u001b[0;32m---> 57\u001b[0m     res_values \u001b[38;5;241m=\u001b[39m \u001b[43marray_op\u001b[49m\u001b[43m(\u001b[49m\u001b[43mlvals\u001b[49m\u001b[43m,\u001b[49m\u001b[43m \u001b[49m\u001b[43mrvals\u001b[49m\u001b[43m)\u001b[49m\n\u001b[1;32m     58\u001b[0m     \u001b[38;5;28;01mif\u001b[39;00m left_ea \u001b[38;5;129;01mand\u001b[39;00m \u001b[38;5;129;01mnot\u001b[39;00m right_ea \u001b[38;5;129;01mand\u001b[39;00m \u001b[38;5;28mhasattr\u001b[39m(res_values, \u001b[38;5;124m\"\u001b[39m\u001b[38;5;124mreshape\u001b[39m\u001b[38;5;124m\"\u001b[39m):\n\u001b[1;32m     59\u001b[0m         res_values \u001b[38;5;241m=\u001b[39m res_values\u001b[38;5;241m.\u001b[39mreshape(\u001b[38;5;241m1\u001b[39m, \u001b[38;5;241m-\u001b[39m\u001b[38;5;241m1\u001b[39m)\n",
      "File \u001b[0;32m~/miniforge3/envs/dsc80/lib/python3.8/site-packages/pandas/core/ops/array_ops.py:224\u001b[0m, in \u001b[0;36marithmetic_op\u001b[0;34m(left, right, op)\u001b[0m\n\u001b[1;32m    219\u001b[0m \u001b[38;5;28;01melse\u001b[39;00m:\n\u001b[1;32m    220\u001b[0m     \u001b[38;5;66;03m# TODO we should handle EAs consistently and move this check before the if/else\u001b[39;00m\n\u001b[1;32m    221\u001b[0m     \u001b[38;5;66;03m# (https://github.com/pandas-dev/pandas/issues/41165)\u001b[39;00m\n\u001b[1;32m    222\u001b[0m     _bool_arith_check(op, left, right)\n\u001b[0;32m--> 224\u001b[0m     res_values \u001b[38;5;241m=\u001b[39m \u001b[43m_na_arithmetic_op\u001b[49m\u001b[43m(\u001b[49m\u001b[43mleft\u001b[49m\u001b[43m,\u001b[49m\u001b[43m \u001b[49m\u001b[43mright\u001b[49m\u001b[43m,\u001b[49m\u001b[43m \u001b[49m\u001b[43mop\u001b[49m\u001b[43m)\u001b[49m\n\u001b[1;32m    226\u001b[0m \u001b[38;5;28;01mreturn\u001b[39;00m res_values\n",
      "File \u001b[0;32m~/miniforge3/envs/dsc80/lib/python3.8/site-packages/pandas/core/ops/array_ops.py:173\u001b[0m, in \u001b[0;36m_na_arithmetic_op\u001b[0;34m(left, right, op, is_cmp)\u001b[0m\n\u001b[1;32m    167\u001b[0m \u001b[38;5;28;01mexcept\u001b[39;00m \u001b[38;5;167;01mTypeError\u001b[39;00m:\n\u001b[1;32m    168\u001b[0m     \u001b[38;5;28;01mif\u001b[39;00m is_object_dtype(left) \u001b[38;5;129;01mor\u001b[39;00m is_object_dtype(right) \u001b[38;5;129;01mand\u001b[39;00m \u001b[38;5;129;01mnot\u001b[39;00m is_cmp:\n\u001b[1;32m    169\u001b[0m         \u001b[38;5;66;03m# For object dtype, fallback to a masked operation (only operating\u001b[39;00m\n\u001b[1;32m    170\u001b[0m         \u001b[38;5;66;03m#  on the non-missing values)\u001b[39;00m\n\u001b[1;32m    171\u001b[0m         \u001b[38;5;66;03m# Don't do this for comparisons, as that will handle complex numbers\u001b[39;00m\n\u001b[1;32m    172\u001b[0m         \u001b[38;5;66;03m#  incorrectly, see GH#32047\u001b[39;00m\n\u001b[0;32m--> 173\u001b[0m         result \u001b[38;5;241m=\u001b[39m \u001b[43m_masked_arith_op\u001b[49m\u001b[43m(\u001b[49m\u001b[43mleft\u001b[49m\u001b[43m,\u001b[49m\u001b[43m \u001b[49m\u001b[43mright\u001b[49m\u001b[43m,\u001b[49m\u001b[43m \u001b[49m\u001b[43mop\u001b[49m\u001b[43m)\u001b[49m\n\u001b[1;32m    174\u001b[0m     \u001b[38;5;28;01melse\u001b[39;00m:\n\u001b[1;32m    175\u001b[0m         \u001b[38;5;28;01mraise\u001b[39;00m\n",
      "File \u001b[0;32m~/miniforge3/envs/dsc80/lib/python3.8/site-packages/pandas/core/ops/array_ops.py:112\u001b[0m, in \u001b[0;36m_masked_arith_op\u001b[0;34m(x, y, op)\u001b[0m\n\u001b[1;32m    110\u001b[0m     \u001b[38;5;66;03m# See GH#5284, GH#5035, GH#19448 for historical reference\u001b[39;00m\n\u001b[1;32m    111\u001b[0m     \u001b[38;5;28;01mif\u001b[39;00m mask\u001b[38;5;241m.\u001b[39many():\n\u001b[0;32m--> 112\u001b[0m         result[mask] \u001b[38;5;241m=\u001b[39m \u001b[43mop\u001b[49m\u001b[43m(\u001b[49m\u001b[43mxrav\u001b[49m\u001b[43m[\u001b[49m\u001b[43mmask\u001b[49m\u001b[43m]\u001b[49m\u001b[43m,\u001b[49m\u001b[43m \u001b[49m\u001b[43myrav\u001b[49m\u001b[43m[\u001b[49m\u001b[43mmask\u001b[49m\u001b[43m]\u001b[49m\u001b[43m)\u001b[49m\n\u001b[1;32m    114\u001b[0m \u001b[38;5;28;01melse\u001b[39;00m:\n\u001b[1;32m    115\u001b[0m     \u001b[38;5;28;01mif\u001b[39;00m \u001b[38;5;129;01mnot\u001b[39;00m is_scalar(y):\n",
      "\u001b[0;31mTypeError\u001b[0m: unsupported operand type(s) for -: 'float' and 'str'"
     ]
    }
   ],
   "source": [
    "def calc_tvd(data):\n",
    "#     return (data\n",
    "#            .groupby('patch_missing')\n",
    "#            .sum()\n",
    "#            .apply(lambda s: s / s.sum(), axis = 1)\n",
    "#            .diff()\n",
    "#            .iloc[-1]\n",
    "#            .abs()\n",
    "#            .sum() / 2\n",
    "#            )\n",
    "    return data.diff(axis = 1).iloc[: -1].abs().sum() / 2\n",
    "\n",
    "n_reps = 500\n",
    "shuffled = league_patch.copy()\n",
    "\n",
    "tvds = []\n",
    "# for _ in range(n_reps):\n",
    "    \n",
    "    \n",
    "#     # Shuffle the leagues and store them in DataFrame\n",
    "#     shuffled['patch_missing']= np.random.permutation(shuffled['patch_missing'])\n",
    "\n",
    "    \n",
    "#     # Compute and store TVD\n",
    "#     tvds.append(tvd(shuffled))\n",
    "\n",
    "obs_tvd = calc_tvd(shuffled)\n",
    "\n",
    "    \n",
    "    \n",
    "print(obs_tvd)\n",
    "    \n",
    "    "
   ]
  },
  {
   "cell_type": "code",
   "execution_count": null,
   "id": "cfeea60d",
   "metadata": {},
   "outputs": [],
   "source": [
    "obs_tvd = "
   ]
  },
  {
   "cell_type": "code",
   "execution_count": null,
   "id": "b8ae30bc",
   "metadata": {},
   "outputs": [],
   "source": [
    "league22['patch'].unique()\n",
    "#12"
   ]
  },
  {
   "cell_type": "code",
   "execution_count": 87,
   "id": "9bd3a0e9",
   "metadata": {},
   "outputs": [
    {
     "data": {
      "text/plain": [
       "array([13.01, 13.03, 13.04, 13.05, 13.06,   nan, 13.07, 13.08, 13.09,\n",
       "       13.1 , 13.11, 13.12, 13.13, 13.14, 13.15, 13.16, 13.17, 13.18,\n",
       "       13.19, 13.2 , 13.21, 13.22, 13.24])"
      ]
     },
     "execution_count": 87,
     "metadata": {},
     "output_type": "execute_result"
    }
   ],
   "source": [
    "league23['patch'].unique()\n",
    "#7 before 13.09\n",
    "\n",
    "# 14"
   ]
  },
  {
   "cell_type": "code",
   "execution_count": 88,
   "id": "d7b3d925",
   "metadata": {},
   "outputs": [
    {
     "data": {
      "text/plain": [
       "array([13.24, 14.01, 14.02, 14.03,   nan, 14.04, 14.05])"
      ]
     },
     "execution_count": 88,
     "metadata": {},
     "output_type": "execute_result"
    }
   ],
   "source": [
    "league24['patch'].unique()\n",
    "# 6 "
   ]
  },
  {
   "cell_type": "markdown",
   "id": "b3d45f8a",
   "metadata": {},
   "source": [
    "### prediction model"
   ]
  },
  {
   "cell_type": "code",
   "execution_count": null,
   "id": "f40cad60",
   "metadata": {},
   "outputs": [],
   "source": []
  }
 ],
 "metadata": {
  "kernelspec": {
   "display_name": "Python 3 (ipykernel)",
   "language": "python",
   "name": "python3"
  },
  "language_info": {
   "codemirror_mode": {
    "name": "ipython",
    "version": 3
   },
   "file_extension": ".py",
   "mimetype": "text/x-python",
   "name": "python",
   "nbconvert_exporter": "python",
   "pygments_lexer": "ipython3",
   "version": "3.8.18"
  }
 },
 "nbformat": 4,
 "nbformat_minor": 5
}
