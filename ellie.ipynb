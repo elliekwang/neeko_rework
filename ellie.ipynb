{
 "cells": [
  {
   "cell_type": "code",
   "execution_count": 279,
   "id": "64b020fb",
   "metadata": {},
   "outputs": [
    {
     "name": "stderr",
     "output_type": "stream",
     "text": [
      "/Users/elliekwang/miniforge3/envs/dsc80/lib/python3.8/site-packages/IPython/core/interactiveshell.py:3508: DtypeWarning: Columns (2) have mixed types.Specify dtype option on import or set low_memory=False.\n",
      "  exec(code_obj, self.user_global_ns, self.user_ns)\n"
     ]
    },
    {
     "data": {
      "text/plain": [
       "(309456, 131)"
      ]
     },
     "execution_count": 279,
     "metadata": {},
     "output_type": "execute_result"
    }
   ],
   "source": [
    "import pandas as pd\n",
    "import numpy as np\n",
    "from pathlib import Path\n",
    "\n",
    "import plotly.express as px\n",
    "pd.options.plotting.backend = 'plotly'\n",
    "\n",
    "# from dsc80_utils import * # Feel free to uncomment and use this.\n",
    "\n",
    "fp1 = '../data/league_2023.csv'\n",
    "\n",
    "fp2 = '../data/league_2022.csv'\n",
    "\n",
    "fp3 = '../data/league_2024.csv'\n",
    "\n",
    "league23 = pd.read_csv(fp1)\n",
    "league23[league23['patch'] == 13.09]\n",
    "\n",
    "league22 = pd.read_csv(fp2)\n",
    "\n",
    "league24 = pd.read_csv(fp3)\n",
    "\n",
    "league22\n",
    "\n",
    "# list(league.columns)\n",
    "\n",
    "# neeko = league[league['champion'] == 'Neeko']\n",
    "\n",
    "# neeko = neeko[neeko['patch'] == 13.9]\n",
    "\n",
    "\n",
    "# neeko['patch'].value_counts()\n",
    "\n",
    "# neeko\n",
    "\n",
    "\n",
    "league22[league22['champion'] == 'neeko']\n",
    "league22['champion'] == 'neeko'\n",
    "\n",
    "\n",
    "#hi joyce\n",
    "\n",
    "\n",
    "league = pd.concat([league22, league23, league24])\n",
    "league.shape\n",
    "# neeko = league[league['champion'] == 'Neeko']\n",
    "# neeko\n",
    "\n",
    "# neeko[neeko['gameid'] == 'ESPORTSTMNT02_2557639']"
   ]
  },
  {
   "cell_type": "markdown",
   "id": "22da0ecc",
   "metadata": {},
   "source": [
    "### Step 1: Data Cleaning"
   ]
  },
  {
   "cell_type": "code",
   "execution_count": 280,
   "id": "d10c2dca",
   "metadata": {},
   "outputs": [],
   "source": [
    "pre_cleaning = league.copy()"
   ]
  },
  {
   "cell_type": "code",
   "execution_count": 281,
   "id": "09446ae8",
   "metadata": {},
   "outputs": [],
   "source": [
    "# binary variable for missing patch\n",
    "league['patch_missing'] = (league['patch'].isna()).astype(int)\n",
    "\n",
    "# impute missing patches\n",
    "patches = {\n",
    "    '2022-08-11 08:37:33':12.15, \n",
    "    '2022-08-12 06:08:39':12.15, \n",
    "    '2022-08-12 07:04:40':12.15, \n",
    "    '2022-08-12 07:52:33':12.15, \n",
    "    '2022-08-12 08:51:49':12.15, \n",
    "    '2022-08-12 09:58:13':12.15, \n",
    "    '2022-08-13 06:08:31':12.15, \n",
    "    '2022-08-13 06:55:35':12.15, \n",
    "    '2022-08-13 06:08:31':12.15,\n",
    "    '2022-08-13 06:55:35':12.15,\n",
    "    '2022-08-13 07:47:42':12.15,\n",
    "    '2023-04-05 09:17:28':13.07,\n",
    "    '2023-04-05 10:18:03':13.07, \n",
    "    '2023-04-05 11:23:10':13.07,\n",
    "    '2023-04-05 12:21:13':13.07,\n",
    "    '2023-04-05 13:10:18':13.07,\n",
    "    '2023-05-08 06:12:19':13.09,\n",
    "    '2023-05-08 07:07:13':13.09,\n",
    "    '2023-05-08 08:12:21':13.09,\n",
    "    '2023-05-08 09:06:19':13.09,\n",
    "    '2023-05-08 10:08:36':13.09,\n",
    "    '2024-02-21 06:02:57':14.03,\n",
    "    '2024-02-21 06:56:52':14.03, \n",
    "    '2024-02-21 07:43:27':14.03,\n",
    "    '2024-02-21 08:31:33':14.03, \n",
    "    '2024-02-21 09:17:02':14.03\n",
    "}\n",
    "# league['patch'] = league['patch'].fillna(league['date'])\n",
    "# league['patch'] = league['patch'].replace(patches)\n",
    "# print(league['patch'].unique())\n",
    "\n",
    "# # only have patch 12.10 - present\n",
    "# league = league[(league['patch'] >= 12.10)]\n",
    "\n",
    "# # filter out summary rows \n",
    "# league = league[(league['participantid'] != 100) & (league['participantid'] != 200)]\n",
    "\n",
    "# # create a binary variable for before and after Patch 13.9\n",
    "# league['post_rework'] = (league['patch'] >= 13.09).astype(int)\n",
    "\n",
    "# # create a binary variable for whether neeko played in the game\n",
    "# league['neeko'] = (league['champion'] == 'Neeko').astype(int)\n"
   ]
  },
  {
   "cell_type": "code",
   "execution_count": 282,
   "id": "f1b75011",
   "metadata": {},
   "outputs": [],
   "source": [
    "neeko = league[league['champion'] == 'Neeko']\n",
    "neeko = neeko[neeko['datacompleteness'] != 'partial']\n",
    "# neeko\n"
   ]
  },
  {
   "cell_type": "code",
   "execution_count": 283,
   "id": "9893a439",
   "metadata": {},
   "outputs": [
    {
     "data": {
      "text/plain": [
       "0        NaN\n",
       "1        NaN\n",
       "2        NaN\n",
       "3        NaN\n",
       "4        NaN\n",
       "        ... \n",
       "34555    NaN\n",
       "34556    NaN\n",
       "34557    NaN\n",
       "34558    1.0\n",
       "34559    0.0\n",
       "Name: firstherald, Length: 309456, dtype: float64"
      ]
     },
     "execution_count": 283,
     "metadata": {},
     "output_type": "execute_result"
    }
   ],
   "source": [
    "# for col in league.columns:\n",
    "#     print(col)\n",
    "\n",
    "league['firstdragon']\n",
    "\n",
    "league['firstherald']\n",
    "\n",
    "# firstdragon firstherald "
   ]
  },
  {
   "cell_type": "code",
   "execution_count": 287,
   "id": "a523295a",
   "metadata": {},
   "outputs": [
    {
     "ename": "KeyError",
     "evalue": "False",
     "output_type": "error",
     "traceback": [
      "\u001b[0;31m---------------------------------------------------------------------------\u001b[0m",
      "\u001b[0;31mKeyError\u001b[0m                                  Traceback (most recent call last)",
      "File \u001b[0;32m~/miniforge3/envs/dsc80/lib/python3.8/site-packages/pandas/core/indexes/base.py:3361\u001b[0m, in \u001b[0;36mIndex.get_loc\u001b[0;34m(self, key, method, tolerance)\u001b[0m\n\u001b[1;32m   3360\u001b[0m \u001b[38;5;28;01mtry\u001b[39;00m:\n\u001b[0;32m-> 3361\u001b[0m     \u001b[38;5;28;01mreturn\u001b[39;00m \u001b[38;5;28;43mself\u001b[39;49m\u001b[38;5;241;43m.\u001b[39;49m\u001b[43m_engine\u001b[49m\u001b[38;5;241;43m.\u001b[39;49m\u001b[43mget_loc\u001b[49m\u001b[43m(\u001b[49m\u001b[43mcasted_key\u001b[49m\u001b[43m)\u001b[49m\n\u001b[1;32m   3362\u001b[0m \u001b[38;5;28;01mexcept\u001b[39;00m \u001b[38;5;167;01mKeyError\u001b[39;00m \u001b[38;5;28;01mas\u001b[39;00m err:\n",
      "File \u001b[0;32m~/miniforge3/envs/dsc80/lib/python3.8/site-packages/pandas/_libs/index.pyx:76\u001b[0m, in \u001b[0;36mpandas._libs.index.IndexEngine.get_loc\u001b[0;34m()\u001b[0m\n",
      "File \u001b[0;32m~/miniforge3/envs/dsc80/lib/python3.8/site-packages/pandas/_libs/index.pyx:108\u001b[0m, in \u001b[0;36mpandas._libs.index.IndexEngine.get_loc\u001b[0;34m()\u001b[0m\n",
      "File \u001b[0;32mpandas/_libs/hashtable_class_helper.pxi:5198\u001b[0m, in \u001b[0;36mpandas._libs.hashtable.PyObjectHashTable.get_item\u001b[0;34m()\u001b[0m\n",
      "File \u001b[0;32mpandas/_libs/hashtable_class_helper.pxi:5206\u001b[0m, in \u001b[0;36mpandas._libs.hashtable.PyObjectHashTable.get_item\u001b[0;34m()\u001b[0m\n",
      "\u001b[0;31mKeyError\u001b[0m: False",
      "\nThe above exception was the direct cause of the following exception:\n",
      "\u001b[0;31mKeyError\u001b[0m                                  Traceback (most recent call last)",
      "Cell \u001b[0;32mIn[287], line 19\u001b[0m\n\u001b[1;32m     11\u001b[0m sum_games\n\u001b[1;32m     13\u001b[0m \u001b[38;5;66;03m# league[league['participantid' != 100]]\u001b[39;00m\n\u001b[1;32m     14\u001b[0m \n\u001b[1;32m     15\u001b[0m \n\u001b[1;32m     16\u001b[0m \u001b[38;5;66;03m# league['participantid']\u001b[39;00m\n\u001b[0;32m---> 19\u001b[0m league[\u001b[43mleague\u001b[49m\u001b[43m[\u001b[49m\u001b[38;5;124;43m'\u001b[39;49m\u001b[38;5;124;43mparticipantid\u001b[39;49m\u001b[38;5;124;43m'\u001b[39;49m\u001b[43m \u001b[49m\u001b[38;5;241;43m==\u001b[39;49m\u001b[43m \u001b[49m\u001b[38;5;241;43m100\u001b[39;49m\u001b[43m]\u001b[49m]\n\u001b[1;32m     21\u001b[0m league[\u001b[38;5;124m'\u001b[39m\u001b[38;5;124mparticipantid\u001b[39m\u001b[38;5;124m'\u001b[39m]\u001b[38;5;241m.\u001b[39mvalue_counts()\n",
      "File \u001b[0;32m~/miniforge3/envs/dsc80/lib/python3.8/site-packages/pandas/core/frame.py:3458\u001b[0m, in \u001b[0;36mDataFrame.__getitem__\u001b[0;34m(self, key)\u001b[0m\n\u001b[1;32m   3456\u001b[0m \u001b[38;5;28;01mif\u001b[39;00m \u001b[38;5;28mself\u001b[39m\u001b[38;5;241m.\u001b[39mcolumns\u001b[38;5;241m.\u001b[39mnlevels \u001b[38;5;241m>\u001b[39m \u001b[38;5;241m1\u001b[39m:\n\u001b[1;32m   3457\u001b[0m     \u001b[38;5;28;01mreturn\u001b[39;00m \u001b[38;5;28mself\u001b[39m\u001b[38;5;241m.\u001b[39m_getitem_multilevel(key)\n\u001b[0;32m-> 3458\u001b[0m indexer \u001b[38;5;241m=\u001b[39m \u001b[38;5;28;43mself\u001b[39;49m\u001b[38;5;241;43m.\u001b[39;49m\u001b[43mcolumns\u001b[49m\u001b[38;5;241;43m.\u001b[39;49m\u001b[43mget_loc\u001b[49m\u001b[43m(\u001b[49m\u001b[43mkey\u001b[49m\u001b[43m)\u001b[49m\n\u001b[1;32m   3459\u001b[0m \u001b[38;5;28;01mif\u001b[39;00m is_integer(indexer):\n\u001b[1;32m   3460\u001b[0m     indexer \u001b[38;5;241m=\u001b[39m [indexer]\n",
      "File \u001b[0;32m~/miniforge3/envs/dsc80/lib/python3.8/site-packages/pandas/core/indexes/base.py:3363\u001b[0m, in \u001b[0;36mIndex.get_loc\u001b[0;34m(self, key, method, tolerance)\u001b[0m\n\u001b[1;32m   3361\u001b[0m         \u001b[38;5;28;01mreturn\u001b[39;00m \u001b[38;5;28mself\u001b[39m\u001b[38;5;241m.\u001b[39m_engine\u001b[38;5;241m.\u001b[39mget_loc(casted_key)\n\u001b[1;32m   3362\u001b[0m     \u001b[38;5;28;01mexcept\u001b[39;00m \u001b[38;5;167;01mKeyError\u001b[39;00m \u001b[38;5;28;01mas\u001b[39;00m err:\n\u001b[0;32m-> 3363\u001b[0m         \u001b[38;5;28;01mraise\u001b[39;00m \u001b[38;5;167;01mKeyError\u001b[39;00m(key) \u001b[38;5;28;01mfrom\u001b[39;00m \u001b[38;5;21;01merr\u001b[39;00m\n\u001b[1;32m   3365\u001b[0m \u001b[38;5;28;01mif\u001b[39;00m is_scalar(key) \u001b[38;5;129;01mand\u001b[39;00m isna(key) \u001b[38;5;129;01mand\u001b[39;00m \u001b[38;5;129;01mnot\u001b[39;00m \u001b[38;5;28mself\u001b[39m\u001b[38;5;241m.\u001b[39mhasnans:\n\u001b[1;32m   3366\u001b[0m     \u001b[38;5;28;01mraise\u001b[39;00m \u001b[38;5;167;01mKeyError\u001b[39;00m(key)\n",
      "\u001b[0;31mKeyError\u001b[0m: False"
     ]
    }
   ],
   "source": [
    "# league23[league23['firstherald'].notna()]\n",
    "\n",
    "\n",
    "# for col in league[['gameid']].columns:\n",
    "#     print(col)\n",
    "# league[league['participantid']\n",
    "\n",
    "\n",
    "\n",
    "# sum_games = league[(league['participantid'] == 100) & (league['participantid'] == 200)]\n",
    "sum_games\n",
    "\n",
    "# league[league['participantid' != 100]]\n",
    "\n",
    "\n",
    "# league['participantid']\n",
    "\n",
    "\n",
    "league[league['participantid' == 100]]\n",
    "\n",
    "league['participantid'].value_counts()"
   ]
  },
  {
   "cell_type": "code",
   "execution_count": 257,
   "id": "24972fc6",
   "metadata": {},
   "outputs": [
    {
     "data": {
      "text/plain": [
       "0"
      ]
     },
     "execution_count": 257,
     "metadata": {},
     "output_type": "execute_result"
    }
   ],
   "source": [
    "len(league['gameid'].unique())"
   ]
  },
  {
   "cell_type": "code",
   "execution_count": 7,
   "id": "0147a076",
   "metadata": {},
   "outputs": [],
   "source": [
    "#hypothesis test: was playing neeko after the patch random or is \n",
    "#there a significant difference what happened before and after the patch\n",
    "\n",
    "\n",
    "\n"
   ]
  },
  {
   "cell_type": "markdown",
   "id": "8e204352",
   "metadata": {},
   "source": [
    "Clearly state your null and alternative hypotheses, your choice of test statistic and significance level, the resulting \n",
    "p\n",
    "-value, and your conclusion. Justify why these choices are good choices for answering the question you are trying to answer.\n",
    "\n",
    "\n",
    "\n",
    "Question: Is there a higher proportion of games with a Neeko in it after the Patch 13.9 rework?\n",
    "\n",
    "Null: There is no difference in proportion of games with Neeko before and after the Patch 13.9 rework.\n",
    "\n",
    "\n",
    "Alternative: There is a higher proportion of games with Neeko after the Patch 13.9 rework. \n",
    "\n",
    "\n",
    "Test Statistic: Difference in Proportion, more specifically the proportion of games with Neeko after minus before the patch 13.9\n",
    "- We chose difference in proportion because our data is categorical and directional.\n",
    "- Our observed statistic: 0.1404526229251691\n",
    "\n",
    "Significance Level: 0.05\n",
    "- This is a standard hypothesis test. \n",
    "\n",
    "\n",
    "Result p-value: 0\n",
    "- We ran 10,000 repetitions. \n",
    "\n",
    "Conclusion: As the p-value is 0, we reject the null hypothesis in favor of the alternative hypothesis, which is that there is a higher proportion of games with Neeko after the Patch 13.9 rework. \n",
    "\n",
    "\n",
    "\n",
    "\n",
    "\n",
    "\n"
   ]
  },
  {
   "cell_type": "code",
   "execution_count": 8,
   "id": "a60fc015",
   "metadata": {},
   "outputs": [
    {
     "data": {
      "text/plain": [
       "54"
      ]
     },
     "execution_count": 8,
     "metadata": {},
     "output_type": "execute_result"
    }
   ],
   "source": [
    "combined = league[league['patch'] >= 12.10]\n",
    "na_values = league[pd.isna(league['patch'])]\n",
    "\n",
    "league[league['patch'] == 13.24]\n",
    "\n",
    "\n",
    "na_values\n",
    "# league['patch'].value_counts()\n",
    "\n",
    "# values_na\n",
    "\n",
    "na_values['date'].unique()\n",
    "# na_values\n",
    "# league.shape\n",
    "\n",
    "na_values\n",
    "league['league'].unique()\n",
    "\n",
    "na_values['league'].unique()\n",
    "\n",
    "# for col in league.columns:\n",
    "#     print(col)\n",
    "\n",
    "any_na_values = league.isna().any()\n",
    "any_na_index = any_na_values.index[any_na_values]\n",
    "\n",
    "# for col in any_na_values:\n",
    "#     print()\n",
    "any_na_index\n",
    "\n",
    "league['teamname'].isna().sum()"
   ]
  },
  {
   "cell_type": "markdown",
   "id": "a0f94df6",
   "metadata": {},
   "source": [
    "Permutation Test: patch vs. league"
   ]
  },
  {
   "cell_type": "markdown",
   "id": "9be4abff",
   "metadata": {},
   "source": [
    "State whether you believe there is a column in your dataset that is NMAR. Explain your reasoning and any additional data you might want to obtain that could explain the missingness (thereby making it MAR). Make sure to explicitly use the term “NMAR.”\n",
    "\n",
    "We do not belive that there is a column in our dataset that is NMAR. Based on our preliminary findings when looking at the \"patch\" column that has missing data, we believe that the column \"league\", which is composed of the different leagues played in the game, could explain the missingness since we found that there were only missing patches for two leagues out of the 56."
   ]
  },
  {
   "cell_type": "code",
   "execution_count": 9,
   "id": "4c470092",
   "metadata": {},
   "outputs": [
    {
     "name": "stderr",
     "output_type": "stream",
     "text": [
      "/var/folders/_l/f4zhrz9s7q356_sd74v3cqmm0000gn/T/ipykernel_17954/4260375598.py:2: SettingWithCopyWarning: \n",
      "A value is trying to be set on a copy of a slice from a DataFrame.\n",
      "Try using .loc[row_indexer,col_indexer] = value instead\n",
      "\n",
      "See the caveats in the documentation: https://pandas.pydata.org/pandas-docs/stable/user_guide/indexing.html#returning-a-view-versus-a-copy\n",
      "  league_patch['patch_missing'] = league_patch['patch'].isna()\n"
     ]
    },
    {
     "data": {
      "text/html": [
       "<div>\n",
       "<style scoped>\n",
       "    .dataframe tbody tr th:only-of-type {\n",
       "        vertical-align: middle;\n",
       "    }\n",
       "\n",
       "    .dataframe tbody tr th {\n",
       "        vertical-align: top;\n",
       "    }\n",
       "\n",
       "    .dataframe thead th {\n",
       "        text-align: right;\n",
       "    }\n",
       "</style>\n",
       "<table border=\"1\" class=\"dataframe\">\n",
       "  <thead>\n",
       "    <tr style=\"text-align: right;\">\n",
       "      <th></th>\n",
       "      <th>league</th>\n",
       "      <th>patch</th>\n",
       "      <th>patch_missing</th>\n",
       "    </tr>\n",
       "  </thead>\n",
       "  <tbody>\n",
       "    <tr>\n",
       "      <th>0</th>\n",
       "      <td>LCKC</td>\n",
       "      <td>12.01</td>\n",
       "      <td>False</td>\n",
       "    </tr>\n",
       "    <tr>\n",
       "      <th>1</th>\n",
       "      <td>LCKC</td>\n",
       "      <td>12.01</td>\n",
       "      <td>False</td>\n",
       "    </tr>\n",
       "    <tr>\n",
       "      <th>2</th>\n",
       "      <td>LCKC</td>\n",
       "      <td>12.01</td>\n",
       "      <td>False</td>\n",
       "    </tr>\n",
       "    <tr>\n",
       "      <th>3</th>\n",
       "      <td>LCKC</td>\n",
       "      <td>12.01</td>\n",
       "      <td>False</td>\n",
       "    </tr>\n",
       "    <tr>\n",
       "      <th>4</th>\n",
       "      <td>LCKC</td>\n",
       "      <td>12.01</td>\n",
       "      <td>False</td>\n",
       "    </tr>\n",
       "    <tr>\n",
       "      <th>...</th>\n",
       "      <td>...</td>\n",
       "      <td>...</td>\n",
       "      <td>...</td>\n",
       "    </tr>\n",
       "    <tr>\n",
       "      <th>34555</th>\n",
       "      <td>CBLOLA</td>\n",
       "      <td>14.05</td>\n",
       "      <td>False</td>\n",
       "    </tr>\n",
       "    <tr>\n",
       "      <th>34556</th>\n",
       "      <td>CBLOLA</td>\n",
       "      <td>14.05</td>\n",
       "      <td>False</td>\n",
       "    </tr>\n",
       "    <tr>\n",
       "      <th>34557</th>\n",
       "      <td>CBLOLA</td>\n",
       "      <td>14.05</td>\n",
       "      <td>False</td>\n",
       "    </tr>\n",
       "    <tr>\n",
       "      <th>34558</th>\n",
       "      <td>CBLOLA</td>\n",
       "      <td>14.05</td>\n",
       "      <td>False</td>\n",
       "    </tr>\n",
       "    <tr>\n",
       "      <th>34559</th>\n",
       "      <td>CBLOLA</td>\n",
       "      <td>14.05</td>\n",
       "      <td>False</td>\n",
       "    </tr>\n",
       "  </tbody>\n",
       "</table>\n",
       "<p>309456 rows × 3 columns</p>\n",
       "</div>"
      ],
      "text/plain": [
       "       league  patch  patch_missing\n",
       "0        LCKC  12.01          False\n",
       "1        LCKC  12.01          False\n",
       "2        LCKC  12.01          False\n",
       "3        LCKC  12.01          False\n",
       "4        LCKC  12.01          False\n",
       "...       ...    ...            ...\n",
       "34555  CBLOLA  14.05          False\n",
       "34556  CBLOLA  14.05          False\n",
       "34557  CBLOLA  14.05          False\n",
       "34558  CBLOLA  14.05          False\n",
       "34559  CBLOLA  14.05          False\n",
       "\n",
       "[309456 rows x 3 columns]"
      ]
     },
     "execution_count": 9,
     "metadata": {},
     "output_type": "execute_result"
    }
   ],
   "source": [
    "league_patch = league[['league', 'patch']]\n",
    "league_patch['patch_missing'] = league_patch['patch'].isna()\n",
    "league_patch"
   ]
  },
  {
   "cell_type": "code",
   "execution_count": 10,
   "id": "ba38fff7",
   "metadata": {},
   "outputs": [],
   "source": [
    "# obs_tvd = league_patch['patch_missing'].value_counts(normalize = True)\n",
    "\n",
    "obs_tvd = league_patch.groupby('league')['patch_missing'].sum() / 288\n",
    "# .sum().apply(lambda s: s / s.sum(), axis = 1).diff().iloc[-1].abs().sum()/2\n",
    "# obs_tvd\n",
    "# league_patch['league'].nunique()"
   ]
  },
  {
   "cell_type": "code",
   "execution_count": 11,
   "id": "489d7b78",
   "metadata": {},
   "outputs": [
    {
     "data": {
      "text/plain": [
       "0.017857142857142856"
      ]
     },
     "execution_count": 11,
     "metadata": {},
     "output_type": "execute_result"
    }
   ],
   "source": [
    "1/56 #uniform distribution"
   ]
  },
  {
   "cell_type": "code",
   "execution_count": 12,
   "id": "2d69bc39",
   "metadata": {},
   "outputs": [
    {
     "ename": "SyntaxError",
     "evalue": "invalid syntax (3090718430.py, line 1)",
     "output_type": "error",
     "traceback": [
      "\u001b[0;36m  Cell \u001b[0;32mIn[12], line 1\u001b[0;36m\u001b[0m\n\u001b[0;31m    60/\u001b[0m\n\u001b[0m       ^\u001b[0m\n\u001b[0;31mSyntaxError\u001b[0m\u001b[0;31m:\u001b[0m invalid syntax\n"
     ]
    }
   ],
   "source": [
    "60/"
   ]
  },
  {
   "cell_type": "code",
   "execution_count": 13,
   "id": "11df6c2b",
   "metadata": {},
   "outputs": [],
   "source": [
    "def calc_tvd(data):\n",
    "#     return (data\n",
    "#            .groupby('patch_missing')\n",
    "#            .sum()\n",
    "#            .apply(lambda s: s / s.sum(), axis = 1)\n",
    "#            .diff()\n",
    "#            .iloc[-1]\n",
    "#            .abs()\n",
    "#            .sum() / 2\n",
    "#            )\n",
    "    return data.diff(axis = 1).iloc[: -1].abs().sum() / 2\n",
    "\n",
    "n_reps = 500\n",
    "shuffled = league_patch.copy()\n",
    "\n",
    "tvds = []\n",
    "# for _ in range(n_reps):\n",
    "    \n",
    "    \n",
    "#     # Shuffle the leagues and store them in DataFrame\n",
    "#     shuffled['patch_missing']= np.random.permutation(shuffled['patch_missing'])\n",
    "\n",
    "    \n",
    "#     # Compute and store TVD\n",
    "#     tvds.append(tvd(shuffled))\n",
    "\n",
    "# obs_tvd = calc_tvd(shuffled)\n",
    "\n",
    "    \n",
    "    \n",
    "# print(obs_tvd)\n",
    "    \n",
    "    "
   ]
  },
  {
   "cell_type": "code",
   "execution_count": 14,
   "id": "b8ae30bc",
   "metadata": {},
   "outputs": [
    {
     "data": {
      "text/plain": [
       "array([12.01, 12.02, 12.03, 12.04, 12.05, 12.06, 12.07, 12.08, 12.09,\n",
       "       12.1 , 12.11, 12.12, 12.13, 12.14, 12.15,   nan, 12.16, 12.17,\n",
       "       12.18, 12.19, 12.2 , 12.21, 12.23])"
      ]
     },
     "execution_count": 14,
     "metadata": {},
     "output_type": "execute_result"
    }
   ],
   "source": [
    "league22['patch'].unique()\n",
    "#12"
   ]
  },
  {
   "cell_type": "code",
   "execution_count": 15,
   "id": "9bd3a0e9",
   "metadata": {},
   "outputs": [
    {
     "data": {
      "text/plain": [
       "array([13.01, 13.03, 13.04, 13.05, 13.06,   nan, 13.07, 13.08, 13.09,\n",
       "       13.1 , 13.11, 13.12, 13.13, 13.14, 13.15, 13.16, 13.17, 13.18,\n",
       "       13.19, 13.2 , 13.21, 13.22, 13.24])"
      ]
     },
     "execution_count": 15,
     "metadata": {},
     "output_type": "execute_result"
    }
   ],
   "source": [
    "league23['patch'].unique()\n",
    "#7 before 13.09\n",
    "\n",
    "# 14"
   ]
  },
  {
   "cell_type": "code",
   "execution_count": 16,
   "id": "d7b3d925",
   "metadata": {},
   "outputs": [
    {
     "data": {
      "text/plain": [
       "array([13.24, 14.01, 14.02, 14.03,   nan, 14.04, 14.05])"
      ]
     },
     "execution_count": 16,
     "metadata": {},
     "output_type": "execute_result"
    }
   ],
   "source": [
    "league24['patch'].unique()\n",
    "# 6 "
   ]
  },
  {
   "cell_type": "markdown",
   "id": "5c8fa761",
   "metadata": {},
   "source": [
    "### Step 4: Hypothesis Testing\n",
    "Question: Is there a higher proportion of games with a Neeko in it after the Patch 13.9 rework?\n",
    "\n",
    "Null: There is no difference in proportion of games with Neeko before and after the Patch 13.9 rework.\n",
    "\n",
    "\n",
    "Alternative: There is a higher proportion of games with Neeko after the Patch 13.9 rework. \n",
    "\n",
    "\n",
    "Test Statistic: Difference in Proportion, more specifically the proportion of games with Neeko after minus before the patch 13.9\n",
    "- We chose difference in proportion because our data is categorical and directional.\n",
    "- Our observed statistic: 0.1404526229251691\n",
    "\n",
    "Significance Level: 0.05\n",
    "- This is a standard hypothesis test. \n",
    "\n",
    "\n",
    "Result p-value: 0\n",
    "- We ran 10,000 repetitions. \n",
    "\n",
    "Conclusion: As the p-value is 0, we reject the null hypothesis in favor of the alternative hypothesis, which is that there is a higher proportion of games with Neeko after the Patch 13.9 rework. "
   ]
  },
  {
   "cell_type": "markdown",
   "id": "23ad6673",
   "metadata": {},
   "source": [
    "### Step 5: Framing a Prediction Problem\n",
    "\n",
    "**Predict whether Neeko's team wins the game based on her stats at 15 minutes and her position.** We will include data from 2021 since Neeko does not change much between seasons. The time of prediction is 15 minutes into the game. \n",
    "\n",
    "For our predicition problem, we are performing binary classification. Our response variable is the `result` column, where the values represent whether Neeko's team won the game or not. We chose this variable because it is a interpretatble measure of success (win or loss) and aligns well with our objective of prediciting the game outcomes. \n",
    "\n",
    "The metric we chose for evaluating the model's performance is accuracy. Since we are performing binary classification, accuracy is a meaningful representation of overall correctness of the model's prediction, as it represents the proportion of correctly predicted outcomes. \n",
    "\n"
   ]
  },
  {
   "cell_type": "markdown",
   "id": "ca37e260",
   "metadata": {},
   "source": [
    "### Step 6: Baseline Model\n",
    "\n",
    "**Here is a list with explanations of the columns we will be looking at for our model:**\n",
    "\n",
    "`goldat15`: Total amount of gold accumulated by Neeko at 15 minutes.\n",
    "\n",
    "`xpat15`: Total amount of experience points earned by Neeko at 15 minutes. \n",
    "\n",
    "`csat15`: Total number of minion kills by Neeko's **team** at 15 minutes. \n",
    "\n",
    "`golddiffat15`: Difference in gold between Neeko and the opposing team at 15 minutes. \n",
    "\n",
    "`xpdiffat15`: Difference in experience points between Neeko and the opposing team at 15 minutes. \n",
    "\n",
    "`csdiffat15`: Difference in minion kills between Neeko and the opposing team at 15 minutes. \n",
    "\n",
    "`killsat15`: Total number of enemy champions killed by Neeko at 15 minutes. \n",
    "\n",
    "`assistsat15`:\tTotal number of assists obtained by Neeko at 15 minutes. \n",
    "\n",
    "`deathsat15`: Total number of deaths of Neeko at 15 minutes. \n",
    "\n",
    "\n",
    "\n",
    "According to Oracle's Elixer, these values are averages.\n",
    "\n",
    "\n",
    "Our baseline model is a binary classifier that predicts the outcome variable that represents whether Neeko's team wins the game or not given features recorded at 15 minutes of the game. \n",
    "\n",
    "For the baseline, we included only nominal features, which are one-hot encoded columns of Neeko's position and the binarized columns of the differences of gold, experience points, and the number of minions between Neeko and the opposing team. \n",
    "\n",
    "We one-hot encoded Neeko's position which converts the categorical variables (`bot`, `top`, `mid`, `sup`, and `jng`) into a binary format where each category is represented as a binary vector. \n",
    "\n",
    "Since the columns regarding differences between gold (golddiffat15), experience(xpdiffat15), or minion kills (csdiffat15) hold positive and negative values, we can transform these columns into binary features since we know that positive values mean that Neeko has an advantage compared to the opposing team, and likewise negative values suggest a disadvantage. Therefore if Neeko is ahead, the value is represented as a 1 instead of a positive value and a 0 in place of a negative value. \n",
    "\n",
    "\n",
    "We calculate the accuracy of our model using `accuracy_score`, where a high accuracy indicates that our model can effectively predict the outcome of Neeko's game based on her performance 15 minutes into the game and her position played. \n",
    "\n",
    "Our accuracy averages around 0.70, which in itself is sufficient given the the number of features we provided. Also, since accuracy could possibly be misleading in the presence of class imbalance, we also measured the **precision** and **recall**, which also calculate to be about the same average accuracy. Therefore, we believe that this baseline model is \"good\".\n",
    "\n",
    "UMMM IDK IF THAT MAKEs SENSE because is it just neeko's stats against the entire teams? "
   ]
  },
  {
   "cell_type": "code",
   "execution_count": 17,
   "id": "4ca019ca",
   "metadata": {},
   "outputs": [],
   "source": [
    "# one hot encode her position\n",
    "# include features in stats_15\n",
    "# run either a decision tree or a logistic regression "
   ]
  },
  {
   "cell_type": "code",
   "execution_count": 127,
   "id": "9c3edefe",
   "metadata": {},
   "outputs": [],
   "source": [
    "import pandas as pd\n",
    "import numpy as np\n",
    "from pathlib import Path\n",
    "import plotly.express as px\n",
    "\n",
    "from sklearn.linear_model import LinearRegression\n",
    "from sklearn.preprocessing import FunctionTransformer\n",
    "from sklearn.preprocessing import OneHotEncoder\n",
    "from sklearn.pipeline import Pipeline\n",
    "from sklearn.compose import ColumnTransformer\n",
    "from sklearn.preprocessing import Binarizer\n"
   ]
  },
  {
   "cell_type": "code",
   "execution_count": 128,
   "id": "f01c87b4",
   "metadata": {},
   "outputs": [],
   "source": [
    "# neeko "
   ]
  },
  {
   "cell_type": "code",
   "execution_count": 129,
   "id": "6c149044",
   "metadata": {},
   "outputs": [],
   "source": [
    "fp4 = '../data/league_2021.csv'\n",
    "\n",
    "league21 = pd.read_csv(fp4)\n",
    "\n",
    "league = pd.concat([league, league21])\n"
   ]
  },
  {
   "cell_type": "code",
   "execution_count": 142,
   "id": "6d1606fa",
   "metadata": {
    "scrolled": true
   },
   "outputs": [
    {
     "name": "stdout",
     "output_type": "stream",
     "text": [
      "gameid\n",
      "datacompleteness\n",
      "url\n",
      "league\n",
      "year\n",
      "split\n",
      "playoffs\n",
      "date\n",
      "game\n",
      "patch\n",
      "participantid\n",
      "side\n",
      "position\n",
      "playername\n",
      "playerid\n",
      "teamname\n",
      "teamid\n",
      "champion\n",
      "ban1\n",
      "ban2\n",
      "ban3\n",
      "ban4\n",
      "ban5\n",
      "pick1\n",
      "pick2\n",
      "pick3\n",
      "pick4\n",
      "pick5\n",
      "gamelength\n",
      "result\n",
      "kills\n",
      "deaths\n",
      "assists\n",
      "teamkills\n",
      "teamdeaths\n",
      "doublekills\n",
      "triplekills\n",
      "quadrakills\n",
      "pentakills\n",
      "firstblood\n",
      "firstbloodkill\n",
      "firstbloodassist\n",
      "firstbloodvictim\n",
      "team kpm\n",
      "ckpm\n",
      "firstdragon\n",
      "dragons\n",
      "opp_dragons\n",
      "elementaldrakes\n",
      "opp_elementaldrakes\n",
      "infernals\n",
      "mountains\n",
      "clouds\n",
      "oceans\n",
      "chemtechs\n",
      "hextechs\n",
      "dragons (type unknown)\n",
      "elders\n",
      "opp_elders\n",
      "firstherald\n",
      "heralds\n",
      "opp_heralds\n",
      "void_grubs\n",
      "opp_void_grubs\n",
      "firstbaron\n",
      "barons\n",
      "opp_barons\n",
      "firsttower\n",
      "towers\n",
      "opp_towers\n",
      "firstmidtower\n",
      "firsttothreetowers\n",
      "turretplates\n",
      "opp_turretplates\n",
      "inhibitors\n",
      "opp_inhibitors\n",
      "damagetochampions\n",
      "dpm\n",
      "damageshare\n",
      "damagetakenperminute\n",
      "damagemitigatedperminute\n",
      "wardsplaced\n",
      "wpm\n",
      "wardskilled\n",
      "wcpm\n",
      "controlwardsbought\n",
      "visionscore\n",
      "vspm\n",
      "totalgold\n",
      "earnedgold\n",
      "earned gpm\n",
      "earnedgoldshare\n",
      "goldspent\n",
      "gspd\n",
      "gpr\n",
      "total cs\n",
      "minionkills\n",
      "monsterkills\n",
      "monsterkillsownjungle\n",
      "monsterkillsenemyjungle\n",
      "cspm\n",
      "goldat10\n",
      "xpat10\n",
      "csat10\n",
      "opp_goldat10\n",
      "opp_xpat10\n",
      "opp_csat10\n",
      "golddiffat10\n",
      "xpdiffat10\n",
      "csdiffat10\n",
      "killsat10\n",
      "assistsat10\n",
      "deathsat10\n",
      "opp_killsat10\n",
      "opp_assistsat10\n",
      "opp_deathsat10\n",
      "goldat15\n",
      "xpat15\n",
      "csat15\n",
      "opp_goldat15\n",
      "opp_xpat15\n",
      "opp_csat15\n",
      "golddiffat15\n",
      "xpdiffat15\n",
      "csdiffat15\n",
      "killsat15\n",
      "assistsat15\n",
      "deathsat15\n",
      "opp_killsat15\n",
      "opp_assistsat15\n",
      "opp_deathsat15\n"
     ]
    }
   ],
   "source": [
    "neeko = league[league['champion'] == 'Neeko']\n",
    "neeko = neeko[neeko['datacompleteness'] == 'complete']\n",
    "for col in neeko.columns:\n",
    "    print(col)\n",
    "\n",
    "# stats_15\n",
    "\n",
    "\n",
    "\n",
    "# goldat15\n",
    "# xpat15\n",
    "# # csat15 - avg\n",
    "# # opp_goldat15\n",
    "# # opp_xpat15\n",
    "# # opp_csat15\n",
    "# golddiffat15\n",
    "# xpdiffat15\n",
    "# csdiffat15\n",
    "# killsat15\n",
    "# assistsat15\n",
    "# deathsat15\n",
    "# # opp_killsat15\n",
    "# # opp_assistsat15\n",
    "# # opp_deathsat15\n",
    "\n"
   ]
  },
  {
   "cell_type": "code",
   "execution_count": 143,
   "id": "49f6f491",
   "metadata": {},
   "outputs": [
    {
     "data": {
      "text/plain": [
       "16027    129.0\n",
       "21038    115.0\n",
       "21192    152.0\n",
       "28598    112.0\n",
       "33679    134.0\n",
       "         ...  \n",
       "60410    148.0\n",
       "60715    112.0\n",
       "68935    118.0\n",
       "69182    140.0\n",
       "70903    149.0\n",
       "Name: csat15, Length: 1071, dtype: float64"
      ]
     },
     "execution_count": 143,
     "metadata": {},
     "output_type": "execute_result"
    }
   ],
   "source": [
    "neeko['csat15']"
   ]
  },
  {
   "cell_type": "code",
   "execution_count": 144,
   "id": "a951cecf",
   "metadata": {},
   "outputs": [],
   "source": [
    "# one hot encode her position\n",
    "\n",
    "\n",
    "def one_hot(ser):\n",
    "    features = pd.DataFrame()\n",
    "    for val in ser.unique():\n",
    "        features['one_hot_%s_%s' % (ser.name, val)] = (ser == val).astype(int)\n",
    "        \n",
    "    return features\n",
    "\n",
    "def create_one_hot(df):\n",
    "    # Assuming 'position' is the column you want to one-hot encode\n",
    "    df_encoded = pd.concat([df, one_hot(df['position'])], axis=1)\n",
    "    df_encoded.drop(columns=['position'], inplace=True)\n",
    "    return df_encoded\n",
    "    \n",
    "    \n",
    "# create_one_hot(neeko)\n",
    "        \n",
    "        \n",
    "        "
   ]
  },
  {
   "cell_type": "code",
   "execution_count": 145,
   "id": "46b1b9c5",
   "metadata": {
    "scrolled": true
   },
   "outputs": [],
   "source": [
    "# Create a dataframe that has all the information we want for this prediction problem\n",
    "\n",
    "stats_15 = ['goldat15','xpat15','csat15','golddiffat15','xpdiffat15','csdiffat15','killsat15','assistsat15','deathsat15']\n",
    "stats_15\n",
    "\n",
    "neeko_pred = neeko.loc[:, stats_15]\n",
    "neeko_pred['position'] = neeko['position']\n",
    "neeko_pred['result'] = neeko['result']\n",
    "# neeko_pred = create_one_hot(neeko_pred)\n",
    "# neeko_pred.shape[1]\n"
   ]
  },
  {
   "cell_type": "markdown",
   "id": "e7ab99bd",
   "metadata": {},
   "source": [
    "### Feature Engineering:\n",
    "\n",
    "**Creating Ratios:** \n",
    "\n",
    "- Gold Efficiency: Calculating the ratio of gold earned (`goldat15`) to the number of minion kills (`csat15`) could provide insight to how the efficieny of gold farming would influence the result of the match.\n",
    "\n",
    "**Difference Features**\n",
    "- Since the columns regarding differences between gold (`golddiffat15`), experience(`xpdiffat15`), or minion kills (`csdiffat15`) hold positive and negative values, we can transform these columns into binary features since we know that positive values mean that Neeko has an advantage compared to the opposing team, and likewise negative values suggest a disadvantage.\n",
    "\n",
    "\n",
    "`goldat15`: "
   ]
  },
  {
   "cell_type": "code",
   "execution_count": 146,
   "id": "f525ca59",
   "metadata": {
    "scrolled": true
   },
   "outputs": [],
   "source": [
    "# include features in stats_15\n",
    "neeko_pred\n",
    "\n",
    "\n",
    "# Creating ratio features\n",
    "\n",
    "# neeko_pred['goldat15'].value_counts(normalize = True)\n",
    "\n",
    "def binarize_col(df, cols):\n",
    "    for col in cols:\n",
    "#         new_col_name = f'binarized_{col}'\n",
    "        df[col] = (df[col] > 0).astype(int)\n",
    "        \n",
    "#     df.drop(columns = cols, inplace = True)\n",
    "    return df\n",
    "\n",
    "# baseline_neeko = binarize_col(neeko_pred, ['golddiffat15', 'xpdiffat15','csdiffat15'])\n",
    "# baseline_neeko\n",
    "    "
   ]
  },
  {
   "cell_type": "code",
   "execution_count": 147,
   "id": "b50068db",
   "metadata": {},
   "outputs": [
    {
     "data": {
      "text/html": [
       "<div>\n",
       "<style scoped>\n",
       "    .dataframe tbody tr th:only-of-type {\n",
       "        vertical-align: middle;\n",
       "    }\n",
       "\n",
       "    .dataframe tbody tr th {\n",
       "        vertical-align: top;\n",
       "    }\n",
       "\n",
       "    .dataframe thead th {\n",
       "        text-align: right;\n",
       "    }\n",
       "</style>\n",
       "<table border=\"1\" class=\"dataframe\">\n",
       "  <thead>\n",
       "    <tr style=\"text-align: right;\">\n",
       "      <th></th>\n",
       "      <th>goldat15</th>\n",
       "      <th>xpat15</th>\n",
       "      <th>csat15</th>\n",
       "      <th>golddiffat15</th>\n",
       "      <th>xpdiffat15</th>\n",
       "      <th>csdiffat15</th>\n",
       "      <th>killsat15</th>\n",
       "      <th>assistsat15</th>\n",
       "      <th>deathsat15</th>\n",
       "      <th>position</th>\n",
       "      <th>result</th>\n",
       "    </tr>\n",
       "  </thead>\n",
       "  <tbody>\n",
       "    <tr>\n",
       "      <th>16027</th>\n",
       "      <td>5689.0</td>\n",
       "      <td>7053.0</td>\n",
       "      <td>129.0</td>\n",
       "      <td>381.0</td>\n",
       "      <td>97.0</td>\n",
       "      <td>3.0</td>\n",
       "      <td>1.0</td>\n",
       "      <td>3.0</td>\n",
       "      <td>0.0</td>\n",
       "      <td>mid</td>\n",
       "      <td>1</td>\n",
       "    </tr>\n",
       "    <tr>\n",
       "      <th>21038</th>\n",
       "      <td>5621.0</td>\n",
       "      <td>7726.0</td>\n",
       "      <td>115.0</td>\n",
       "      <td>-919.0</td>\n",
       "      <td>336.0</td>\n",
       "      <td>-21.0</td>\n",
       "      <td>4.0</td>\n",
       "      <td>1.0</td>\n",
       "      <td>2.0</td>\n",
       "      <td>mid</td>\n",
       "      <td>0</td>\n",
       "    </tr>\n",
       "    <tr>\n",
       "      <th>21192</th>\n",
       "      <td>6491.0</td>\n",
       "      <td>7909.0</td>\n",
       "      <td>152.0</td>\n",
       "      <td>2273.0</td>\n",
       "      <td>685.0</td>\n",
       "      <td>54.0</td>\n",
       "      <td>0.0</td>\n",
       "      <td>0.0</td>\n",
       "      <td>0.0</td>\n",
       "      <td>top</td>\n",
       "      <td>1</td>\n",
       "    </tr>\n",
       "    <tr>\n",
       "      <th>28598</th>\n",
       "      <td>7161.0</td>\n",
       "      <td>6131.0</td>\n",
       "      <td>112.0</td>\n",
       "      <td>2069.0</td>\n",
       "      <td>713.0</td>\n",
       "      <td>28.0</td>\n",
       "      <td>4.0</td>\n",
       "      <td>9.0</td>\n",
       "      <td>1.0</td>\n",
       "      <td>mid</td>\n",
       "      <td>1</td>\n",
       "    </tr>\n",
       "    <tr>\n",
       "      <th>33679</th>\n",
       "      <td>4812.0</td>\n",
       "      <td>7223.0</td>\n",
       "      <td>134.0</td>\n",
       "      <td>169.0</td>\n",
       "      <td>396.0</td>\n",
       "      <td>15.0</td>\n",
       "      <td>0.0</td>\n",
       "      <td>0.0</td>\n",
       "      <td>0.0</td>\n",
       "      <td>mid</td>\n",
       "      <td>1</td>\n",
       "    </tr>\n",
       "    <tr>\n",
       "      <th>...</th>\n",
       "      <td>...</td>\n",
       "      <td>...</td>\n",
       "      <td>...</td>\n",
       "      <td>...</td>\n",
       "      <td>...</td>\n",
       "      <td>...</td>\n",
       "      <td>...</td>\n",
       "      <td>...</td>\n",
       "      <td>...</td>\n",
       "      <td>...</td>\n",
       "      <td>...</td>\n",
       "    </tr>\n",
       "    <tr>\n",
       "      <th>60410</th>\n",
       "      <td>5712.0</td>\n",
       "      <td>7933.0</td>\n",
       "      <td>148.0</td>\n",
       "      <td>1088.0</td>\n",
       "      <td>834.0</td>\n",
       "      <td>39.0</td>\n",
       "      <td>1.0</td>\n",
       "      <td>0.0</td>\n",
       "      <td>0.0</td>\n",
       "      <td>mid</td>\n",
       "      <td>0</td>\n",
       "    </tr>\n",
       "    <tr>\n",
       "      <th>60715</th>\n",
       "      <td>5591.0</td>\n",
       "      <td>7161.0</td>\n",
       "      <td>112.0</td>\n",
       "      <td>-2179.0</td>\n",
       "      <td>-1110.0</td>\n",
       "      <td>-35.0</td>\n",
       "      <td>2.0</td>\n",
       "      <td>1.0</td>\n",
       "      <td>3.0</td>\n",
       "      <td>mid</td>\n",
       "      <td>0</td>\n",
       "    </tr>\n",
       "    <tr>\n",
       "      <th>68935</th>\n",
       "      <td>4993.0</td>\n",
       "      <td>6751.0</td>\n",
       "      <td>118.0</td>\n",
       "      <td>-807.0</td>\n",
       "      <td>-571.0</td>\n",
       "      <td>7.0</td>\n",
       "      <td>1.0</td>\n",
       "      <td>0.0</td>\n",
       "      <td>1.0</td>\n",
       "      <td>mid</td>\n",
       "      <td>0</td>\n",
       "    </tr>\n",
       "    <tr>\n",
       "      <th>69182</th>\n",
       "      <td>5233.0</td>\n",
       "      <td>7486.0</td>\n",
       "      <td>140.0</td>\n",
       "      <td>-781.0</td>\n",
       "      <td>634.0</td>\n",
       "      <td>12.0</td>\n",
       "      <td>1.0</td>\n",
       "      <td>0.0</td>\n",
       "      <td>1.0</td>\n",
       "      <td>mid</td>\n",
       "      <td>0</td>\n",
       "    </tr>\n",
       "    <tr>\n",
       "      <th>70903</th>\n",
       "      <td>5189.0</td>\n",
       "      <td>7829.0</td>\n",
       "      <td>149.0</td>\n",
       "      <td>-169.0</td>\n",
       "      <td>35.0</td>\n",
       "      <td>-1.0</td>\n",
       "      <td>0.0</td>\n",
       "      <td>0.0</td>\n",
       "      <td>0.0</td>\n",
       "      <td>mid</td>\n",
       "      <td>0</td>\n",
       "    </tr>\n",
       "  </tbody>\n",
       "</table>\n",
       "<p>1071 rows × 11 columns</p>\n",
       "</div>"
      ],
      "text/plain": [
       "       goldat15  xpat15  csat15  golddiffat15  xpdiffat15  csdiffat15  \\\n",
       "16027    5689.0  7053.0   129.0         381.0        97.0         3.0   \n",
       "21038    5621.0  7726.0   115.0        -919.0       336.0       -21.0   \n",
       "21192    6491.0  7909.0   152.0        2273.0       685.0        54.0   \n",
       "28598    7161.0  6131.0   112.0        2069.0       713.0        28.0   \n",
       "33679    4812.0  7223.0   134.0         169.0       396.0        15.0   \n",
       "...         ...     ...     ...           ...         ...         ...   \n",
       "60410    5712.0  7933.0   148.0        1088.0       834.0        39.0   \n",
       "60715    5591.0  7161.0   112.0       -2179.0     -1110.0       -35.0   \n",
       "68935    4993.0  6751.0   118.0        -807.0      -571.0         7.0   \n",
       "69182    5233.0  7486.0   140.0        -781.0       634.0        12.0   \n",
       "70903    5189.0  7829.0   149.0        -169.0        35.0        -1.0   \n",
       "\n",
       "       killsat15  assistsat15  deathsat15 position  result  \n",
       "16027        1.0          3.0         0.0      mid       1  \n",
       "21038        4.0          1.0         2.0      mid       0  \n",
       "21192        0.0          0.0         0.0      top       1  \n",
       "28598        4.0          9.0         1.0      mid       1  \n",
       "33679        0.0          0.0         0.0      mid       1  \n",
       "...          ...          ...         ...      ...     ...  \n",
       "60410        1.0          0.0         0.0      mid       0  \n",
       "60715        2.0          1.0         3.0      mid       0  \n",
       "68935        1.0          0.0         1.0      mid       0  \n",
       "69182        1.0          0.0         1.0      mid       0  \n",
       "70903        0.0          0.0         0.0      mid       0  \n",
       "\n",
       "[1071 rows x 11 columns]"
      ]
     },
     "execution_count": 147,
     "metadata": {},
     "output_type": "execute_result"
    }
   ],
   "source": [
    "neeko_pred"
   ]
  },
  {
   "cell_type": "markdown",
   "id": "e810130c",
   "metadata": {},
   "source": [
    "### Baseline Model\n",
    "\n",
    "We created a binary classification model that trained the data using the Logisitic Regression model. "
   ]
  },
  {
   "cell_type": "code",
   "execution_count": 189,
   "id": "73e0dd8d",
   "metadata": {},
   "outputs": [
    {
     "name": "stdout",
     "output_type": "stream",
     "text": [
      "Accuracy: 0.5441860465116279\n"
     ]
    }
   ],
   "source": [
    "# labels = pd.Series(baseline_neeko[\"result\"]).value_counts(normalize=True)\n",
    "# labels\n",
    "\n",
    "from sklearn.compose import ColumnTransformer\n",
    "from sklearn.pipeline import Pipeline\n",
    "from sklearn.preprocessing import OneHotEncoder\n",
    "from sklearn.model_selection import train_test_split\n",
    "from sklearn.linear_model import LogisticRegression\n",
    "\n",
    "# Assuming neeko_pred is your DataFrame\n",
    "features = neeko_pred.drop(columns=['result'])  # Selecting features\n",
    "target = neeko_pred['result']  # Selecting target variable\n",
    "\n",
    "# Splitting the data into training and testing sets\n",
    "X_train, X_test, y_train, y_test = train_test_split(features, target, test_size=0.2, random_state=42)\n",
    "\n",
    "# Define the ColumnTransformer to one-hot encode the 'position' column\n",
    "ct = ColumnTransformer([\n",
    "    ('onehot', OneHotEncoder(), ['position']),  # One-hot encode the 'position' column\n",
    "], remainder='passthrough')\n",
    "\n",
    "# Define the pipeline\n",
    "pipeline = Pipeline([\n",
    "    ('preprocessor', ct),\n",
    "    ('classifier', LogisticRegression(max_iter = 10000))  # You can replace this with any classifier you want to use\n",
    "])\n",
    "\n",
    "# Fit the pipeline\n",
    "pipeline.fit(X_train, y_train)\n",
    "\n",
    "# Evaluate the pipeline\n",
    "accuracy = pipeline.score(X_test, y_test)\n",
    "print(\"Accuracy:\", accuracy)"
   ]
  },
  {
   "cell_type": "markdown",
   "id": "e18b7a7c",
   "metadata": {},
   "source": [
    "### Step 7: Final Model"
   ]
  },
  {
   "cell_type": "code",
   "execution_count": 219,
   "id": "5bdbe6b5",
   "metadata": {},
   "outputs": [
    {
     "name": "stdout",
     "output_type": "stream",
     "text": [
      "Accuracy: 0.6558139534883721\n"
     ]
    },
    {
     "data": {
      "text/plain": [
       "array([[57, 41],\n",
       "       [33, 84]])"
      ]
     },
     "execution_count": 219,
     "metadata": {},
     "output_type": "execute_result"
    }
   ],
   "source": [
    "from sklearn.compose import ColumnTransformer\n",
    "from sklearn.pipeline import Pipeline\n",
    "from sklearn.preprocessing import OneHotEncoder, Binarizer, StandardScaler\n",
    "from sklearn.model_selection import train_test_split\n",
    "from sklearn.linear_model import LogisticRegression\n",
    "from sklearn import metrics\n",
    "\n",
    "\n",
    "def multi_type_pipeline():\n",
    "    features = neeko_pred.drop(columns=['result'])  # Selecting features\n",
    "    target = neeko_pred['result']  # Selecting target variable\n",
    "\n",
    "    X_train, X_test, y_train, y_test = train_test_split(features, target, test_size=0.2)\n",
    "\n",
    "    ct = ColumnTransformer([\n",
    "        ('onehot', OneHotEncoder(), ['position']),  # One-hot encode the 'position' column\n",
    "#         ('binarize', Binarizer(threshold=0), ['golddiffat15', 'xpdiffat15', 'csdiffat15']),\n",
    "        ('scaling', StandardScaler(), ['goldat15', 'golddiffat15', 'xpdiffat15', 'csdiffat15','xpat15', 'csat15', 'killsat15', 'assistsat15', 'deathsat15'])\n",
    "    ], remainder='drop')\n",
    "\n",
    "    pl = Pipeline([\n",
    "        ('preprocessor', ct),\n",
    "        ('classifier', LogisticRegression(max_iter = 10000))  # You can replace this with any classifier you want to use\n",
    "    ])\n",
    "\n",
    "    pl.fit(X_train, y_train)\n",
    "\n",
    "    accuracy = pl.score(X_test, y_test)\n",
    "    print(\"Accuracy:\", accuracy)\n",
    "    \n",
    "    y_pred = pl.predict(X_test)\n",
    "    return metrics.confusion_matrix(y_test, y_pred)\n",
    "\n",
    "\n",
    "multi_type_pipeline()"
   ]
  },
  {
   "cell_type": "code",
   "execution_count": 121,
   "id": "e2dba937",
   "metadata": {},
   "outputs": [],
   "source": [
    "# X_train, X_test, y_train, y_test = train_test_split(baseline_neeko, labels)\n",
    "# clf = LogisticRegression(max_iter=10000)\n",
    "# clf.fit(X_train, y_train)\n",
    "\n",
    "\n",
    "# clf.predict(X_test)\n"
   ]
  },
  {
   "cell_type": "code",
   "execution_count": 123,
   "id": "3a93aabe",
   "metadata": {},
   "outputs": [
    {
     "name": "stdout",
     "output_type": "stream",
     "text": [
      "[1 1 0 1 1 0 1 1 0 1 1 0 1 1 1 1 0 1 1 0 1 1 1 0 1 1 1 0 1 1 1 1 1 0 0 0 0\n",
      " 0 0 1 1 1 0 0 1 1 1 0 1 0 0 0 1 1 0 0 0 1 0 1 1 1 1 0 1 1 1 1 0 0 0 1 0 0\n",
      " 1 0 1 0 1 0 0 0 1 1 1 0 0 1 0 0 1 0 1 1 0 0 1 1 1 0 1 1 1 1 1 0 1 0 1 1 0\n",
      " 1 1 1 1 1 1 0 1 0 0 1 0 0 0 1 1 1 0 1 0 1 0 1 1 0 0 0 0 1 0 1 0 0 1 1 0 1\n",
      " 0 1 1 0 1 0 1 0 1 0 0 1 0 1 1 1 0 1 1 1 0 1 1 0 0 1 1 1 1 1 0 1 0 0 1 1 1\n",
      " 1 1 0 1 0 1 1 1 1]\n",
      "1    0.530928\n",
      "0    0.469072\n",
      "dtype: float64\n",
      "Accuracy: 0.6391752577319587\n"
     ]
    },
    {
     "data": {
      "text/plain": [
       "array([[55, 34],\n",
       "       [36, 69]])"
      ]
     },
     "execution_count": 123,
     "metadata": {},
     "output_type": "execute_result"
    }
   ],
   "source": [
    "#\n",
    "\n",
    "from sklearn.model_selection import train_test_split\n",
    "from sklearn.linear_model import LogisticRegression\n",
    "from sklearn.metrics import accuracy_score\n",
    "from sklearn import metrics\n",
    "\n",
    "\n",
    "# Select features and target variable\n",
    "\n",
    "\n",
    "features = baseline_neeko[['golddiffat15', 'xpdiffat15', 'csdiffat15',\n",
    "               'one_hot_position_bot', 'one_hot_position_top', 'one_hot_position_mid', \n",
    "               'one_hot_position_sup', 'one_hot_position_jng']]\n",
    "target = baseline_neeko['result']  # Assuming 'result' is the column indicating the game result\n",
    "\n",
    "# Split the data into training and testing sets\n",
    "X_train, X_test, y_train, y_test = train_test_split(features, target, test_size=0.2)#, random_state=52)\n",
    "\n",
    "# print(X_train)\n",
    "\n",
    "# Train the Logistic Regression model\n",
    "model = LogisticRegression(max_iter = 10000)\n",
    "model.fit(X_train, y_train)\n",
    "\n",
    "# print(model)\n",
    "# Making predictions on the testing data\n",
    "y_pred = model.predict(X_test)\n",
    "\n",
    "\n",
    "print(predictions)\n",
    "\n",
    "pred = pd.Series(y_pred).value_counts(normalize=True)\n",
    "print(pred)\n",
    "# Evaluating the model\n",
    "accuracy = accuracy_score(y_test, y_pred)\n",
    "print(\"Accuracy:\", accuracy)\n",
    "\n",
    "\n",
    "metrics.confusion_matrix(y_test, y_pred)\n",
    "\n",
    "\n",
    "# print(predictions.accuracy_score(y_test, y_pred))\n"
   ]
  },
  {
   "cell_type": "code",
   "execution_count": 159,
   "id": "bc827fee",
   "metadata": {},
   "outputs": [
    {
     "data": {
      "image/png": "[encoded data removed]",
      "text/plain": [
       "<Figure size 640x480 with 2 Axes>"
      ]
     },
     "metadata": {},
     "output_type": "display_data"
    }
   ],
   "source": [
    "from sklearn.metrics import ConfusionMatrixDisplay\n",
    "ConfusionMatrixDisplay.from_estimator(model, X_test, y_test);"
   ]
  },
  {
   "cell_type": "code",
   "execution_count": 160,
   "id": "d62dc659",
   "metadata": {},
   "outputs": [],
   "source": [
    "# from sklearn.metrics import ConfusionMatrixDisplay\n",
    "# ConfusionMatrixDisplay.from_estimator(model, X_test, y_test);\n",
    "# plt.grid(False)"
   ]
  },
  {
   "cell_type": "code",
   "execution_count": null,
   "id": "10c1bf4f",
   "metadata": {},
   "outputs": [],
   "source": []
  },
  {
   "cell_type": "code",
   "execution_count": 161,
   "id": "89fbad54",
   "metadata": {},
   "outputs": [
    {
     "data": {
      "text/plain": [
       "0.6391752577319587"
      ]
     },
     "execution_count": 161,
     "metadata": {},
     "output_type": "execute_result"
    }
   ],
   "source": [
    "metrics.accuracy_score(y_test, y_pred)"
   ]
  },
  {
   "cell_type": "code",
   "execution_count": 162,
   "id": "026fed76",
   "metadata": {},
   "outputs": [
    {
     "data": {
      "text/plain": [
       "0.6699029126213593"
      ]
     },
     "execution_count": 162,
     "metadata": {},
     "output_type": "execute_result"
    }
   ],
   "source": [
    "metrics.precision_score(y_test, y_pred)"
   ]
  },
  {
   "cell_type": "code",
   "execution_count": 163,
   "id": "cfadf170",
   "metadata": {},
   "outputs": [
    {
     "data": {
      "text/plain": [
       "0.6571428571428571"
      ]
     },
     "execution_count": 163,
     "metadata": {},
     "output_type": "execute_result"
    }
   ],
   "source": [
    "metrics.recall_score(y_test, y_pred)"
   ]
  },
  {
   "cell_type": "code",
   "execution_count": null,
   "id": "3e5ae2d4",
   "metadata": {},
   "outputs": [],
   "source": []
  }
 ],
 "metadata": {
  "kernelspec": {
   "display_name": "Python 3 (ipykernel)",
   "language": "python",
   "name": "python3"
  },
  "language_info": {
   "codemirror_mode": {
    "name": "ipython",
    "version": 3
   },
   "file_extension": ".py",
   "mimetype": "text/x-python",
   "name": "python",
   "nbconvert_exporter": "python",
   "pygments_lexer": "ipython3",
   "version": "3.10.12"
  }
 },
 "nbformat": 4,
 "nbformat_minor": 5
}
