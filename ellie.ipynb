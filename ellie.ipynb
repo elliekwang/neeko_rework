{
 "cells": [
  {
   "cell_type": "code",
   "execution_count": 62,
   "id": "64b020fb",
   "metadata": {},
   "outputs": [
    {
     "name": "stderr",
     "output_type": "stream",
     "text": [
      "/Users/elliekwang/miniforge3/envs/dsc80/lib/python3.8/site-packages/IPython/core/interactiveshell.py:3508: DtypeWarning: Columns (2) have mixed types.Specify dtype option on import or set low_memory=False.\n",
      "  exec(code_obj, self.user_global_ns, self.user_ns)\n"
     ]
    },
    {
     "data": {
      "text/html": [
       "<div>\n",
       "<style scoped>\n",
       "    .dataframe tbody tr th:only-of-type {\n",
       "        vertical-align: middle;\n",
       "    }\n",
       "\n",
       "    .dataframe tbody tr th {\n",
       "        vertical-align: top;\n",
       "    }\n",
       "\n",
       "    .dataframe thead th {\n",
       "        text-align: right;\n",
       "    }\n",
       "</style>\n",
       "<table border=\"1\" class=\"dataframe\">\n",
       "  <thead>\n",
       "    <tr style=\"text-align: right;\">\n",
       "      <th></th>\n",
       "      <th>gameid</th>\n",
       "      <th>datacompleteness</th>\n",
       "      <th>url</th>\n",
       "      <th>league</th>\n",
       "      <th>year</th>\n",
       "      <th>split</th>\n",
       "      <th>playoffs</th>\n",
       "      <th>date</th>\n",
       "      <th>game</th>\n",
       "      <th>patch</th>\n",
       "      <th>...</th>\n",
       "      <th>opp_csat15</th>\n",
       "      <th>golddiffat15</th>\n",
       "      <th>xpdiffat15</th>\n",
       "      <th>csdiffat15</th>\n",
       "      <th>killsat15</th>\n",
       "      <th>assistsat15</th>\n",
       "      <th>deathsat15</th>\n",
       "      <th>opp_killsat15</th>\n",
       "      <th>opp_assistsat15</th>\n",
       "      <th>opp_deathsat15</th>\n",
       "    </tr>\n",
       "  </thead>\n",
       "  <tbody>\n",
       "    <tr>\n",
       "      <th>16027</th>\n",
       "      <td>ESPORTSTMNT02_2557639</td>\n",
       "      <td>complete</td>\n",
       "      <td>NaN</td>\n",
       "      <td>EL</td>\n",
       "      <td>2022</td>\n",
       "      <td>NaN</td>\n",
       "      <td>0</td>\n",
       "      <td>2022-02-09 00:31:28</td>\n",
       "      <td>1</td>\n",
       "      <td>12.02</td>\n",
       "      <td>...</td>\n",
       "      <td>126.0</td>\n",
       "      <td>381.0</td>\n",
       "      <td>97.0</td>\n",
       "      <td>3.0</td>\n",
       "      <td>1.0</td>\n",
       "      <td>3.0</td>\n",
       "      <td>0.0</td>\n",
       "      <td>2.0</td>\n",
       "      <td>0.0</td>\n",
       "      <td>1.0</td>\n",
       "    </tr>\n",
       "  </tbody>\n",
       "</table>\n",
       "<p>1 rows × 131 columns</p>\n",
       "</div>"
      ],
      "text/plain": [
       "                      gameid datacompleteness  url league  year split  \\\n",
       "16027  ESPORTSTMNT02_2557639         complete  NaN     EL  2022   NaN   \n",
       "\n",
       "       playoffs                 date  game  patch  ...  opp_csat15  \\\n",
       "16027         0  2022-02-09 00:31:28     1  12.02  ...       126.0   \n",
       "\n",
       "      golddiffat15 xpdiffat15 csdiffat15 killsat15 assistsat15 deathsat15  \\\n",
       "16027        381.0       97.0        3.0       1.0         3.0        0.0   \n",
       "\n",
       "      opp_killsat15 opp_assistsat15 opp_deathsat15  \n",
       "16027           2.0             0.0            1.0  \n",
       "\n",
       "[1 rows x 131 columns]"
      ]
     },
     "execution_count": 62,
     "metadata": {},
     "output_type": "execute_result"
    }
   ],
   "source": [
    "import pandas as pd\n",
    "import numpy as np\n",
    "from pathlib import Path\n",
    "\n",
    "import plotly.express as px\n",
    "pd.options.plotting.backend = 'plotly'\n",
    "\n",
    "# from dsc80_utils import * # Feel free to uncomment and use this.\n",
    "\n",
    "fp1 = '../data/league_2023.csv'\n",
    "\n",
    "fp2 = '../data/league_2022.csv'\n",
    "\n",
    "fp3 = '../data/league_2024.csv'\n",
    "\n",
    "league23 = pd.read_csv(fp1)\n",
    "league23[league23['patch'] == 13.09]\n",
    "\n",
    "league22 = pd.read_csv(fp2)\n",
    "\n",
    "league24 = pd.read_csv(fp3)\n",
    "\n",
    "league22\n",
    "\n",
    "list(league.columns)\n",
    "\n",
    "# neeko = league[league['champion'] == 'Neeko']\n",
    "\n",
    "# neeko = neeko[neeko['patch'] == 13.9]\n",
    "\n",
    "\n",
    "neeko['patch'].value_counts()\n",
    "\n",
    "# neeko\n",
    "\n",
    "\n",
    "league22[league22['champion'] == 'neeko']\n",
    "league22['champion'] == 'neeko'\n",
    "\n",
    "\n",
    "#hi joyce\n",
    "\n",
    "\n",
    "combined = pd.concat([league22, league23, league24])\n",
    "\n",
    "neeko = combined[combined['champion'] == 'Neeko']\n",
    "neeko\n",
    "\n",
    "neeko[neeko['gameid'] == 'ESPORTSTMNT02_2557639']"
   ]
  },
  {
   "cell_type": "code",
   "execution_count": 63,
   "id": "24972fc6",
   "metadata": {},
   "outputs": [
    {
     "data": {
      "text/plain": [
       "25788"
      ]
     },
     "execution_count": 63,
     "metadata": {},
     "output_type": "execute_result"
    }
   ],
   "source": [
    "len(combined['gameid'].unique())"
   ]
  },
  {
   "cell_type": "code",
   "execution_count": 64,
   "id": "0147a076",
   "metadata": {},
   "outputs": [],
   "source": [
    "#hypothesis test: was playing neeko after the patch random or is \n",
    "#there a significant difference what happened before and after the patch\n",
    "\n",
    "\n",
    "\n"
   ]
  },
  {
   "cell_type": "code",
   "execution_count": 78,
   "id": "a60fc015",
   "metadata": {},
   "outputs": [],
   "source": [
    "# combined = combined[combined['patch'] >= 12.11]\n",
    "# combined."
   ]
  },
  {
   "cell_type": "code",
   "execution_count": 79,
   "id": "b8ae30bc",
   "metadata": {},
   "outputs": [
    {
     "data": {
      "text/plain": [
       "array([12.01, 12.02, 12.03, 12.04, 12.05, 12.06, 12.07, 12.08, 12.09,\n",
       "       12.1 , 12.11, 12.12, 12.13, 12.14, 12.15,   nan, 12.16, 12.17,\n",
       "       12.18, 12.19, 12.2 , 12.21, 12.23])"
      ]
     },
     "execution_count": 79,
     "metadata": {},
     "output_type": "execute_result"
    }
   ],
   "source": [
    "league22['patch'].unique()\n",
    "#11"
   ]
  },
  {
   "cell_type": "code",
   "execution_count": 80,
   "id": "9bd3a0e9",
   "metadata": {},
   "outputs": [
    {
     "data": {
      "text/plain": [
       "array([13.01, 13.03, 13.04, 13.05, 13.06,   nan, 13.07, 13.08, 13.09,\n",
       "       13.1 , 13.11, 13.12, 13.13, 13.14, 13.15, 13.16, 13.17, 13.18,\n",
       "       13.19, 13.2 , 13.21, 13.22, 13.24])"
      ]
     },
     "execution_count": 80,
     "metadata": {},
     "output_type": "execute_result"
    }
   ],
   "source": [
    "league23['patch'].unique()"
   ]
  },
  {
   "cell_type": "code",
   "execution_count": 81,
   "id": "d7b3d925",
   "metadata": {},
   "outputs": [
    {
     "data": {
      "text/plain": [
       "array([13.24, 14.01, 14.02, 14.03,   nan, 14.04, 14.05])"
      ]
     },
     "execution_count": 81,
     "metadata": {},
     "output_type": "execute_result"
    }
   ],
   "source": [
    "league24['patch'].unique()"
   ]
  },
  {
   "cell_type": "code",
   "execution_count": null,
   "id": "e89f65d9",
   "metadata": {},
   "outputs": [],
   "source": []
  }
 ],
 "metadata": {
  "kernelspec": {
   "display_name": "Python 3 (ipykernel)",
   "language": "python",
   "name": "python3"
  },
  "language_info": {
   "codemirror_mode": {
    "name": "ipython",
    "version": 3
   },
   "file_extension": ".py",
   "mimetype": "text/x-python",
   "name": "python",
   "nbconvert_exporter": "python",
   "pygments_lexer": "ipython3",
   "version": "3.8.18"
  }
 },
 "nbformat": 4,
 "nbformat_minor": 5
}
