{
 "cells": [
  {
   "cell_type": "code",
   "execution_count": 121,
   "id": "0f463e02",
   "metadata": {},
   "outputs": [],
   "source": [
    "import pandas as pd\n",
    "import numpy as np\n",
    "import plotly.express as px\n",
    "import plotly.io as pio\n",
    "from pathlib import Path\n",
    "from dsc80_utils import *\n",
    "import matplotlib.pyplot as plt\n",
    "\n",
    "\n",
    "# from dsc80_utils import create_kde_plotly\n",
    "# import create_kde_plotly\n",
    "pio.renderers.default = \"browser\"\n",
    "# pd.options.plotting.backend = 'plotly'"
   ]
  },
  {
   "cell_type": "markdown",
   "id": "d0d573a1",
   "metadata": {},
   "source": [
    "This is a data science project about League of Legends for the class DSC 80 at UCSD. \n",
    "\n",
    "Names: Joyce Hu and Ellie Wang"
   ]
  },
  {
   "cell_type": "markdown",
   "id": "04279077",
   "metadata": {},
   "source": [
    "# Introduction\n",
    "\n",
    "For our project, we are interested in exploring dataset about the game League of Legends from Oracle's Elixir. As League of Legends continues to constantly update the game, there are changes to all aspects that we want to investigate. More specifically, we aim to answer qusetions about the champion Neeko."
   ]
  },
  {
   "cell_type": "markdown",
   "id": "b1d590d3",
   "metadata": {},
   "source": [
    "# Data Cleaning and Exploratory Data Analysis\n",
    "\n",
    "For our project, we worked with smaller dataframes taken from `league`, which is the dataframe that concats together League of Legends datasets from Oracle's Elixir from the years 2021, 2022, 2023, and 2024. To appropriately clean the data, we:\n",
    "\n",
    "- created `patch_missing`: a new column that holds a binary variable for missing patches \n",
    "- imputed missing patches by mapping specific dates to corresponding patch versions\n",
    "- imputed team statistics; team-level statistics for certain variables (`firstdragon`, `firstherald`, `heralds`, `opp_heralds`) are imputed into missing player-level stats by extracting team summary stats from the dataset and merging them with player-level data based on `gameid` and `teamid`\n",
    "- created `post_rework`: binary variable for patch rework; checks if patch is greater than or equal to 13.09 \n",
    "- created `neeko`: binary variable to indicate whether Neeko played n the game \n",
    "- created `herald_diff`: represents the difference in number of heralds gained by the team and the opponent team \n",
    "- kept the features we need for the rest of the project \n",
    "\n",
    "\n",
    "We cleaned the dataset this way to make the data more compatible to  answer our question: is there a higher proportion of games with a Neeko in it after the Patch 13.9 rework? \n",
    "\n"
   ]
  },
  {
   "cell_type": "code",
   "execution_count": 132,
   "id": "711f2619",
   "metadata": {},
   "outputs": [
    {
     "name": "stderr",
     "output_type": "stream",
     "text": [
      "/Users/elliekwang/miniforge3/envs/dsc80/lib/python3.8/site-packages/IPython/core/interactiveshell.py:3508: DtypeWarning:\n",
      "\n",
      "Columns (2) have mixed types.Specify dtype option on import or set low_memory=False.\n",
      "\n"
     ]
    },
    {
     "data": {
      "text/html": [
       "<div>\n",
       "<style scoped>\n",
       "    .dataframe tbody tr th:only-of-type {\n",
       "        vertical-align: middle;\n",
       "    }\n",
       "\n",
       "    .dataframe tbody tr th {\n",
       "        vertical-align: top;\n",
       "    }\n",
       "\n",
       "    .dataframe thead th {\n",
       "        text-align: right;\n",
       "    }\n",
       "</style>\n",
       "<table border=\"1\" class=\"dataframe\">\n",
       "  <thead>\n",
       "    <tr style=\"text-align: right;\">\n",
       "      <th></th>\n",
       "      <th>gameid</th>\n",
       "      <th>datacompleteness</th>\n",
       "      <th>url</th>\n",
       "      <th>league</th>\n",
       "      <th>...</th>\n",
       "      <th>deathsat15</th>\n",
       "      <th>opp_killsat15</th>\n",
       "      <th>opp_assistsat15</th>\n",
       "      <th>opp_deathsat15</th>\n",
       "    </tr>\n",
       "  </thead>\n",
       "  <tbody>\n",
       "    <tr>\n",
       "      <th>0</th>\n",
       "      <td>ESPORTSTMNT03/1632489</td>\n",
       "      <td>complete</td>\n",
       "      <td>http://matchhistory.na.leagueoflegends.com/en/...</td>\n",
       "      <td>KeSPA</td>\n",
       "      <td>...</td>\n",
       "      <td>1.0</td>\n",
       "      <td>0.0</td>\n",
       "      <td>1.0</td>\n",
       "      <td>1.0</td>\n",
       "    </tr>\n",
       "    <tr>\n",
       "      <th>1</th>\n",
       "      <td>ESPORTSTMNT03/1632489</td>\n",
       "      <td>complete</td>\n",
       "      <td>http://matchhistory.na.leagueoflegends.com/en/...</td>\n",
       "      <td>KeSPA</td>\n",
       "      <td>...</td>\n",
       "      <td>0.0</td>\n",
       "      <td>2.0</td>\n",
       "      <td>0.0</td>\n",
       "      <td>3.0</td>\n",
       "    </tr>\n",
       "    <tr>\n",
       "      <th>2</th>\n",
       "      <td>ESPORTSTMNT03/1632489</td>\n",
       "      <td>complete</td>\n",
       "      <td>http://matchhistory.na.leagueoflegends.com/en/...</td>\n",
       "      <td>KeSPA</td>\n",
       "      <td>...</td>\n",
       "      <td>0.0</td>\n",
       "      <td>0.0</td>\n",
       "      <td>0.0</td>\n",
       "      <td>0.0</td>\n",
       "    </tr>\n",
       "    <tr>\n",
       "      <th>3</th>\n",
       "      <td>ESPORTSTMNT03/1632489</td>\n",
       "      <td>complete</td>\n",
       "      <td>http://matchhistory.na.leagueoflegends.com/en/...</td>\n",
       "      <td>KeSPA</td>\n",
       "      <td>...</td>\n",
       "      <td>2.0</td>\n",
       "      <td>1.0</td>\n",
       "      <td>1.0</td>\n",
       "      <td>2.0</td>\n",
       "    </tr>\n",
       "    <tr>\n",
       "      <th>4</th>\n",
       "      <td>ESPORTSTMNT03/1632489</td>\n",
       "      <td>complete</td>\n",
       "      <td>http://matchhistory.na.leagueoflegends.com/en/...</td>\n",
       "      <td>KeSPA</td>\n",
       "      <td>...</td>\n",
       "      <td>0.0</td>\n",
       "      <td>0.0</td>\n",
       "      <td>2.0</td>\n",
       "      <td>2.0</td>\n",
       "    </tr>\n",
       "  </tbody>\n",
       "</table>\n",
       "<p>5 rows × 131 columns</p>\n",
       "</div>"
      ],
      "text/plain": [
       "                  gameid datacompleteness  \\\n",
       "0  ESPORTSTMNT03/1632489         complete   \n",
       "1  ESPORTSTMNT03/1632489         complete   \n",
       "2  ESPORTSTMNT03/1632489         complete   \n",
       "3  ESPORTSTMNT03/1632489         complete   \n",
       "4  ESPORTSTMNT03/1632489         complete   \n",
       "\n",
       "                                                 url league  ...  deathsat15  \\\n",
       "0  http://matchhistory.na.leagueoflegends.com/en/...  KeSPA  ...         1.0   \n",
       "1  http://matchhistory.na.leagueoflegends.com/en/...  KeSPA  ...         0.0   \n",
       "2  http://matchhistory.na.leagueoflegends.com/en/...  KeSPA  ...         0.0   \n",
       "3  http://matchhistory.na.leagueoflegends.com/en/...  KeSPA  ...         2.0   \n",
       "4  http://matchhistory.na.leagueoflegends.com/en/...  KeSPA  ...         0.0   \n",
       "\n",
       "  opp_killsat15  opp_assistsat15 opp_deathsat15  \n",
       "0           0.0              1.0            1.0  \n",
       "1           2.0              0.0            3.0  \n",
       "2           0.0              0.0            0.0  \n",
       "3           1.0              1.0            2.0  \n",
       "4           0.0              2.0            2.0  \n",
       "\n",
       "[5 rows x 131 columns]"
      ]
     },
     "execution_count": 132,
     "metadata": {},
     "output_type": "execute_result"
    }
   ],
   "source": [
    "fp1 = '../data/league_2021.csv'\n",
    "fp2 = '../data/league_2022.csv'\n",
    "fp3 = '../data/league_2023.csv'\n",
    "fp4 = '../data/league_2024.csv'\n",
    "\n",
    "leeg21 = pd.read_csv(fp1)\n",
    "leeg22 = pd.read_csv(fp2)\n",
    "leeg23 = pd.read_csv(fp3)\n",
    "leeg24 = pd.read_csv(fp4)\n",
    "\n",
    "league = pd.concat([leeg21, leeg22, leeg23, leeg24])\n",
    "league.head()"
   ]
  },
  {
   "cell_type": "code",
   "execution_count": 133,
   "id": "46f9d1f7",
   "metadata": {
    "scrolled": true
   },
   "outputs": [
    {
     "data": {
      "text/html": [
       "<div>\n",
       "<style scoped>\n",
       "    .dataframe tbody tr th:only-of-type {\n",
       "        vertical-align: middle;\n",
       "    }\n",
       "\n",
       "    .dataframe tbody tr th {\n",
       "        vertical-align: top;\n",
       "    }\n",
       "\n",
       "    .dataframe thead th {\n",
       "        text-align: right;\n",
       "    }\n",
       "</style>\n",
       "<table border=\"1\" class=\"dataframe\">\n",
       "  <thead>\n",
       "    <tr style=\"text-align: right;\">\n",
       "      <th></th>\n",
       "      <th>gameid</th>\n",
       "      <th>teamid</th>\n",
       "      <th>neeko</th>\n",
       "      <th>position</th>\n",
       "      <th>...</th>\n",
       "      <th>killsat15</th>\n",
       "      <th>assistsat15</th>\n",
       "      <th>deathsat15</th>\n",
       "      <th>result</th>\n",
       "    </tr>\n",
       "  </thead>\n",
       "  <tbody>\n",
       "    <tr>\n",
       "      <th>0</th>\n",
       "      <td>ESPORTSTMNT03/1632489</td>\n",
       "      <td>oe:team:2e79800a550f87f2378dbba9368396d</td>\n",
       "      <td>0</td>\n",
       "      <td>top</td>\n",
       "      <td>...</td>\n",
       "      <td>2.0</td>\n",
       "      <td>0.0</td>\n",
       "      <td>1.0</td>\n",
       "      <td>1</td>\n",
       "    </tr>\n",
       "    <tr>\n",
       "      <th>1</th>\n",
       "      <td>ESPORTSTMNT03/1632489</td>\n",
       "      <td>oe:team:2e79800a550f87f2378dbba9368396d</td>\n",
       "      <td>0</td>\n",
       "      <td>jng</td>\n",
       "      <td>...</td>\n",
       "      <td>3.0</td>\n",
       "      <td>2.0</td>\n",
       "      <td>0.0</td>\n",
       "      <td>1</td>\n",
       "    </tr>\n",
       "    <tr>\n",
       "      <th>2</th>\n",
       "      <td>ESPORTSTMNT03/1632489</td>\n",
       "      <td>oe:team:2e79800a550f87f2378dbba9368396d</td>\n",
       "      <td>0</td>\n",
       "      <td>mid</td>\n",
       "      <td>...</td>\n",
       "      <td>2.0</td>\n",
       "      <td>3.0</td>\n",
       "      <td>0.0</td>\n",
       "      <td>1</td>\n",
       "    </tr>\n",
       "    <tr>\n",
       "      <th>3</th>\n",
       "      <td>ESPORTSTMNT03/1632489</td>\n",
       "      <td>oe:team:2e79800a550f87f2378dbba9368396d</td>\n",
       "      <td>0</td>\n",
       "      <td>bot</td>\n",
       "      <td>...</td>\n",
       "      <td>0.0</td>\n",
       "      <td>4.0</td>\n",
       "      <td>2.0</td>\n",
       "      <td>1</td>\n",
       "    </tr>\n",
       "    <tr>\n",
       "      <th>4</th>\n",
       "      <td>ESPORTSTMNT03/1632489</td>\n",
       "      <td>oe:team:2e79800a550f87f2378dbba9368396d</td>\n",
       "      <td>0</td>\n",
       "      <td>sup</td>\n",
       "      <td>...</td>\n",
       "      <td>1.0</td>\n",
       "      <td>4.0</td>\n",
       "      <td>0.0</td>\n",
       "      <td>1</td>\n",
       "    </tr>\n",
       "  </tbody>\n",
       "</table>\n",
       "<p>5 rows × 21 columns</p>\n",
       "</div>"
      ],
      "text/plain": [
       "                  gameid                                   teamid  neeko  \\\n",
       "0  ESPORTSTMNT03/1632489  oe:team:2e79800a550f87f2378dbba9368396d      0   \n",
       "1  ESPORTSTMNT03/1632489  oe:team:2e79800a550f87f2378dbba9368396d      0   \n",
       "2  ESPORTSTMNT03/1632489  oe:team:2e79800a550f87f2378dbba9368396d      0   \n",
       "3  ESPORTSTMNT03/1632489  oe:team:2e79800a550f87f2378dbba9368396d      0   \n",
       "4  ESPORTSTMNT03/1632489  oe:team:2e79800a550f87f2378dbba9368396d      0   \n",
       "\n",
       "  position  ... killsat15 assistsat15  deathsat15  result  \n",
       "0      top  ...       2.0         0.0         1.0       1  \n",
       "1      jng  ...       3.0         2.0         0.0       1  \n",
       "2      mid  ...       2.0         3.0         0.0       1  \n",
       "3      bot  ...       0.0         4.0         2.0       1  \n",
       "4      sup  ...       1.0         4.0         0.0       1  \n",
       "\n",
       "[5 rows x 21 columns]"
      ]
     },
     "execution_count": 133,
     "metadata": {},
     "output_type": "execute_result"
    }
   ],
   "source": [
    "# make copy \n",
    "pre_cleaning = league.copy()\n",
    "\n",
    "# binary variable for missing patch\n",
    "league['patch_missing'] = (league['patch'].isna()).astype(int)\n",
    "\n",
    "## impute missing patches\n",
    "patches = {\n",
    "    '2022-08-11 08:37:33':12.15, \n",
    "    '2022-08-12 06:08:39':12.15, \n",
    "    '2022-08-12 07:04:40':12.15, \n",
    "    '2022-08-12 07:52:33':12.15, \n",
    "    '2022-08-12 08:51:49':12.15, \n",
    "    '2022-08-12 09:58:13':12.15, \n",
    "    '2022-08-13 06:08:31':12.15, \n",
    "    '2022-08-13 06:55:35':12.15, \n",
    "    '2022-08-13 06:08:31':12.15,\n",
    "    '2022-08-13 06:55:35':12.15,\n",
    "    '2022-08-13 07:47:42':12.15,\n",
    "    '2023-04-05 09:17:28':13.07,\n",
    "    '2023-04-05 10:18:03':13.07, \n",
    "    '2023-04-05 11:23:10':13.07,\n",
    "    '2023-04-05 12:21:13':13.07,\n",
    "    '2023-04-05 13:10:18':13.07,\n",
    "    '2023-05-08 06:12:19':13.09,\n",
    "    '2023-05-08 07:07:13':13.09,\n",
    "    '2023-05-08 08:12:21':13.09,\n",
    "    '2023-05-08 09:06:19':13.09,\n",
    "    '2023-05-08 10:08:36':13.09,\n",
    "    '2024-02-21 06:02:57':14.03,\n",
    "    '2024-02-21 06:56:52':14.03, \n",
    "    '2024-02-21 07:43:27':14.03,\n",
    "    '2024-02-21 08:31:33':14.03, \n",
    "    '2024-02-21 09:17:02':14.03\n",
    "}\n",
    "league['patch'] = league['patch'].fillna(league['date'])\n",
    "league['patch'] = league['patch'].replace(patches)\n",
    "\n",
    "## impute team statistics into missing player level stats for 'firstdragon', 'firstherald', 'heralds', 'opp_heralds'\n",
    "\n",
    "# get team summary statistics \n",
    "team_stats = (league[(league['participantid'] == 100) | (league['participantid'] == 200)]\n",
    "              .loc[:,['gameid', 'teamid','firstdragon', 'firstherald', 'heralds', 'opp_heralds']])\n",
    "\n",
    "# subset dataframe to player level data\n",
    "league = league[(league['participantid'] != 100) & (league['participantid'] != 200)]\n",
    "\n",
    "# drop stats cols in league to retain col names after merge\n",
    "league = league.drop(columns=['firstdragon', 'firstherald', 'heralds', 'opp_heralds'])\n",
    "\n",
    "# merge team stats onto player level data\n",
    "league = league.merge(team_stats, on=['gameid', 'teamid'], how='left')\n",
    "\n",
    "# create a binary variable for before and after Patch 13.9\n",
    "league['post_rework'] = (league['patch'] >= 13.09).astype(int)\n",
    "\n",
    "# create a binary variable for whether neeko played in the game\n",
    "league['neeko'] = (league['champion'] == 'Neeko').astype(int)\n",
    "\n",
    "# create a new variable for difference in heralds gained \n",
    "league['herald_diff'] = league['heralds'] - league['opp_heralds']\n",
    "\n",
    "# keep features we need\n",
    "league = (league.loc[:, ['gameid', 'teamid', 'neeko', 'position', 'datacompleteness','league', \n",
    "                'patch', 'patch_missing','firstdragon', 'firstherald', 'herald_diff', 'goldat15','xpat15','csat15',\n",
    "                'golddiffat15','xpdiffat15','csdiffat15','killsat15','assistsat15','deathsat15',\n",
    "                'result']])\n",
    "\n",
    "league.head()"
   ]
  },
  {
   "cell_type": "code",
   "execution_count": 62,
   "id": "c810516d",
   "metadata": {},
   "outputs": [],
   "source": [
    "# print(league.head().to_markdown(index = False))"
   ]
  },
  {
   "cell_type": "markdown",
   "id": "4d17565a",
   "metadata": {},
   "source": [
    "## Univariate Analysis\n",
    "This plot shows the distribution of positions that Neeko played. From the plot, we can see that `mid` is the most played position by Neeko. "
   ]
  },
  {
   "cell_type": "code",
   "execution_count": 125,
   "id": "bd08ecd9",
   "metadata": {},
   "outputs": [],
   "source": [
    "neeko = league[league['neeko'] == 1]\n",
    "\n",
    "fig_uni = px.histogram(neeko, x='position')\n",
    "fig_uni.update_layout(title_text = \"Histogram of Neeko's Positions Played\")\n",
    "\n",
    "          \n",
    "# fig_uni.show()\n",
    "# fig_uni.write_html\n",
    "# fig_uni.write_html('univariate.html', include_plotlyjs='cdn')"
   ]
  },
  {
   "cell_type": "markdown",
   "id": "1b28f09e",
   "metadata": {},
   "source": [
    "## Bivariate Analysis\n",
    "\n",
    "This plot (Neeko only) shows the relationship between the column `goldat15` and `csat15`, which are the amount of gold collected at 15 minutes and the number of minions killed at 15 minutes by Neeko. We can see a positive correlation between the two variables since as the amount of gold collected increases, the number of minions killed increases as well. "
   ]
  },
  {
   "cell_type": "code",
   "execution_count": 128,
   "id": "f0ea1d16",
   "metadata": {},
   "outputs": [],
   "source": [
    "fig_bi = px.scatter(neeko, x='goldat15', y='csat15',\n",
    "                 title='Distribution of Gold v. CS at 15 Minutes')\n",
    "\n",
    "fig_bi.update_xaxes(title='Gold at 15 Minutes')\n",
    "fig_bi.update_yaxes(title='CS at 15 Minutes')\n",
    "\n",
    "# fig_bi.show()\n",
    "# fig_bi.write_html\n",
    "# fig_bi.write_html('bivariate.html', include_plotlyjs='cdn')"
   ]
  },
  {
   "cell_type": "markdown",
   "id": "2a714428",
   "metadata": {},
   "source": [
    "## Interesting Aggregates"
   ]
  },
  {
   "cell_type": "markdown",
   "id": "a94a7a49",
   "metadata": {},
   "source": [
    "This is a pivot table of the number of games with neeko from patch 12.10 to 14.05, seperated by the position she was played in. It is interesting because we can see the amount of games she was played in increases over time. "
   ]
  },
  {
   "cell_type": "code",
   "execution_count": 63,
   "id": "ec69ff13",
   "metadata": {},
   "outputs": [],
   "source": [
    "# just looking at patch 12.10 - present\n",
    "recent = league[league['patch'] >= 12.10]\n",
    "\n",
    "recent_pv = (recent.pivot_table(index='patch', columns='position', values='neeko', aggfunc='sum', \n",
    "                    margins=True, margins_name='total'))\n",
    "\n",
    "# print(recent_pv.to_markdown())\n",
    "# recent.pivot_table"
   ]
  },
  {
   "cell_type": "code",
   "execution_count": 120,
   "id": "3edb2d29",
   "metadata": {},
   "outputs": [
    {
     "data": {
      "text/plain": [
       "0         0\n",
       "1         0\n",
       "2         0\n",
       "         ..\n",
       "382787    0\n",
       "382788    0\n",
       "382789    0\n",
       "Name: patch_missing, Length: 382790, dtype: int64"
      ]
     },
     "execution_count": 120,
     "metadata": {},
     "output_type": "execute_result"
    }
   ],
   "source": [
    "league['patch_missing']"
   ]
  },
  {
   "cell_type": "markdown",
   "id": "321111ea",
   "metadata": {},
   "source": [
    "# Assessment of Missingness"
   ]
  },
  {
   "cell_type": "markdown",
   "id": "34fd250b",
   "metadata": {},
   "source": [
    "## NMAR Analysis\n",
    "\n",
    "We do not belive that there is a column in our dataset that is NMAR. While there are a lot of columns with missing data, we believe that most are related to the column `datacompletedness`. \n",
    "\n",
    "Additionally, based on our preliminary findings when looking at the \"patch\" column that has missing data, we believe that the column \"league\", which is composed of the different leagues played in the game, could explain the missingness since we found that there were only missing patches for two leagues out of the 56."
   ]
  },
  {
   "cell_type": "markdown",
   "id": "a8170849",
   "metadata": {},
   "source": [
    "## Missingness Dependency: `patch`\n",
    "\n",
    "A column that is important to our hypothesis test is the `patch` column. However, we found that the `patch` column had **382840** missing values. We analyzed its relationship with the `league` and `result` columns to check its missingness dependency. "
   ]
  },
  {
   "cell_type": "markdown",
   "id": "7220c767",
   "metadata": {},
   "source": [
    "### 1. `patch` v. `league`\n"
   ]
  },
  {
   "cell_type": "code",
   "execution_count": 88,
   "id": "ff9b62a7",
   "metadata": {},
   "outputs": [
    {
     "name": "stdout",
     "output_type": "stream",
     "text": [
      "0.8440988106129917\n"
     ]
    },
    {
     "data": {
      "text/html": [
       "<div>\n",
       "<style scoped>\n",
       "    .dataframe tbody tr th:only-of-type {\n",
       "        vertical-align: middle;\n",
       "    }\n",
       "\n",
       "    .dataframe tbody tr th {\n",
       "        vertical-align: top;\n",
       "    }\n",
       "\n",
       "    .dataframe thead th {\n",
       "        text-align: right;\n",
       "    }\n",
       "</style>\n",
       "<table border=\"1\" class=\"dataframe\">\n",
       "  <thead>\n",
       "    <tr style=\"text-align: right;\">\n",
       "      <th>patch_missing</th>\n",
       "      <th>0</th>\n",
       "      <th>1</th>\n",
       "    </tr>\n",
       "    <tr>\n",
       "      <th>league</th>\n",
       "      <th></th>\n",
       "      <th></th>\n",
       "    </tr>\n",
       "  </thead>\n",
       "  <tbody>\n",
       "    <tr>\n",
       "      <th>AL</th>\n",
       "      <td>0.005777</td>\n",
       "      <td>0.0</td>\n",
       "    </tr>\n",
       "    <tr>\n",
       "      <th>AOL</th>\n",
       "      <td>0.000967</td>\n",
       "      <td>0.0</td>\n",
       "    </tr>\n",
       "    <tr>\n",
       "      <th>BIG</th>\n",
       "      <td>0.003869</td>\n",
       "      <td>0.0</td>\n",
       "    </tr>\n",
       "    <tr>\n",
       "      <th>BL</th>\n",
       "      <td>0.002692</td>\n",
       "      <td>0.0</td>\n",
       "    </tr>\n",
       "    <tr>\n",
       "      <th>BM</th>\n",
       "      <td>0.002300</td>\n",
       "      <td>0.0</td>\n",
       "    </tr>\n",
       "  </tbody>\n",
       "</table>\n",
       "</div>"
      ],
      "text/plain": [
       "patch_missing         0    1\n",
       "league                      \n",
       "AL             0.005777  0.0\n",
       "AOL            0.000967  0.0\n",
       "BIG            0.003869  0.0\n",
       "BL             0.002692  0.0\n",
       "BM             0.002300  0.0"
      ]
     },
     "execution_count": 88,
     "metadata": {},
     "output_type": "execute_result"
    }
   ],
   "source": [
    "piv = league.pivot_table(index='league', columns='patch_missing', aggfunc='size').fillna(0)\n",
    "piv = piv / piv.sum()\n",
    "obs1 = piv.diff(axis=1).iloc[:,-1].abs().sum() / 2\n",
    "print(obs1)\n",
    "piv.head()"
   ]
  },
  {
   "cell_type": "code",
   "execution_count": 89,
   "id": "38935af5",
   "metadata": {},
   "outputs": [
    {
     "data": {
      "text/plain": [
       "[0.17026183941097023,\n",
       " 0.20190334596784734,\n",
       " 0.1946130135494271,\n",
       " 0.21275138326144732,\n",
       " 0.19381235568335292,\n",
       " 0.20839955561364526,\n",
       " 0.21043806909772145,\n",
       " 0.21987757591600227,\n",
       " 0.19031324881279138,\n",
       " 0.17501916960745872]"
      ]
     },
     "execution_count": 89,
     "metadata": {},
     "output_type": "execute_result"
    }
   ],
   "source": [
    "n_repetitions = 500\n",
    "shuffled = league.loc[:,['league', 'patch_missing']]\n",
    "\n",
    "tvds = []\n",
    "for _ in range(n_repetitions):\n",
    "    \n",
    "    # shuffle whether patch is missing\n",
    "    shuffled['shuffle_patch'] = np.random.permutation(shuffled['patch_missing'])\n",
    "    \n",
    "    # Computing and storing the TVD.\n",
    "    pivoted = (\n",
    "        shuffled.pivot_table\n",
    "        (index='league', columns='shuffle_patch', aggfunc='size').fillna(0)\n",
    "    )\n",
    "    \n",
    "    pivoted = pivoted / pivoted.sum()\n",
    "    \n",
    "    tvd = pivoted.diff(axis=1).iloc[:, -1].abs().sum() / 2\n",
    "    tvds.append(tvd)\n",
    "tvds[:10]"
   ]
  },
  {
   "cell_type": "markdown",
   "id": "92393801",
   "metadata": {},
   "source": [
    "#### p-value: "
   ]
  },
  {
   "cell_type": "code",
   "execution_count": 90,
   "id": "61f06752",
   "metadata": {
    "scrolled": true
   },
   "outputs": [
    {
     "data": {
      "text/plain": [
       "0.0"
      ]
     },
     "execution_count": 90,
     "metadata": {},
     "output_type": "execute_result"
    }
   ],
   "source": [
    "(np.array(tvds) >= obs1).mean()"
   ]
  },
  {
   "cell_type": "markdown",
   "id": "dc5ab81d",
   "metadata": {},
   "source": [
    "**Conclusion:**\n",
    "- Since our p-value = 0.0 which is less than our alpha value of 0.5, we conclude that the missingness of `patch` **does** depend on `league`."
   ]
  },
  {
   "cell_type": "code",
   "execution_count": 122,
   "id": "df063877",
   "metadata": {},
   "outputs": [],
   "source": [
    "fig1 = px.histogram(pd.DataFrame(tvds), x=0, nbins=50, histnorm='probability', \n",
    "                   title='Empirical Distribution of the TVD (patch v. league)')\n",
    "fig1.add_vline(x=obs1, line_color='red')\n",
    "fig1.add_annotation(text=f'<span style=\"color:red\">Observed TVD = {round(obs1, 2)}</span>',\n",
    "                   x=1 * obs1, showarrow=False, y=0.16)\n",
    "fig1.update_layout(yaxis_range=[0, 0.2])\n",
    "# fig.write_html\n",
    "# fig.write_html('patch1.html', include_plotlyjs='cdn')"
   ]
  },
  {
   "cell_type": "code",
   "execution_count": 154,
   "id": "4b1be10e",
   "metadata": {},
   "outputs": [],
   "source": [
    "patch1 = league[['patch_missing', 'league']]\n",
    "\n",
    "\n",
    "fig1_2 = px.histogram(patch1, x='league', color='patch_missing', histnorm='probability', marginal='box',\n",
    "             title=\"League by Missingness of Patch\", barmode='overlay', opacity=0.7)\n",
    "\n",
    "fig1_2.write_html\n",
    "fig1_2.write_html('patch1_2.html', include_plotlyjs='cdn')"
   ]
  },
  {
   "cell_type": "markdown",
   "id": "16e68ff9",
   "metadata": {},
   "source": [
    "### 2. `patch` v. `result`"
   ]
  },
  {
   "cell_type": "code",
   "execution_count": 94,
   "id": "e2cde686",
   "metadata": {},
   "outputs": [
    {
     "name": "stdout",
     "output_type": "stream",
     "text": [
      "0.00014377205594040543\n"
     ]
    },
    {
     "data": {
      "text/html": [
       "<div>\n",
       "<style scoped>\n",
       "    .dataframe tbody tr th:only-of-type {\n",
       "        vertical-align: middle;\n",
       "    }\n",
       "\n",
       "    .dataframe tbody tr th {\n",
       "        vertical-align: top;\n",
       "    }\n",
       "\n",
       "    .dataframe thead th {\n",
       "        text-align: right;\n",
       "    }\n",
       "</style>\n",
       "<table border=\"1\" class=\"dataframe\">\n",
       "  <thead>\n",
       "    <tr style=\"text-align: right;\">\n",
       "      <th>patch_missing</th>\n",
       "      <th>0</th>\n",
       "      <th>1</th>\n",
       "    </tr>\n",
       "    <tr>\n",
       "      <th>result</th>\n",
       "      <th></th>\n",
       "      <th></th>\n",
       "    </tr>\n",
       "  </thead>\n",
       "  <tbody>\n",
       "    <tr>\n",
       "      <th>0</th>\n",
       "      <td>0.500144</td>\n",
       "      <td>0.5</td>\n",
       "    </tr>\n",
       "    <tr>\n",
       "      <th>1</th>\n",
       "      <td>0.499856</td>\n",
       "      <td>0.5</td>\n",
       "    </tr>\n",
       "  </tbody>\n",
       "</table>\n",
       "</div>"
      ],
      "text/plain": [
       "patch_missing         0    1\n",
       "result                      \n",
       "0              0.500144  0.5\n",
       "1              0.499856  0.5"
      ]
     },
     "execution_count": 94,
     "metadata": {},
     "output_type": "execute_result"
    }
   ],
   "source": [
    "piv = league.pivot_table(index='result', columns='patch_missing', aggfunc='size').fillna(0)\n",
    "piv = piv / piv.sum()\n",
    "obs2 = piv.diff(axis=1).iloc[:,-1].abs().sum() / 2\n",
    "\n",
    "print(obs2)\n",
    "piv"
   ]
  },
  {
   "cell_type": "code",
   "execution_count": 95,
   "id": "9829d8bb",
   "metadata": {
    "scrolled": true
   },
   "outputs": [
    {
     "data": {
      "text/plain": [
       "[0.004313052759987807,\n",
       " 0.004313052759987807,\n",
       " 0.01682089487213001,\n",
       " 0.033210473576438804,\n",
       " 0.008194789352154397,\n",
       " 0.012651614168082609,\n",
       " 0.024871912168344057,\n",
       " 0.00848233346403518,\n",
       " 0.00848233346403518,\n",
       " 0.04600585980046179]"
      ]
     },
     "execution_count": 95,
     "metadata": {},
     "output_type": "execute_result"
    }
   ],
   "source": [
    "n_repetitions = 500\n",
    "shuffled = league.loc[:,['result', 'patch_missing']]\n",
    "\n",
    "tvds = []\n",
    "for _ in range(n_repetitions):\n",
    "    \n",
    "    # shuffle whether patch is missing\n",
    "    shuffled['shuffle_patch'] = np.random.permutation(shuffled['patch_missing'])\n",
    "    \n",
    "    # Computing and storing the TVD.\n",
    "    pivoted = (\n",
    "        shuffled.pivot_table\n",
    "        (index='result', columns='shuffle_patch', aggfunc='size').fillna(0)\n",
    "    )\n",
    "    \n",
    "    pivoted = pivoted / pivoted.sum()\n",
    "    \n",
    "    tvd = pivoted.diff(axis=1).iloc[:, -1].abs().sum() / 2\n",
    "    tvds.append(tvd)\n",
    "tvds[:10]"
   ]
  },
  {
   "cell_type": "markdown",
   "id": "a2168a2e",
   "metadata": {},
   "source": [
    "**p-value:**"
   ]
  },
  {
   "cell_type": "code",
   "execution_count": 86,
   "id": "f9dd12b1",
   "metadata": {},
   "outputs": [
    {
     "data": {
      "text/plain": [
       "1.0"
      ]
     },
     "execution_count": 86,
     "metadata": {},
     "output_type": "execute_result"
    }
   ],
   "source": [
    "(np.array(tvds) >= obs2).mean()"
   ]
  },
  {
   "cell_type": "markdown",
   "id": "e517de2b",
   "metadata": {},
   "source": [
    "**Conclusion:**\n",
    "Since our p-value = 1.0 which is greater than our alpha level of 0.05, we can conclude that the missingness of `patch` **does not** depend on the `result` column. "
   ]
  },
  {
   "cell_type": "code",
   "execution_count": 159,
   "id": "42149db2",
   "metadata": {},
   "outputs": [],
   "source": [
    "fig_2 = px.histogram(pd.DataFrame(tvds), x=0, nbins=50, histnorm='probability', \n",
    "                   title='Empirical Distribution of the TVD (patch v. result)')\n",
    "fig_2.add_vline(x=obs2, line_color='red')\n",
    "fig_2.add_annotation(text=f'<span style=\"color:red\">Observed TVD = {round(obs2, 2)}</span>',\n",
    "                   x=2.3 * obs2, showarrow=False, y=0.16)\n",
    "fig_2.update_layout(yaxis_range=[0, 0.2])\n",
    "fig_2.show()\n",
    "# fig.write_html\n",
    "# fig.write_html('patch2.html', include_plotlyjs='cdn')"
   ]
  },
  {
   "cell_type": "code",
   "execution_count": 160,
   "id": "8279adf7",
   "metadata": {},
   "outputs": [],
   "source": [
    "patch2 = league[['patch_missing', 'result']]\n",
    "\n",
    "\n",
    "fig2_2 = px.histogram(patch2, x='result', color='patch_missing', histnorm='probability', marginal='box',\n",
    "             title=\"Result by Missingness of Patch\", barmode='overlay', opacity=0.7)\n",
    "fig2_2.show()\n",
    "fig2_2.write_html\n",
    "fig2_2.write_html('fig2_2.html', include_plotlyjs='cdn')"
   ]
  },
  {
   "cell_type": "markdown",
   "id": "6dff8772",
   "metadata": {},
   "source": [
    "## Hypothesis Testing\n",
    "**Question**: Is there a higher proportion of games with a Neeko in it after the Patch 13.9 rework?\n",
    "\n",
    "**Null**: There is no difference in proportion of games with Neeko before and after the Patch 13.9 rework.\n",
    "\n",
    "\n",
    "**Alternative**: There is a higher proportion of games with Neeko after the Patch 13.9 rework. \n",
    "\n",
    "\n",
    "**Test Statistic**: Difference in Proportion, more specifically the proportion of games with Neeko after minus before the patch 13.9\n",
    "- We chose difference in proportion because our data is categorical and directional.\n",
    "- Our observed statistic: 0.1404526229251691\n",
    "\n",
    "**Significance Level**: 0.05\n",
    "- This is a standard hypothesis test. \n",
    "\n",
    "\n",
    "**Result p-value**: 0\n",
    "- We ran 10,000 repetitions. \n",
    "\n",
    "**Conclusion**: As the p-value is 0, we reject the null hypothesis in favor of the alternative hypothesis, which is that there is a higher proportion of games with Neeko after the Patch 13.9 rework. \n"
   ]
  },
  {
   "cell_type": "code",
   "execution_count": 134,
   "id": "6f0a420f",
   "metadata": {},
   "outputs": [
    {
     "ename": "KeyError",
     "evalue": "\"Column(s) ['post_rework'] do not exist\"",
     "output_type": "error",
     "traceback": [
      "\u001b[0;31m---------------------------------------------------------------------------\u001b[0m",
      "\u001b[0;31mKeyError\u001b[0m                                  Traceback (most recent call last)",
      "Cell \u001b[0;32mIn[134], line 2\u001b[0m\n\u001b[1;32m      1\u001b[0m \u001b[38;5;66;03m# create a new df where each observation is a game (game id becomes unique)\u001b[39;00m\n\u001b[0;32m----> 2\u001b[0m rework \u001b[38;5;241m=\u001b[39m \u001b[43mleague\u001b[49m\u001b[38;5;241;43m.\u001b[39;49m\u001b[43mgroupby\u001b[49m\u001b[43m(\u001b[49m\u001b[38;5;124;43m'\u001b[39;49m\u001b[38;5;124;43mgameid\u001b[39;49m\u001b[38;5;124;43m'\u001b[39;49m\u001b[43m)\u001b[49m\u001b[38;5;241;43m.\u001b[39;49m\u001b[43magg\u001b[49m\u001b[43m(\u001b[49m\u001b[43m{\u001b[49m\u001b[38;5;124;43m'\u001b[39;49m\u001b[38;5;124;43mpost_rework\u001b[39;49m\u001b[38;5;124;43m'\u001b[39;49m\u001b[43m:\u001b[49m\u001b[43m \u001b[49m\u001b[38;5;124;43m'\u001b[39;49m\u001b[38;5;124;43mfirst\u001b[39;49m\u001b[38;5;124;43m'\u001b[39;49m\u001b[43m,\u001b[49m\u001b[43m \u001b[49m\u001b[38;5;124;43m'\u001b[39;49m\u001b[38;5;124;43mneeko\u001b[39;49m\u001b[38;5;124;43m'\u001b[39;49m\u001b[43m:\u001b[49m\u001b[38;5;124;43m'\u001b[39;49m\u001b[38;5;124;43msum\u001b[39;49m\u001b[38;5;124;43m'\u001b[39;49m\u001b[43m}\u001b[49m\u001b[43m)\u001b[49m\n\u001b[1;32m      3\u001b[0m rework\n",
      "File \u001b[0;32m~/miniforge3/envs/dsc80/lib/python3.8/site-packages/pandas/core/groupby/generic.py:979\u001b[0m, in \u001b[0;36mDataFrameGroupBy.aggregate\u001b[0;34m(self, func, engine, engine_kwargs, *args, **kwargs)\u001b[0m\n\u001b[1;32m    976\u001b[0m func \u001b[38;5;241m=\u001b[39m maybe_mangle_lambdas(func)\n\u001b[1;32m    978\u001b[0m op \u001b[38;5;241m=\u001b[39m GroupByApply(\u001b[38;5;28mself\u001b[39m, func, args, kwargs)\n\u001b[0;32m--> 979\u001b[0m result \u001b[38;5;241m=\u001b[39m \u001b[43mop\u001b[49m\u001b[38;5;241;43m.\u001b[39;49m\u001b[43magg\u001b[49m\u001b[43m(\u001b[49m\u001b[43m)\u001b[49m\n\u001b[1;32m    980\u001b[0m \u001b[38;5;28;01mif\u001b[39;00m \u001b[38;5;129;01mnot\u001b[39;00m is_dict_like(func) \u001b[38;5;129;01mand\u001b[39;00m result \u001b[38;5;129;01mis\u001b[39;00m \u001b[38;5;129;01mnot\u001b[39;00m \u001b[38;5;28;01mNone\u001b[39;00m:\n\u001b[1;32m    981\u001b[0m     \u001b[38;5;28;01mreturn\u001b[39;00m result\n",
      "File \u001b[0;32m~/miniforge3/envs/dsc80/lib/python3.8/site-packages/pandas/core/apply.py:161\u001b[0m, in \u001b[0;36mApply.agg\u001b[0;34m(self)\u001b[0m\n\u001b[1;32m    158\u001b[0m     \u001b[38;5;28;01mreturn\u001b[39;00m \u001b[38;5;28mself\u001b[39m\u001b[38;5;241m.\u001b[39mapply_str()\n\u001b[1;32m    160\u001b[0m \u001b[38;5;28;01mif\u001b[39;00m is_dict_like(arg):\n\u001b[0;32m--> 161\u001b[0m     \u001b[38;5;28;01mreturn\u001b[39;00m \u001b[38;5;28;43mself\u001b[39;49m\u001b[38;5;241;43m.\u001b[39;49m\u001b[43magg_dict_like\u001b[49m\u001b[43m(\u001b[49m\u001b[43m)\u001b[49m\n\u001b[1;32m    162\u001b[0m \u001b[38;5;28;01melif\u001b[39;00m is_list_like(arg):\n\u001b[1;32m    163\u001b[0m     \u001b[38;5;66;03m# we require a list, but not a 'str'\u001b[39;00m\n\u001b[1;32m    164\u001b[0m     \u001b[38;5;28;01mreturn\u001b[39;00m \u001b[38;5;28mself\u001b[39m\u001b[38;5;241m.\u001b[39magg_list_like()\n",
      "File \u001b[0;32m~/miniforge3/envs/dsc80/lib/python3.8/site-packages/pandas/core/apply.py:427\u001b[0m, in \u001b[0;36mApply.agg_dict_like\u001b[0;34m(self)\u001b[0m\n\u001b[1;32m    424\u001b[0m     selected_obj \u001b[38;5;241m=\u001b[39m obj\u001b[38;5;241m.\u001b[39m_selected_obj\n\u001b[1;32m    425\u001b[0m     selection \u001b[38;5;241m=\u001b[39m obj\u001b[38;5;241m.\u001b[39m_selection\n\u001b[0;32m--> 427\u001b[0m arg \u001b[38;5;241m=\u001b[39m \u001b[38;5;28;43mself\u001b[39;49m\u001b[38;5;241;43m.\u001b[39;49m\u001b[43mnormalize_dictlike_arg\u001b[49m\u001b[43m(\u001b[49m\u001b[38;5;124;43m\"\u001b[39;49m\u001b[38;5;124;43magg\u001b[39;49m\u001b[38;5;124;43m\"\u001b[39;49m\u001b[43m,\u001b[49m\u001b[43m \u001b[49m\u001b[43mselected_obj\u001b[49m\u001b[43m,\u001b[49m\u001b[43m \u001b[49m\u001b[43marg\u001b[49m\u001b[43m)\u001b[49m\n\u001b[1;32m    429\u001b[0m \u001b[38;5;28;01mif\u001b[39;00m selected_obj\u001b[38;5;241m.\u001b[39mndim \u001b[38;5;241m==\u001b[39m \u001b[38;5;241m1\u001b[39m:\n\u001b[1;32m    430\u001b[0m     \u001b[38;5;66;03m# key only used for output\u001b[39;00m\n\u001b[1;32m    431\u001b[0m     colg \u001b[38;5;241m=\u001b[39m obj\u001b[38;5;241m.\u001b[39m_gotitem(selection, ndim\u001b[38;5;241m=\u001b[39m\u001b[38;5;241m1\u001b[39m)\n",
      "File \u001b[0;32m~/miniforge3/envs/dsc80/lib/python3.8/site-packages/pandas/core/apply.py:546\u001b[0m, in \u001b[0;36mApply.normalize_dictlike_arg\u001b[0;34m(self, how, obj, func)\u001b[0m\n\u001b[1;32m    544\u001b[0m     \u001b[38;5;28;01mif\u001b[39;00m \u001b[38;5;28mlen\u001b[39m(cols) \u001b[38;5;241m>\u001b[39m \u001b[38;5;241m0\u001b[39m:\n\u001b[1;32m    545\u001b[0m         cols_sorted \u001b[38;5;241m=\u001b[39m \u001b[38;5;28mlist\u001b[39m(safe_sort(\u001b[38;5;28mlist\u001b[39m(cols)))\n\u001b[0;32m--> 546\u001b[0m         \u001b[38;5;28;01mraise\u001b[39;00m \u001b[38;5;167;01mKeyError\u001b[39;00m(\u001b[38;5;124mf\u001b[39m\u001b[38;5;124m\"\u001b[39m\u001b[38;5;124mColumn(s) \u001b[39m\u001b[38;5;132;01m{\u001b[39;00mcols_sorted\u001b[38;5;132;01m}\u001b[39;00m\u001b[38;5;124m do not exist\u001b[39m\u001b[38;5;124m\"\u001b[39m)\n\u001b[1;32m    548\u001b[0m is_aggregator \u001b[38;5;241m=\u001b[39m \u001b[38;5;28;01mlambda\u001b[39;00m x: \u001b[38;5;28misinstance\u001b[39m(x, (\u001b[38;5;28mlist\u001b[39m, \u001b[38;5;28mtuple\u001b[39m, \u001b[38;5;28mdict\u001b[39m))\n\u001b[1;32m    550\u001b[0m \u001b[38;5;66;03m# if we have a dict of any non-scalars\u001b[39;00m\n\u001b[1;32m    551\u001b[0m \u001b[38;5;66;03m# eg. {'A' : ['mean']}, normalize all to\u001b[39;00m\n\u001b[1;32m    552\u001b[0m \u001b[38;5;66;03m# be list-likes\u001b[39;00m\n\u001b[1;32m    553\u001b[0m \u001b[38;5;66;03m# Cannot use func.values() because arg may be a Series\u001b[39;00m\n",
      "\u001b[0;31mKeyError\u001b[0m: \"Column(s) ['post_rework'] do not exist\""
     ]
    }
   ],
   "source": [
    "# create a new df where each observation is a game (game id becomes unique)\n",
    "rework = league.groupby('gameid').agg({'post_rework': 'first', 'neeko':'sum'})\n",
    "rework\n"
   ]
  },
  {
   "cell_type": "code",
   "execution_count": 138,
   "id": "91de8cf9",
   "metadata": {},
   "outputs": [
    {
     "ename": "NameError",
     "evalue": "name 'rework' is not defined",
     "output_type": "error",
     "traceback": [
      "\u001b[0;31m---------------------------------------------------------------------------\u001b[0m",
      "\u001b[0;31mNameError\u001b[0m                                 Traceback (most recent call last)",
      "Cell \u001b[0;32mIn[138], line 2\u001b[0m\n\u001b[1;32m      1\u001b[0m \u001b[38;5;66;03m# observed value is the proportion of games with neeko after - before the patch\u001b[39;00m\n\u001b[0;32m----> 2\u001b[0m obs_rework \u001b[38;5;241m=\u001b[39m \u001b[43mrework\u001b[49m\u001b[38;5;241m.\u001b[39mgroupby(\u001b[38;5;124m'\u001b[39m\u001b[38;5;124mpost_rework\u001b[39m\u001b[38;5;124m'\u001b[39m)\u001b[38;5;241m.\u001b[39mmean()\u001b[38;5;241m.\u001b[39mdiff()\u001b[38;5;241m.\u001b[39miloc[\u001b[38;5;241m-\u001b[39m\u001b[38;5;241m1\u001b[39m][\u001b[38;5;241m0\u001b[39m]\n\u001b[1;32m      3\u001b[0m obs_rework\n",
      "\u001b[0;31mNameError\u001b[0m: name 'rework' is not defined"
     ]
    }
   ],
   "source": [
    "# observed value is the proportion of games with neeko after - before the patch\n",
    "obs_rework = rework.groupby('post_rework').mean().diff().iloc[-1][0]\n",
    "obs_rework"
   ]
  },
  {
   "cell_type": "code",
   "execution_count": 136,
   "id": "51f9b056",
   "metadata": {},
   "outputs": [
    {
     "ename": "NameError",
     "evalue": "name 'rework' is not defined",
     "output_type": "error",
     "traceback": [
      "\u001b[0;31m---------------------------------------------------------------------------\u001b[0m",
      "\u001b[0;31mNameError\u001b[0m                                 Traceback (most recent call last)",
      "Cell \u001b[0;32mIn[136], line 7\u001b[0m\n\u001b[1;32m      2\u001b[0m diffs \u001b[38;5;241m=\u001b[39m []\n\u001b[1;32m      4\u001b[0m \u001b[38;5;28;01mfor\u001b[39;00m _ \u001b[38;5;129;01min\u001b[39;00m \u001b[38;5;28mrange\u001b[39m(n_reps):\n\u001b[1;32m      5\u001b[0m     \n\u001b[1;32m      6\u001b[0m     \u001b[38;5;66;03m# shuffle rework column \u001b[39;00m\n\u001b[0;32m----> 7\u001b[0m     rework[\u001b[38;5;124m'\u001b[39m\u001b[38;5;124mshuffled_rework\u001b[39m\u001b[38;5;124m'\u001b[39m] \u001b[38;5;241m=\u001b[39m np\u001b[38;5;241m.\u001b[39mrandom\u001b[38;5;241m.\u001b[39mpermutation(\u001b[43mrework\u001b[49m[\u001b[38;5;124m'\u001b[39m\u001b[38;5;124mpost_rework\u001b[39m\u001b[38;5;124m'\u001b[39m])\n\u001b[1;32m      9\u001b[0m     \u001b[38;5;66;03m# compute test statistic \u001b[39;00m\n\u001b[1;32m     10\u001b[0m     difference \u001b[38;5;241m=\u001b[39m rework\u001b[38;5;241m.\u001b[39mgroupby(\u001b[38;5;124m'\u001b[39m\u001b[38;5;124mshuffled_rework\u001b[39m\u001b[38;5;124m'\u001b[39m)\u001b[38;5;241m.\u001b[39mmean()\u001b[38;5;241m.\u001b[39mdiff()\u001b[38;5;241m.\u001b[39miloc[\u001b[38;5;241m-\u001b[39m\u001b[38;5;241m1\u001b[39m][\u001b[38;5;241m0\u001b[39m]\n",
      "\u001b[0;31mNameError\u001b[0m: name 'rework' is not defined"
     ]
    }
   ],
   "source": [
    "n_reps = 10_000\n",
    "diffs = []\n",
    "\n",
    "for _ in range(n_reps):\n",
    "    \n",
    "    # shuffle rework column \n",
    "    rework['shuffled_rework'] = np.random.permutation(rework['post_rework'])\n",
    "    \n",
    "    # compute test statistic \n",
    "    difference = rework.groupby('shuffled_rework').mean().diff().iloc[-1][0]\n",
    "    \n",
    "    diffs.append(difference)\n",
    "\n",
    "diffs[:10]"
   ]
  },
  {
   "cell_type": "code",
   "execution_count": null,
   "id": "62d27806",
   "metadata": {},
   "outputs": [],
   "source": [
    "# calculate p-value\n",
    "(np.array(diffs) >= obs).mean()"
   ]
  },
  {
   "cell_type": "code",
   "execution_count": 139,
   "id": "980ba0c3",
   "metadata": {},
   "outputs": [
    {
     "ename": "ValueError",
     "evalue": "Value of 'x' is not the name of a column in 'data_frame'. Expected one of [] but received: 0",
     "output_type": "error",
     "traceback": [
      "\u001b[0;31m---------------------------------------------------------------------------\u001b[0m",
      "\u001b[0;31mValueError\u001b[0m                                Traceback (most recent call last)",
      "Cell \u001b[0;32mIn[139], line 1\u001b[0m\n\u001b[0;32m----> 1\u001b[0m hypo_test \u001b[38;5;241m=\u001b[39m \u001b[43mpx\u001b[49m\u001b[38;5;241;43m.\u001b[39;49m\u001b[43mhistogram\u001b[49m\u001b[43m(\u001b[49m\u001b[43mpd\u001b[49m\u001b[38;5;241;43m.\u001b[39;49m\u001b[43mDataFrame\u001b[49m\u001b[43m(\u001b[49m\u001b[43mdiffs\u001b[49m\u001b[43m)\u001b[49m\u001b[43m,\u001b[49m\u001b[43m \u001b[49m\u001b[43mx\u001b[49m\u001b[38;5;241;43m=\u001b[39;49m\u001b[38;5;241;43m0\u001b[39;49m\u001b[43m,\u001b[49m\u001b[43m \u001b[49m\u001b[43mnbins\u001b[49m\u001b[38;5;241;43m=\u001b[39;49m\u001b[38;5;241;43m50\u001b[39;49m\u001b[43m,\u001b[49m\u001b[43m \u001b[49m\u001b[43mhistnorm\u001b[49m\u001b[38;5;241;43m=\u001b[39;49m\u001b[38;5;124;43m'\u001b[39;49m\u001b[38;5;124;43mprobability\u001b[39;49m\u001b[38;5;124;43m'\u001b[39;49m\u001b[43m,\u001b[49m\u001b[43m \u001b[49m\n\u001b[1;32m      2\u001b[0m \u001b[43m                   \u001b[49m\u001b[43mtitle\u001b[49m\u001b[38;5;241;43m=\u001b[39;49m\u001b[38;5;124;43m'\u001b[39;49m\u001b[38;5;124;43mEmpirical Distribution of the TVD\u001b[39;49m\u001b[38;5;124;43m'\u001b[39;49m\u001b[43m)\u001b[49m\n\u001b[1;32m      3\u001b[0m hypo_test\u001b[38;5;241m.\u001b[39madd_vline(x\u001b[38;5;241m=\u001b[39mobs_rework, line_color\u001b[38;5;241m=\u001b[39m\u001b[38;5;124m'\u001b[39m\u001b[38;5;124mred\u001b[39m\u001b[38;5;124m'\u001b[39m)\n\u001b[1;32m      4\u001b[0m hypo_test\u001b[38;5;241m.\u001b[39madd_annotation(text\u001b[38;5;241m=\u001b[39m\u001b[38;5;124mf\u001b[39m\u001b[38;5;124m'\u001b[39m\u001b[38;5;124m<span style=\u001b[39m\u001b[38;5;124m\"\u001b[39m\u001b[38;5;124mcolor:red\u001b[39m\u001b[38;5;124m\"\u001b[39m\u001b[38;5;124m>Observed TVD = \u001b[39m\u001b[38;5;132;01m{\u001b[39;00m\u001b[38;5;28mround\u001b[39m(obs2,\u001b[38;5;250m \u001b[39m\u001b[38;5;241m2\u001b[39m)\u001b[38;5;132;01m}\u001b[39;00m\u001b[38;5;124m</span>\u001b[39m\u001b[38;5;124m'\u001b[39m,\n\u001b[1;32m      5\u001b[0m                    x\u001b[38;5;241m=\u001b[39m\u001b[38;5;241m2.3\u001b[39m \u001b[38;5;241m*\u001b[39m obs2, showarrow\u001b[38;5;241m=\u001b[39m\u001b[38;5;28;01mFalse\u001b[39;00m, y\u001b[38;5;241m=\u001b[39m\u001b[38;5;241m0.16\u001b[39m)\n",
      "File \u001b[0;32m~/miniforge3/envs/dsc80/lib/python3.8/site-packages/plotly/express/_chart_types.py:480\u001b[0m, in \u001b[0;36mhistogram\u001b[0;34m(data_frame, x, y, color, pattern_shape, facet_row, facet_col, facet_col_wrap, facet_row_spacing, facet_col_spacing, hover_name, hover_data, animation_frame, animation_group, category_orders, labels, color_discrete_sequence, color_discrete_map, pattern_shape_sequence, pattern_shape_map, marginal, opacity, orientation, barmode, barnorm, histnorm, log_x, log_y, range_x, range_y, histfunc, cumulative, nbins, text_auto, title, template, width, height)\u001b[0m\n\u001b[1;32m    434\u001b[0m \u001b[38;5;28;01mdef\u001b[39;00m \u001b[38;5;21mhistogram\u001b[39m(\n\u001b[1;32m    435\u001b[0m     data_frame\u001b[38;5;241m=\u001b[39m\u001b[38;5;28;01mNone\u001b[39;00m,\n\u001b[1;32m    436\u001b[0m     x\u001b[38;5;241m=\u001b[39m\u001b[38;5;28;01mNone\u001b[39;00m,\n\u001b[0;32m   (...)\u001b[0m\n\u001b[1;32m    472\u001b[0m     height\u001b[38;5;241m=\u001b[39m\u001b[38;5;28;01mNone\u001b[39;00m,\n\u001b[1;32m    473\u001b[0m ) \u001b[38;5;241m-\u001b[39m\u001b[38;5;241m>\u001b[39m go\u001b[38;5;241m.\u001b[39mFigure:\n\u001b[1;32m    474\u001b[0m \u001b[38;5;250m    \u001b[39m\u001b[38;5;124;03m\"\"\"\u001b[39;00m\n\u001b[1;32m    475\u001b[0m \u001b[38;5;124;03m    In a histogram, rows of `data_frame` are grouped together into a\u001b[39;00m\n\u001b[1;32m    476\u001b[0m \u001b[38;5;124;03m    rectangular mark to visualize the 1D distribution of an aggregate\u001b[39;00m\n\u001b[1;32m    477\u001b[0m \u001b[38;5;124;03m    function `histfunc` (e.g. the count or sum) of the value `y` (or `x` if\u001b[39;00m\n\u001b[1;32m    478\u001b[0m \u001b[38;5;124;03m    `orientation` is `'h'`).\u001b[39;00m\n\u001b[1;32m    479\u001b[0m \u001b[38;5;124;03m    \"\"\"\u001b[39;00m\n\u001b[0;32m--> 480\u001b[0m     \u001b[38;5;28;01mreturn\u001b[39;00m \u001b[43mmake_figure\u001b[49m\u001b[43m(\u001b[49m\n\u001b[1;32m    481\u001b[0m \u001b[43m        \u001b[49m\u001b[43margs\u001b[49m\u001b[38;5;241;43m=\u001b[39;49m\u001b[38;5;28;43mlocals\u001b[39;49m\u001b[43m(\u001b[49m\u001b[43m)\u001b[49m\u001b[43m,\u001b[49m\n\u001b[1;32m    482\u001b[0m \u001b[43m        \u001b[49m\u001b[43mconstructor\u001b[49m\u001b[38;5;241;43m=\u001b[39;49m\u001b[43mgo\u001b[49m\u001b[38;5;241;43m.\u001b[39;49m\u001b[43mHistogram\u001b[49m\u001b[43m,\u001b[49m\n\u001b[1;32m    483\u001b[0m \u001b[43m        \u001b[49m\u001b[43mtrace_patch\u001b[49m\u001b[38;5;241;43m=\u001b[39;49m\u001b[38;5;28;43mdict\u001b[39;49m\u001b[43m(\u001b[49m\n\u001b[1;32m    484\u001b[0m \u001b[43m            \u001b[49m\u001b[43mhistnorm\u001b[49m\u001b[38;5;241;43m=\u001b[39;49m\u001b[43mhistnorm\u001b[49m\u001b[43m,\u001b[49m\n\u001b[1;32m    485\u001b[0m \u001b[43m            \u001b[49m\u001b[43mhistfunc\u001b[49m\u001b[38;5;241;43m=\u001b[39;49m\u001b[43mhistfunc\u001b[49m\u001b[43m,\u001b[49m\n\u001b[1;32m    486\u001b[0m \u001b[43m            \u001b[49m\u001b[43mcumulative\u001b[49m\u001b[38;5;241;43m=\u001b[39;49m\u001b[38;5;28;43mdict\u001b[39;49m\u001b[43m(\u001b[49m\u001b[43menabled\u001b[49m\u001b[38;5;241;43m=\u001b[39;49m\u001b[43mcumulative\u001b[49m\u001b[43m)\u001b[49m\u001b[43m,\u001b[49m\n\u001b[1;32m    487\u001b[0m \u001b[43m        \u001b[49m\u001b[43m)\u001b[49m\u001b[43m,\u001b[49m\n\u001b[1;32m    488\u001b[0m \u001b[43m        \u001b[49m\u001b[43mlayout_patch\u001b[49m\u001b[38;5;241;43m=\u001b[39;49m\u001b[38;5;28;43mdict\u001b[39;49m\u001b[43m(\u001b[49m\u001b[43mbarmode\u001b[49m\u001b[38;5;241;43m=\u001b[39;49m\u001b[43mbarmode\u001b[49m\u001b[43m,\u001b[49m\u001b[43m \u001b[49m\u001b[43mbarnorm\u001b[49m\u001b[38;5;241;43m=\u001b[39;49m\u001b[43mbarnorm\u001b[49m\u001b[43m)\u001b[49m\u001b[43m,\u001b[49m\n\u001b[1;32m    489\u001b[0m \u001b[43m    \u001b[49m\u001b[43m)\u001b[49m\n",
      "File \u001b[0;32m~/miniforge3/envs/dsc80/lib/python3.8/site-packages/plotly/express/_core.py:2076\u001b[0m, in \u001b[0;36mmake_figure\u001b[0;34m(args, constructor, trace_patch, layout_patch)\u001b[0m\n\u001b[1;32m   2073\u001b[0m layout_patch \u001b[38;5;241m=\u001b[39m layout_patch \u001b[38;5;129;01mor\u001b[39;00m {}\n\u001b[1;32m   2074\u001b[0m apply_default_cascade(args)\n\u001b[0;32m-> 2076\u001b[0m args \u001b[38;5;241m=\u001b[39m \u001b[43mbuild_dataframe\u001b[49m\u001b[43m(\u001b[49m\u001b[43margs\u001b[49m\u001b[43m,\u001b[49m\u001b[43m \u001b[49m\u001b[43mconstructor\u001b[49m\u001b[43m)\u001b[49m\n\u001b[1;32m   2077\u001b[0m \u001b[38;5;28;01mif\u001b[39;00m constructor \u001b[38;5;129;01min\u001b[39;00m [go\u001b[38;5;241m.\u001b[39mTreemap, go\u001b[38;5;241m.\u001b[39mSunburst, go\u001b[38;5;241m.\u001b[39mIcicle] \u001b[38;5;129;01mand\u001b[39;00m args[\u001b[38;5;124m\"\u001b[39m\u001b[38;5;124mpath\u001b[39m\u001b[38;5;124m\"\u001b[39m] \u001b[38;5;129;01mis\u001b[39;00m \u001b[38;5;129;01mnot\u001b[39;00m \u001b[38;5;28;01mNone\u001b[39;00m:\n\u001b[1;32m   2078\u001b[0m     args \u001b[38;5;241m=\u001b[39m process_dataframe_hierarchy(args)\n",
      "File \u001b[0;32m~/miniforge3/envs/dsc80/lib/python3.8/site-packages/plotly/express/_core.py:1485\u001b[0m, in \u001b[0;36mbuild_dataframe\u001b[0;34m(args, constructor)\u001b[0m\n\u001b[1;32m   1482\u001b[0m     args[\u001b[38;5;124m\"\u001b[39m\u001b[38;5;124mcolor\u001b[39m\u001b[38;5;124m\"\u001b[39m] \u001b[38;5;241m=\u001b[39m \u001b[38;5;28;01mNone\u001b[39;00m\n\u001b[1;32m   1483\u001b[0m \u001b[38;5;66;03m# now that things have been prepped, we do the systematic rewriting of `args`\u001b[39;00m\n\u001b[0;32m-> 1485\u001b[0m df_output, wide_id_vars \u001b[38;5;241m=\u001b[39m \u001b[43mprocess_args_into_dataframe\u001b[49m\u001b[43m(\u001b[49m\n\u001b[1;32m   1486\u001b[0m \u001b[43m    \u001b[49m\u001b[43margs\u001b[49m\u001b[43m,\u001b[49m\u001b[43m \u001b[49m\u001b[43mwide_mode\u001b[49m\u001b[43m,\u001b[49m\u001b[43m \u001b[49m\u001b[43mvar_name\u001b[49m\u001b[43m,\u001b[49m\u001b[43m \u001b[49m\u001b[43mvalue_name\u001b[49m\n\u001b[1;32m   1487\u001b[0m \u001b[43m\u001b[49m\u001b[43m)\u001b[49m\n\u001b[1;32m   1489\u001b[0m \u001b[38;5;66;03m# now that `df_output` exists and `args` contains only references, we complete\u001b[39;00m\n\u001b[1;32m   1490\u001b[0m \u001b[38;5;66;03m# the special-case and wide-mode handling by further rewriting args and/or mutating\u001b[39;00m\n\u001b[1;32m   1491\u001b[0m \u001b[38;5;66;03m# df_output\u001b[39;00m\n\u001b[1;32m   1493\u001b[0m count_name \u001b[38;5;241m=\u001b[39m _escape_col_name(df_output, \u001b[38;5;124m\"\u001b[39m\u001b[38;5;124mcount\u001b[39m\u001b[38;5;124m\"\u001b[39m, [var_name, value_name])\n",
      "File \u001b[0;32m~/miniforge3/envs/dsc80/lib/python3.8/site-packages/plotly/express/_core.py:1210\u001b[0m, in \u001b[0;36mprocess_args_into_dataframe\u001b[0;34m(args, wide_mode, var_name, value_name)\u001b[0m\n\u001b[1;32m   1208\u001b[0m         \u001b[38;5;28;01mif\u001b[39;00m argument \u001b[38;5;241m==\u001b[39m \u001b[38;5;124m\"\u001b[39m\u001b[38;5;124mindex\u001b[39m\u001b[38;5;124m\"\u001b[39m:\n\u001b[1;32m   1209\u001b[0m             err_msg \u001b[38;5;241m+\u001b[39m\u001b[38;5;241m=\u001b[39m \u001b[38;5;124m\"\u001b[39m\u001b[38;5;130;01m\\n\u001b[39;00m\u001b[38;5;124m To use the index, pass it in directly as `df.index`.\u001b[39m\u001b[38;5;124m\"\u001b[39m\n\u001b[0;32m-> 1210\u001b[0m         \u001b[38;5;28;01mraise\u001b[39;00m \u001b[38;5;167;01mValueError\u001b[39;00m(err_msg)\n\u001b[1;32m   1211\u001b[0m \u001b[38;5;28;01melif\u001b[39;00m length \u001b[38;5;129;01mand\u001b[39;00m \u001b[38;5;28mlen\u001b[39m(df_input[argument]) \u001b[38;5;241m!=\u001b[39m length:\n\u001b[1;32m   1212\u001b[0m     \u001b[38;5;28;01mraise\u001b[39;00m \u001b[38;5;167;01mValueError\u001b[39;00m(\n\u001b[1;32m   1213\u001b[0m         \u001b[38;5;124m\"\u001b[39m\u001b[38;5;124mAll arguments should have the same length. \u001b[39m\u001b[38;5;124m\"\u001b[39m\n\u001b[1;32m   1214\u001b[0m         \u001b[38;5;124m\"\u001b[39m\u001b[38;5;124mThe length of column argument `df[\u001b[39m\u001b[38;5;132;01m%s\u001b[39;00m\u001b[38;5;124m]` is \u001b[39m\u001b[38;5;132;01m%d\u001b[39;00m\u001b[38;5;124m, whereas the \u001b[39m\u001b[38;5;124m\"\u001b[39m\n\u001b[0;32m   (...)\u001b[0m\n\u001b[1;32m   1221\u001b[0m         )\n\u001b[1;32m   1222\u001b[0m     )\n",
      "\u001b[0;31mValueError\u001b[0m: Value of 'x' is not the name of a column in 'data_frame'. Expected one of [] but received: 0"
     ]
    }
   ],
   "source": [
    "# hypo_test = px.histogram(pd.DataFrame(diffs), x=0, nbins=50, histnorm='probability', \n",
    "#                    title='Empirical Distribution of the TVD')\n",
    "# hypo_test.add_vline(x=obs_rework, line_color='red')\n",
    "# hypo_test.add_annotation(text=f'<span style=\"color:red\">Observed TVD = {round(obs2, 2)}</span>',\n",
    "#                    x=2.3 * obs2, showarrow=False, y=0.16)\n",
    "# hypo_test.update_layout(yaxis_range=[0, 0.2])\n",
    "# fig.write_html\n",
    "# fig.write_html('hypo_test.html', include_plotlyjs='cdn')"
   ]
  },
  {
   "cell_type": "code",
   "execution_count": null,
   "id": "b410ba47",
   "metadata": {},
   "outputs": [],
   "source": []
  }
 ],
 "metadata": {
  "kernelspec": {
   "display_name": "Python 3 (ipykernel)",
   "language": "python",
   "name": "python3"
  },
  "language_info": {
   "codemirror_mode": {
    "name": "ipython",
    "version": 3
   },
   "file_extension": ".py",
   "mimetype": "text/x-python",
   "name": "python",
   "nbconvert_exporter": "python",
   "pygments_lexer": "ipython3",
   "version": "3.8.18"
  }
 },
 "nbformat": 4,
 "nbformat_minor": 5
}
