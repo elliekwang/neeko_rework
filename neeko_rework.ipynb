{
 "cells": [
  {
   "cell_type": "code",
   "execution_count": 121,
   "id": "0f463e02",
   "metadata": {},
   "outputs": [],
   "source": [
    "import pandas as pd\n",
    "import numpy as np\n",
    "import plotly.express as px\n",
    "import plotly.io as pio\n",
    "from pathlib import Path\n",
    "from dsc80_utils import *\n",
    "import matplotlib.pyplot as plt\n",
    "\n",
    "\n",
    "# from dsc80_utils import create_kde_plotly\n",
    "# import create_kde_plotly\n",
    "pio.renderers.default = \"browser\"\n",
    "# pd.options.plotting.backend = 'plotly'"
   ]
  },
  {
   "cell_type": "markdown",
   "id": "b437b897",
   "metadata": {},
   "source": [
    "This is a data science project about League of Legends for the class DSC 80 at UCSD. \n",
    "\n",
    "Names: Joyce Hu and Ellie Wang"
   ]
  },
  {
   "cell_type": "markdown",
   "id": "b5016163",
   "metadata": {},
   "source": [
    "# Introduction\n",
    "\n",
    "For our project, we are interested in exploring dataset about the game League of Legends from Oracle's Elixir. As League of Legends continues to constantly update the game, there are changes to all aspects that we want to investigate. More specifically, we aim to answer qusetions about the champion Neeko."
   ]
  },
  {
   "cell_type": "markdown",
   "id": "b1d590d3",
   "metadata": {},
   "source": [
    "# Data Cleaning and Exploratory Data Analysis\n",
    "\n",
    "For our project, we worked with smaller dataframes taken from `league`, which is the dataframe that concats together League of Legends datasets from Oracle's Elixir from the years 2021, 2022, 2023, and 2024. To appropriately clean the data, we:\n",
    "\n",
    "- created `patch_missing`: a new column that holds a binary variable for missing patches \n",
    "- imputed missing patches by mapping specific dates to corresponding patch versions\n",
    "- imputed team statistics; team-level statistics for certain variables (`firstdragon`, `firstherald`, `heralds`, `opp_heralds`) are imputed into missing player-level stats by extracting team summary stats from the dataset and merging them with player-level data based on `gameid` and `teamid`\n",
    "- created `post_rework`: binary variable for patch rework; checks if patch is greater than or equal to 13.09 \n",
    "- created `neeko`: binary variable to indicate whether Neeko played n the game \n",
    "- created `herald_diff`: represents the difference in number of heralds gained by the team and the opponent team \n",
    "- kept the features we need for the rest of the project \n",
    "\n",
    "\n",
    "We cleaned the dataset this way to make the data more compatible to  answer our question: is there a higher proportion of games with a Neeko in it after the Patch 13.9 rework? \n",
    "\n"
   ]
  },
  {
   "cell_type": "code",
   "execution_count": 60,
   "id": "711f2619",
   "metadata": {},
   "outputs": [
    {
     "name": "stderr",
     "output_type": "stream",
     "text": [
      "/Users/elliekwang/miniforge3/envs/dsc80/lib/python3.8/site-packages/IPython/core/interactiveshell.py:3508: DtypeWarning:\n",
      "\n",
      "Columns (2) have mixed types.Specify dtype option on import or set low_memory=False.\n",
      "\n"
     ]
    },
    {
     "data": {
      "text/html": [
       "<div>\n",
       "<style scoped>\n",
       "    .dataframe tbody tr th:only-of-type {\n",
       "        vertical-align: middle;\n",
       "    }\n",
       "\n",
       "    .dataframe tbody tr th {\n",
       "        vertical-align: top;\n",
       "    }\n",
       "\n",
       "    .dataframe thead th {\n",
       "        text-align: right;\n",
       "    }\n",
       "</style>\n",
       "<table border=\"1\" class=\"dataframe\">\n",
       "  <thead>\n",
       "    <tr style=\"text-align: right;\">\n",
       "      <th></th>\n",
       "      <th>gameid</th>\n",
       "      <th>datacompleteness</th>\n",
       "      <th>url</th>\n",
       "      <th>league</th>\n",
       "      <th>year</th>\n",
       "      <th>split</th>\n",
       "      <th>playoffs</th>\n",
       "      <th>date</th>\n",
       "      <th>game</th>\n",
       "      <th>patch</th>\n",
       "      <th>...</th>\n",
       "      <th>opp_csat15</th>\n",
       "      <th>golddiffat15</th>\n",
       "      <th>xpdiffat15</th>\n",
       "      <th>csdiffat15</th>\n",
       "      <th>killsat15</th>\n",
       "      <th>assistsat15</th>\n",
       "      <th>deathsat15</th>\n",
       "      <th>opp_killsat15</th>\n",
       "      <th>opp_assistsat15</th>\n",
       "      <th>opp_deathsat15</th>\n",
       "    </tr>\n",
       "  </thead>\n",
       "  <tbody>\n",
       "    <tr>\n",
       "      <th>0</th>\n",
       "      <td>ESPORTSTMNT03/1632489</td>\n",
       "      <td>complete</td>\n",
       "      <td>http://matchhistory.na.leagueoflegends.com/en/...</td>\n",
       "      <td>KeSPA</td>\n",
       "      <td>2021</td>\n",
       "      <td>NaN</td>\n",
       "      <td>0</td>\n",
       "      <td>2021-01-02 07:40:39</td>\n",
       "      <td>1.0</td>\n",
       "      <td>10.25</td>\n",
       "      <td>...</td>\n",
       "      <td>118.0</td>\n",
       "      <td>748.0</td>\n",
       "      <td>-56.0</td>\n",
       "      <td>-4.0</td>\n",
       "      <td>2.0</td>\n",
       "      <td>0.0</td>\n",
       "      <td>1.0</td>\n",
       "      <td>0.0</td>\n",
       "      <td>1.0</td>\n",
       "      <td>1.0</td>\n",
       "    </tr>\n",
       "    <tr>\n",
       "      <th>1</th>\n",
       "      <td>ESPORTSTMNT03/1632489</td>\n",
       "      <td>complete</td>\n",
       "      <td>http://matchhistory.na.leagueoflegends.com/en/...</td>\n",
       "      <td>KeSPA</td>\n",
       "      <td>2021</td>\n",
       "      <td>NaN</td>\n",
       "      <td>0</td>\n",
       "      <td>2021-01-02 07:40:39</td>\n",
       "      <td>1.0</td>\n",
       "      <td>10.25</td>\n",
       "      <td>...</td>\n",
       "      <td>84.0</td>\n",
       "      <td>2120.0</td>\n",
       "      <td>3405.0</td>\n",
       "      <td>62.0</td>\n",
       "      <td>3.0</td>\n",
       "      <td>2.0</td>\n",
       "      <td>0.0</td>\n",
       "      <td>2.0</td>\n",
       "      <td>0.0</td>\n",
       "      <td>3.0</td>\n",
       "    </tr>\n",
       "    <tr>\n",
       "      <th>2</th>\n",
       "      <td>ESPORTSTMNT03/1632489</td>\n",
       "      <td>complete</td>\n",
       "      <td>http://matchhistory.na.leagueoflegends.com/en/...</td>\n",
       "      <td>KeSPA</td>\n",
       "      <td>2021</td>\n",
       "      <td>NaN</td>\n",
       "      <td>0</td>\n",
       "      <td>2021-01-02 07:40:39</td>\n",
       "      <td>1.0</td>\n",
       "      <td>10.25</td>\n",
       "      <td>...</td>\n",
       "      <td>143.0</td>\n",
       "      <td>1578.0</td>\n",
       "      <td>354.0</td>\n",
       "      <td>15.0</td>\n",
       "      <td>2.0</td>\n",
       "      <td>3.0</td>\n",
       "      <td>0.0</td>\n",
       "      <td>0.0</td>\n",
       "      <td>0.0</td>\n",
       "      <td>0.0</td>\n",
       "    </tr>\n",
       "    <tr>\n",
       "      <th>3</th>\n",
       "      <td>ESPORTSTMNT03/1632489</td>\n",
       "      <td>complete</td>\n",
       "      <td>http://matchhistory.na.leagueoflegends.com/en/...</td>\n",
       "      <td>KeSPA</td>\n",
       "      <td>2021</td>\n",
       "      <td>NaN</td>\n",
       "      <td>0</td>\n",
       "      <td>2021-01-02 07:40:39</td>\n",
       "      <td>1.0</td>\n",
       "      <td>10.25</td>\n",
       "      <td>...</td>\n",
       "      <td>120.0</td>\n",
       "      <td>124.0</td>\n",
       "      <td>102.0</td>\n",
       "      <td>10.0</td>\n",
       "      <td>0.0</td>\n",
       "      <td>4.0</td>\n",
       "      <td>2.0</td>\n",
       "      <td>1.0</td>\n",
       "      <td>1.0</td>\n",
       "      <td>2.0</td>\n",
       "    </tr>\n",
       "    <tr>\n",
       "      <th>4</th>\n",
       "      <td>ESPORTSTMNT03/1632489</td>\n",
       "      <td>complete</td>\n",
       "      <td>http://matchhistory.na.leagueoflegends.com/en/...</td>\n",
       "      <td>KeSPA</td>\n",
       "      <td>2021</td>\n",
       "      <td>NaN</td>\n",
       "      <td>0</td>\n",
       "      <td>2021-01-02 07:40:39</td>\n",
       "      <td>1.0</td>\n",
       "      <td>10.25</td>\n",
       "      <td>...</td>\n",
       "      <td>25.0</td>\n",
       "      <td>448.0</td>\n",
       "      <td>450.0</td>\n",
       "      <td>3.0</td>\n",
       "      <td>1.0</td>\n",
       "      <td>4.0</td>\n",
       "      <td>0.0</td>\n",
       "      <td>0.0</td>\n",
       "      <td>2.0</td>\n",
       "      <td>2.0</td>\n",
       "    </tr>\n",
       "  </tbody>\n",
       "</table>\n",
       "<p>5 rows × 131 columns</p>\n",
       "</div>"
      ],
      "text/plain": [
       "                  gameid datacompleteness  \\\n",
       "0  ESPORTSTMNT03/1632489         complete   \n",
       "1  ESPORTSTMNT03/1632489         complete   \n",
       "2  ESPORTSTMNT03/1632489         complete   \n",
       "3  ESPORTSTMNT03/1632489         complete   \n",
       "4  ESPORTSTMNT03/1632489         complete   \n",
       "\n",
       "                                                 url league  year split  \\\n",
       "0  http://matchhistory.na.leagueoflegends.com/en/...  KeSPA  2021   NaN   \n",
       "1  http://matchhistory.na.leagueoflegends.com/en/...  KeSPA  2021   NaN   \n",
       "2  http://matchhistory.na.leagueoflegends.com/en/...  KeSPA  2021   NaN   \n",
       "3  http://matchhistory.na.leagueoflegends.com/en/...  KeSPA  2021   NaN   \n",
       "4  http://matchhistory.na.leagueoflegends.com/en/...  KeSPA  2021   NaN   \n",
       "\n",
       "   playoffs                 date  game  patch  ...  opp_csat15 golddiffat15  \\\n",
       "0         0  2021-01-02 07:40:39   1.0  10.25  ...       118.0        748.0   \n",
       "1         0  2021-01-02 07:40:39   1.0  10.25  ...        84.0       2120.0   \n",
       "2         0  2021-01-02 07:40:39   1.0  10.25  ...       143.0       1578.0   \n",
       "3         0  2021-01-02 07:40:39   1.0  10.25  ...       120.0        124.0   \n",
       "4         0  2021-01-02 07:40:39   1.0  10.25  ...        25.0        448.0   \n",
       "\n",
       "  xpdiffat15 csdiffat15 killsat15 assistsat15 deathsat15 opp_killsat15  \\\n",
       "0      -56.0       -4.0       2.0         0.0        1.0           0.0   \n",
       "1     3405.0       62.0       3.0         2.0        0.0           2.0   \n",
       "2      354.0       15.0       2.0         3.0        0.0           0.0   \n",
       "3      102.0       10.0       0.0         4.0        2.0           1.0   \n",
       "4      450.0        3.0       1.0         4.0        0.0           0.0   \n",
       "\n",
       "  opp_assistsat15 opp_deathsat15  \n",
       "0             1.0            1.0  \n",
       "1             0.0            3.0  \n",
       "2             0.0            0.0  \n",
       "3             1.0            2.0  \n",
       "4             2.0            2.0  \n",
       "\n",
       "[5 rows x 131 columns]"
      ]
     },
     "execution_count": 60,
     "metadata": {},
     "output_type": "execute_result"
    }
   ],
   "source": [
    "fp1 = '../data/league_2021.csv'\n",
    "fp2 = '../data/league_2022.csv'\n",
    "fp3 = '../data/league_2023.csv'\n",
    "fp4 = '../data/league_2024.csv'\n",
    "\n",
    "leeg21 = pd.read_csv(fp1)\n",
    "leeg22 = pd.read_csv(fp2)\n",
    "leeg23 = pd.read_csv(fp3)\n",
    "leeg24 = pd.read_csv(fp4)\n",
    "\n",
    "league = pd.concat([leeg21, leeg22, leeg23, leeg24])\n",
    "league.head()"
   ]
  },
  {
   "cell_type": "code",
   "execution_count": 61,
   "id": "46f9d1f7",
   "metadata": {
    "scrolled": true
   },
   "outputs": [
    {
     "data": {
      "text/html": [
       "<div>\n",
       "<style scoped>\n",
       "    .dataframe tbody tr th:only-of-type {\n",
       "        vertical-align: middle;\n",
       "    }\n",
       "\n",
       "    .dataframe tbody tr th {\n",
       "        vertical-align: top;\n",
       "    }\n",
       "\n",
       "    .dataframe thead th {\n",
       "        text-align: right;\n",
       "    }\n",
       "</style>\n",
       "<table border=\"1\" class=\"dataframe\">\n",
       "  <thead>\n",
       "    <tr style=\"text-align: right;\">\n",
       "      <th></th>\n",
       "      <th>gameid</th>\n",
       "      <th>teamid</th>\n",
       "      <th>neeko</th>\n",
       "      <th>position</th>\n",
       "      <th>datacompleteness</th>\n",
       "      <th>league</th>\n",
       "      <th>patch</th>\n",
       "      <th>patch_missing</th>\n",
       "      <th>firstdragon</th>\n",
       "      <th>firstherald</th>\n",
       "      <th>...</th>\n",
       "      <th>goldat15</th>\n",
       "      <th>xpat15</th>\n",
       "      <th>csat15</th>\n",
       "      <th>golddiffat15</th>\n",
       "      <th>xpdiffat15</th>\n",
       "      <th>csdiffat15</th>\n",
       "      <th>killsat15</th>\n",
       "      <th>assistsat15</th>\n",
       "      <th>deathsat15</th>\n",
       "      <th>result</th>\n",
       "    </tr>\n",
       "  </thead>\n",
       "  <tbody>\n",
       "    <tr>\n",
       "      <th>0</th>\n",
       "      <td>ESPORTSTMNT03/1632489</td>\n",
       "      <td>oe:team:2e79800a550f87f2378dbba9368396d</td>\n",
       "      <td>0</td>\n",
       "      <td>top</td>\n",
       "      <td>complete</td>\n",
       "      <td>KeSPA</td>\n",
       "      <td>10.25</td>\n",
       "      <td>0</td>\n",
       "      <td>1.0</td>\n",
       "      <td>1.0</td>\n",
       "      <td>...</td>\n",
       "      <td>5407.0</td>\n",
       "      <td>7536.0</td>\n",
       "      <td>114.0</td>\n",
       "      <td>748.0</td>\n",
       "      <td>-56.0</td>\n",
       "      <td>-4.0</td>\n",
       "      <td>2.0</td>\n",
       "      <td>0.0</td>\n",
       "      <td>1.0</td>\n",
       "      <td>1</td>\n",
       "    </tr>\n",
       "    <tr>\n",
       "      <th>1</th>\n",
       "      <td>ESPORTSTMNT03/1632489</td>\n",
       "      <td>oe:team:2e79800a550f87f2378dbba9368396d</td>\n",
       "      <td>0</td>\n",
       "      <td>jng</td>\n",
       "      <td>complete</td>\n",
       "      <td>KeSPA</td>\n",
       "      <td>10.25</td>\n",
       "      <td>0</td>\n",
       "      <td>1.0</td>\n",
       "      <td>1.0</td>\n",
       "      <td>...</td>\n",
       "      <td>6974.0</td>\n",
       "      <td>8232.0</td>\n",
       "      <td>146.0</td>\n",
       "      <td>2120.0</td>\n",
       "      <td>3405.0</td>\n",
       "      <td>62.0</td>\n",
       "      <td>3.0</td>\n",
       "      <td>2.0</td>\n",
       "      <td>0.0</td>\n",
       "      <td>1</td>\n",
       "    </tr>\n",
       "    <tr>\n",
       "      <th>2</th>\n",
       "      <td>ESPORTSTMNT03/1632489</td>\n",
       "      <td>oe:team:2e79800a550f87f2378dbba9368396d</td>\n",
       "      <td>0</td>\n",
       "      <td>mid</td>\n",
       "      <td>complete</td>\n",
       "      <td>KeSPA</td>\n",
       "      <td>10.25</td>\n",
       "      <td>0</td>\n",
       "      <td>1.0</td>\n",
       "      <td>1.0</td>\n",
       "      <td>...</td>\n",
       "      <td>6591.0</td>\n",
       "      <td>7827.0</td>\n",
       "      <td>158.0</td>\n",
       "      <td>1578.0</td>\n",
       "      <td>354.0</td>\n",
       "      <td>15.0</td>\n",
       "      <td>2.0</td>\n",
       "      <td>3.0</td>\n",
       "      <td>0.0</td>\n",
       "      <td>1</td>\n",
       "    </tr>\n",
       "    <tr>\n",
       "      <th>3</th>\n",
       "      <td>ESPORTSTMNT03/1632489</td>\n",
       "      <td>oe:team:2e79800a550f87f2378dbba9368396d</td>\n",
       "      <td>0</td>\n",
       "      <td>bot</td>\n",
       "      <td>complete</td>\n",
       "      <td>KeSPA</td>\n",
       "      <td>10.25</td>\n",
       "      <td>0</td>\n",
       "      <td>1.0</td>\n",
       "      <td>1.0</td>\n",
       "      <td>...</td>\n",
       "      <td>5202.0</td>\n",
       "      <td>5053.0</td>\n",
       "      <td>130.0</td>\n",
       "      <td>124.0</td>\n",
       "      <td>102.0</td>\n",
       "      <td>10.0</td>\n",
       "      <td>0.0</td>\n",
       "      <td>4.0</td>\n",
       "      <td>2.0</td>\n",
       "      <td>1</td>\n",
       "    </tr>\n",
       "    <tr>\n",
       "      <th>4</th>\n",
       "      <td>ESPORTSTMNT03/1632489</td>\n",
       "      <td>oe:team:2e79800a550f87f2378dbba9368396d</td>\n",
       "      <td>0</td>\n",
       "      <td>sup</td>\n",
       "      <td>complete</td>\n",
       "      <td>KeSPA</td>\n",
       "      <td>10.25</td>\n",
       "      <td>0</td>\n",
       "      <td>1.0</td>\n",
       "      <td>1.0</td>\n",
       "      <td>...</td>\n",
       "      <td>3853.0</td>\n",
       "      <td>4681.0</td>\n",
       "      <td>28.0</td>\n",
       "      <td>448.0</td>\n",
       "      <td>450.0</td>\n",
       "      <td>3.0</td>\n",
       "      <td>1.0</td>\n",
       "      <td>4.0</td>\n",
       "      <td>0.0</td>\n",
       "      <td>1</td>\n",
       "    </tr>\n",
       "  </tbody>\n",
       "</table>\n",
       "<p>5 rows × 21 columns</p>\n",
       "</div>"
      ],
      "text/plain": [
       "                  gameid                                   teamid  neeko  \\\n",
       "0  ESPORTSTMNT03/1632489  oe:team:2e79800a550f87f2378dbba9368396d      0   \n",
       "1  ESPORTSTMNT03/1632489  oe:team:2e79800a550f87f2378dbba9368396d      0   \n",
       "2  ESPORTSTMNT03/1632489  oe:team:2e79800a550f87f2378dbba9368396d      0   \n",
       "3  ESPORTSTMNT03/1632489  oe:team:2e79800a550f87f2378dbba9368396d      0   \n",
       "4  ESPORTSTMNT03/1632489  oe:team:2e79800a550f87f2378dbba9368396d      0   \n",
       "\n",
       "  position datacompleteness league  patch  patch_missing  firstdragon  \\\n",
       "0      top         complete  KeSPA  10.25              0          1.0   \n",
       "1      jng         complete  KeSPA  10.25              0          1.0   \n",
       "2      mid         complete  KeSPA  10.25              0          1.0   \n",
       "3      bot         complete  KeSPA  10.25              0          1.0   \n",
       "4      sup         complete  KeSPA  10.25              0          1.0   \n",
       "\n",
       "   firstherald  ...  goldat15  xpat15  csat15  golddiffat15  xpdiffat15  \\\n",
       "0          1.0  ...    5407.0  7536.0   114.0         748.0       -56.0   \n",
       "1          1.0  ...    6974.0  8232.0   146.0        2120.0      3405.0   \n",
       "2          1.0  ...    6591.0  7827.0   158.0        1578.0       354.0   \n",
       "3          1.0  ...    5202.0  5053.0   130.0         124.0       102.0   \n",
       "4          1.0  ...    3853.0  4681.0    28.0         448.0       450.0   \n",
       "\n",
       "   csdiffat15  killsat15  assistsat15  deathsat15  result  \n",
       "0        -4.0        2.0          0.0         1.0       1  \n",
       "1        62.0        3.0          2.0         0.0       1  \n",
       "2        15.0        2.0          3.0         0.0       1  \n",
       "3        10.0        0.0          4.0         2.0       1  \n",
       "4         3.0        1.0          4.0         0.0       1  \n",
       "\n",
       "[5 rows x 21 columns]"
      ]
     },
     "execution_count": 61,
     "metadata": {},
     "output_type": "execute_result"
    }
   ],
   "source": [
    "# make copy \n",
    "pre_cleaning = league.copy()\n",
    "\n",
    "# binary variable for missing patch\n",
    "league['patch_missing'] = (league['patch'].isna()).astype(int)\n",
    "\n",
    "## impute missing patches\n",
    "patches = {\n",
    "    '2022-08-11 08:37:33':12.15, \n",
    "    '2022-08-12 06:08:39':12.15, \n",
    "    '2022-08-12 07:04:40':12.15, \n",
    "    '2022-08-12 07:52:33':12.15, \n",
    "    '2022-08-12 08:51:49':12.15, \n",
    "    '2022-08-12 09:58:13':12.15, \n",
    "    '2022-08-13 06:08:31':12.15, \n",
    "    '2022-08-13 06:55:35':12.15, \n",
    "    '2022-08-13 06:08:31':12.15,\n",
    "    '2022-08-13 06:55:35':12.15,\n",
    "    '2022-08-13 07:47:42':12.15,\n",
    "    '2023-04-05 09:17:28':13.07,\n",
    "    '2023-04-05 10:18:03':13.07, \n",
    "    '2023-04-05 11:23:10':13.07,\n",
    "    '2023-04-05 12:21:13':13.07,\n",
    "    '2023-04-05 13:10:18':13.07,\n",
    "    '2023-05-08 06:12:19':13.09,\n",
    "    '2023-05-08 07:07:13':13.09,\n",
    "    '2023-05-08 08:12:21':13.09,\n",
    "    '2023-05-08 09:06:19':13.09,\n",
    "    '2023-05-08 10:08:36':13.09,\n",
    "    '2024-02-21 06:02:57':14.03,\n",
    "    '2024-02-21 06:56:52':14.03, \n",
    "    '2024-02-21 07:43:27':14.03,\n",
    "    '2024-02-21 08:31:33':14.03, \n",
    "    '2024-02-21 09:17:02':14.03\n",
    "}\n",
    "league['patch'] = league['patch'].fillna(league['date'])\n",
    "league['patch'] = league['patch'].replace(patches)\n",
    "\n",
    "## impute team statistics into missing player level stats for 'firstdragon', 'firstherald', 'heralds', 'opp_heralds'\n",
    "\n",
    "# get team summary statistics \n",
    "team_stats = (league[(league['participantid'] == 100) | (league['participantid'] == 200)]\n",
    "              .loc[:,['gameid', 'teamid','firstdragon', 'firstherald', 'heralds', 'opp_heralds']])\n",
    "\n",
    "# subset dataframe to player level data\n",
    "league = league[(league['participantid'] != 100) & (league['participantid'] != 200)]\n",
    "\n",
    "# drop stats cols in league to retain col names after merge\n",
    "league = league.drop(columns=['firstdragon', 'firstherald', 'heralds', 'opp_heralds'])\n",
    "\n",
    "# merge team stats onto player level data\n",
    "league = league.merge(team_stats, on=['gameid', 'teamid'], how='left')\n",
    "\n",
    "# create a binary variable for before and after Patch 13.9\n",
    "league['post_rework'] = (league['patch'] >= 13.09).astype(int)\n",
    "\n",
    "# create a binary variable for whether neeko played in the game\n",
    "league['neeko'] = (league['champion'] == 'Neeko').astype(int)\n",
    "\n",
    "# create a new variable for difference in heralds gained \n",
    "league['herald_diff'] = league['heralds'] - league['opp_heralds']\n",
    "\n",
    "# keep features we need\n",
    "league = (league.loc[:, ['gameid', 'teamid', 'neeko', 'position', 'datacompleteness','league', \n",
    "                'patch', 'patch_missing','firstdragon', 'firstherald', 'herald_diff', 'goldat15','xpat15','csat15',\n",
    "                'golddiffat15','xpdiffat15','csdiffat15','killsat15','assistsat15','deathsat15',\n",
    "                'result']])\n",
    "\n",
    "league.head()"
   ]
  },
  {
   "cell_type": "code",
   "execution_count": 62,
   "id": "499c029a",
   "metadata": {},
   "outputs": [],
   "source": [
    "# print(league.head().to_markdown(index = False))"
   ]
  },
  {
   "cell_type": "markdown",
   "id": "4d17565a",
   "metadata": {},
   "source": [
    "## Univariate Analysis\n",
    "- "
   ]
  },
  {
   "cell_type": "markdown",
   "id": "1b28f09e",
   "metadata": {},
   "source": [
    "## Bivariate Analysis\n",
    "\n",
    "- relationship between two columns (gold at 15 and xp at 15) scatter plot"
   ]
  },
  {
   "cell_type": "markdown",
   "id": "2a714428",
   "metadata": {},
   "source": [
    "## Interesting Aggregates"
   ]
  },
  {
   "cell_type": "markdown",
   "id": "a94a7a49",
   "metadata": {},
   "source": [
    "This is a pivot table of the number of games with neeko from patch 12.10 to 14.05, seperated by the position she was played in. It is interesting because we can see the amount of games she was played in increases over time. "
   ]
  },
  {
   "cell_type": "code",
   "execution_count": 63,
   "id": "ec69ff13",
   "metadata": {},
   "outputs": [],
   "source": [
    "# just looking at patch 12.10 - present\n",
    "recent = league[league['patch'] >= 12.10]\n",
    "\n",
    "recent_pv = (recent.pivot_table(index='patch', columns='position', values='neeko', aggfunc='sum', \n",
    "                    margins=True, margins_name='total'))\n",
    "\n",
    "# print(recent_pv.to_markdown())\n",
    "# recent.pivot_table"
   ]
  },
  {
   "cell_type": "code",
   "execution_count": 120,
   "id": "3edb2d29",
   "metadata": {},
   "outputs": [
    {
     "data": {
      "text/plain": [
       "0         0\n",
       "1         0\n",
       "2         0\n",
       "         ..\n",
       "382787    0\n",
       "382788    0\n",
       "382789    0\n",
       "Name: patch_missing, Length: 382790, dtype: int64"
      ]
     },
     "execution_count": 120,
     "metadata": {},
     "output_type": "execute_result"
    }
   ],
   "source": [
    "league['patch_missing']"
   ]
  },
  {
   "cell_type": "markdown",
   "id": "321111ea",
   "metadata": {},
   "source": [
    "# Assessment of Missingness"
   ]
  },
  {
   "cell_type": "markdown",
   "id": "34fd250b",
   "metadata": {},
   "source": [
    "## NMAR Analysis\n",
    "\n",
    "We do not belive that there is a column in our dataset that is NMAR. While there are a lot of columns with missing data, we believe that most are related to the column `datacompletedness`. \n",
    "\n",
    "Additionally, based on our preliminary findings when looking at the \"patch\" column that has missing data, we believe that the column \"league\", which is composed of the different leagues played in the game, could explain the missingness since we found that there were only missing patches for two leagues out of the 56."
   ]
  },
  {
   "cell_type": "markdown",
   "id": "a8170849",
   "metadata": {},
   "source": [
    "## Missingness Dependency: `patch`\n",
    "\n",
    "A column that is important to our hypothesis test is the `patch` column. However, we found that the `patch` column had **382840** missing values. We analyzed its relationship with the `league` and `result` columns to check its missingness dependency. "
   ]
  },
  {
   "cell_type": "markdown",
   "id": "7220c767",
   "metadata": {},
   "source": [
    "### 1. `patch` v. `league`\n"
   ]
  },
  {
   "cell_type": "code",
   "execution_count": 88,
   "id": "ff9b62a7",
   "metadata": {},
   "outputs": [
    {
     "name": "stdout",
     "output_type": "stream",
     "text": [
      "0.8440988106129917\n"
     ]
    },
    {
     "data": {
      "text/html": [
       "<div>\n",
       "<style scoped>\n",
       "    .dataframe tbody tr th:only-of-type {\n",
       "        vertical-align: middle;\n",
       "    }\n",
       "\n",
       "    .dataframe tbody tr th {\n",
       "        vertical-align: top;\n",
       "    }\n",
       "\n",
       "    .dataframe thead th {\n",
       "        text-align: right;\n",
       "    }\n",
       "</style>\n",
       "<table border=\"1\" class=\"dataframe\">\n",
       "  <thead>\n",
       "    <tr style=\"text-align: right;\">\n",
       "      <th>patch_missing</th>\n",
       "      <th>0</th>\n",
       "      <th>1</th>\n",
       "    </tr>\n",
       "    <tr>\n",
       "      <th>league</th>\n",
       "      <th></th>\n",
       "      <th></th>\n",
       "    </tr>\n",
       "  </thead>\n",
       "  <tbody>\n",
       "    <tr>\n",
       "      <th>AL</th>\n",
       "      <td>0.005777</td>\n",
       "      <td>0.0</td>\n",
       "    </tr>\n",
       "    <tr>\n",
       "      <th>AOL</th>\n",
       "      <td>0.000967</td>\n",
       "      <td>0.0</td>\n",
       "    </tr>\n",
       "    <tr>\n",
       "      <th>BIG</th>\n",
       "      <td>0.003869</td>\n",
       "      <td>0.0</td>\n",
       "    </tr>\n",
       "    <tr>\n",
       "      <th>BL</th>\n",
       "      <td>0.002692</td>\n",
       "      <td>0.0</td>\n",
       "    </tr>\n",
       "    <tr>\n",
       "      <th>BM</th>\n",
       "      <td>0.002300</td>\n",
       "      <td>0.0</td>\n",
       "    </tr>\n",
       "  </tbody>\n",
       "</table>\n",
       "</div>"
      ],
      "text/plain": [
       "patch_missing         0    1\n",
       "league                      \n",
       "AL             0.005777  0.0\n",
       "AOL            0.000967  0.0\n",
       "BIG            0.003869  0.0\n",
       "BL             0.002692  0.0\n",
       "BM             0.002300  0.0"
      ]
     },
     "execution_count": 88,
     "metadata": {},
     "output_type": "execute_result"
    }
   ],
   "source": [
    "piv = league.pivot_table(index='league', columns='patch_missing', aggfunc='size').fillna(0)\n",
    "piv = piv / piv.sum()\n",
    "obs1 = piv.diff(axis=1).iloc[:,-1].abs().sum() / 2\n",
    "print(obs1)\n",
    "piv.head()"
   ]
  },
  {
   "cell_type": "code",
   "execution_count": 89,
   "id": "38935af5",
   "metadata": {},
   "outputs": [
    {
     "data": {
      "text/plain": [
       "[0.17026183941097023,\n",
       " 0.20190334596784734,\n",
       " 0.1946130135494271,\n",
       " 0.21275138326144732,\n",
       " 0.19381235568335292,\n",
       " 0.20839955561364526,\n",
       " 0.21043806909772145,\n",
       " 0.21987757591600227,\n",
       " 0.19031324881279138,\n",
       " 0.17501916960745872]"
      ]
     },
     "execution_count": 89,
     "metadata": {},
     "output_type": "execute_result"
    }
   ],
   "source": [
    "n_repetitions = 500\n",
    "shuffled = league.loc[:,['league', 'patch_missing']]\n",
    "\n",
    "tvds = []\n",
    "for _ in range(n_repetitions):\n",
    "    \n",
    "    # shuffle whether patch is missing\n",
    "    shuffled['shuffle_patch'] = np.random.permutation(shuffled['patch_missing'])\n",
    "    \n",
    "    # Computing and storing the TVD.\n",
    "    pivoted = (\n",
    "        shuffled.pivot_table\n",
    "        (index='league', columns='shuffle_patch', aggfunc='size').fillna(0)\n",
    "    )\n",
    "    \n",
    "    pivoted = pivoted / pivoted.sum()\n",
    "    \n",
    "    tvd = pivoted.diff(axis=1).iloc[:, -1].abs().sum() / 2\n",
    "    tvds.append(tvd)\n",
    "tvds[:10]"
   ]
  },
  {
   "cell_type": "markdown",
   "id": "92393801",
   "metadata": {},
   "source": [
    "#### p-value: "
   ]
  },
  {
   "cell_type": "code",
   "execution_count": 90,
   "id": "61f06752",
   "metadata": {
    "scrolled": true
   },
   "outputs": [
    {
     "data": {
      "text/plain": [
       "0.0"
      ]
     },
     "execution_count": 90,
     "metadata": {},
     "output_type": "execute_result"
    }
   ],
   "source": [
    "(np.array(tvds) >= obs1).mean()"
   ]
  },
  {
   "cell_type": "markdown",
   "id": "bcfd7760",
   "metadata": {},
   "source": [
    "**Conclusion:**\n",
    "- Since our p-value = 0.0 which is less than our alpha value of 0.5, we conclude that the missingness of `patch` **does** depend on `league`."
   ]
  },
  {
   "cell_type": "code",
   "execution_count": 97,
   "id": "d179effc",
   "metadata": {},
   "outputs": [
    {
     "data": {
      "text/plain": [
       "<bound method BaseFigure.write_html of Figure({\n",
       "    'data': [{'alignmentgroup': 'True',\n",
       "              'bingroup': 'x',\n",
       "              'histnorm': 'probability',\n",
       "              'hovertemplate': '0=%{x}<br>probability=%{y}<extra></extra>',\n",
       "              'legendgroup': '',\n",
       "              'marker': {'color': '#636efa', 'pattern': {'shape': ''}},\n",
       "              'name': '',\n",
       "              'nbinsx': 50,\n",
       "              'offsetgroup': '',\n",
       "              'orientation': 'v',\n",
       "              'showlegend': False,\n",
       "              'type': 'histogram',\n",
       "              'x': array([0.00848233, 0.02515946, 0.00819479, ..., 0.01265161, 0.04154903,\n",
       "                          0.02487191]),\n",
       "              'xaxis': 'x',\n",
       "              'yaxis': 'y'}],\n",
       "    'layout': {'annotations': [{'showarrow': False,\n",
       "                                'text': '<span style=\"color:red\">Observed TVD = 0.0</span>',\n",
       "                                'x': 0.00033067572866293246,\n",
       "                                'y': 0.16}],\n",
       "               'barmode': 'relative',\n",
       "               'legend': {'tracegroupgap': 0},\n",
       "               'shapes': [{'line': {'color': 'red'},\n",
       "                           'type': 'line',\n",
       "                           'x0': 0.00014377205594040543,\n",
       "                           'x1': 0.00014377205594040543,\n",
       "                           'xref': 'x',\n",
       "                           'y0': 0,\n",
       "                           'y1': 1,\n",
       "                           'yref': 'y domain'}],\n",
       "               'template': '...',\n",
       "               'title': {'text': 'Empirical Distribution of the TVD'},\n",
       "               'xaxis': {'anchor': 'y', 'domain': [0.0, 1.0], 'title': {'text': '0'}},\n",
       "               'yaxis': {'anchor': 'x', 'domain': [0.0, 1.0], 'range': [0, 0.2], 'title': {'text': 'probability'}}}\n",
       "})>"
      ]
     },
     "execution_count": 97,
     "metadata": {},
     "output_type": "execute_result"
    }
   ],
   "source": [
    "fig1 = px.histogram(pd.DataFrame(tvds), x=0, nbins=50, histnorm='probability', \n",
    "                   title='Empirical Distribution of the TVD (patch v. league)')\n",
    "fig1.add_vline(x=obs1, line_color='red')\n",
    "fig1.add_annotation(text=f'<span style=\"color:red\">Observed TVD = {round(obs1, 2)}</span>',\n",
    "                   x=1 * obs1, showarrow=False, y=0.16)\n",
    "fig1.update_layout(yaxis_range=[0, 0.2])\n",
    "# fig.write_html\n",
    "# fig.write_html('patch1.html', include_plotlyjs='cdn')"
   ]
  },
  {
   "cell_type": "code",
   "execution_count": 107,
   "id": "8fee6a70",
   "metadata": {},
   "outputs": [],
   "source": [
    "patch1 = league[['patch_missing', 'league']]\n",
    "\n",
    "\n",
    "px.histogram(patch1, x='league', color='patch_missing', histnorm='probability', marginal='box',\n",
    "             title=\"League by Missingness of Patch\", barmode='overlay', opacity=0.7)\n",
    "\n"
   ]
  },
  {
   "cell_type": "markdown",
   "id": "16e68ff9",
   "metadata": {},
   "source": [
    "### 2. `patch` v. `result`"
   ]
  },
  {
   "cell_type": "code",
   "execution_count": 94,
   "id": "e2cde686",
   "metadata": {},
   "outputs": [
    {
     "name": "stdout",
     "output_type": "stream",
     "text": [
      "0.00014377205594040543\n"
     ]
    },
    {
     "data": {
      "text/html": [
       "<div>\n",
       "<style scoped>\n",
       "    .dataframe tbody tr th:only-of-type {\n",
       "        vertical-align: middle;\n",
       "    }\n",
       "\n",
       "    .dataframe tbody tr th {\n",
       "        vertical-align: top;\n",
       "    }\n",
       "\n",
       "    .dataframe thead th {\n",
       "        text-align: right;\n",
       "    }\n",
       "</style>\n",
       "<table border=\"1\" class=\"dataframe\">\n",
       "  <thead>\n",
       "    <tr style=\"text-align: right;\">\n",
       "      <th>patch_missing</th>\n",
       "      <th>0</th>\n",
       "      <th>1</th>\n",
       "    </tr>\n",
       "    <tr>\n",
       "      <th>result</th>\n",
       "      <th></th>\n",
       "      <th></th>\n",
       "    </tr>\n",
       "  </thead>\n",
       "  <tbody>\n",
       "    <tr>\n",
       "      <th>0</th>\n",
       "      <td>0.500144</td>\n",
       "      <td>0.5</td>\n",
       "    </tr>\n",
       "    <tr>\n",
       "      <th>1</th>\n",
       "      <td>0.499856</td>\n",
       "      <td>0.5</td>\n",
       "    </tr>\n",
       "  </tbody>\n",
       "</table>\n",
       "</div>"
      ],
      "text/plain": [
       "patch_missing         0    1\n",
       "result                      \n",
       "0              0.500144  0.5\n",
       "1              0.499856  0.5"
      ]
     },
     "execution_count": 94,
     "metadata": {},
     "output_type": "execute_result"
    }
   ],
   "source": [
    "piv = league.pivot_table(index='result', columns='patch_missing', aggfunc='size').fillna(0)\n",
    "piv = piv / piv.sum()\n",
    "obs2 = piv.diff(axis=1).iloc[:,-1].abs().sum() / 2\n",
    "\n",
    "print(obs2)\n",
    "piv"
   ]
  },
  {
   "cell_type": "code",
   "execution_count": 95,
   "id": "9829d8bb",
   "metadata": {
    "scrolled": true
   },
   "outputs": [
    {
     "data": {
      "text/plain": [
       "[0.004313052759987807,\n",
       " 0.004313052759987807,\n",
       " 0.01682089487213001,\n",
       " 0.033210473576438804,\n",
       " 0.008194789352154397,\n",
       " 0.012651614168082609,\n",
       " 0.024871912168344057,\n",
       " 0.00848233346403518,\n",
       " 0.00848233346403518,\n",
       " 0.04600585980046179]"
      ]
     },
     "execution_count": 95,
     "metadata": {},
     "output_type": "execute_result"
    }
   ],
   "source": [
    "n_repetitions = 500\n",
    "shuffled = league.loc[:,['result', 'patch_missing']]\n",
    "\n",
    "tvds = []\n",
    "for _ in range(n_repetitions):\n",
    "    \n",
    "    # shuffle whether patch is missing\n",
    "    shuffled['shuffle_patch'] = np.random.permutation(shuffled['patch_missing'])\n",
    "    \n",
    "    # Computing and storing the TVD.\n",
    "    pivoted = (\n",
    "        shuffled.pivot_table\n",
    "        (index='result', columns='shuffle_patch', aggfunc='size').fillna(0)\n",
    "    )\n",
    "    \n",
    "    pivoted = pivoted / pivoted.sum()\n",
    "    \n",
    "    tvd = pivoted.diff(axis=1).iloc[:, -1].abs().sum() / 2\n",
    "    tvds.append(tvd)\n",
    "tvds[:10]"
   ]
  },
  {
   "cell_type": "markdown",
   "id": "ba2ab1f0",
   "metadata": {},
   "source": [
    "**p-value:**"
   ]
  },
  {
   "cell_type": "code",
   "execution_count": 86,
   "id": "f9dd12b1",
   "metadata": {},
   "outputs": [
    {
     "data": {
      "text/plain": [
       "1.0"
      ]
     },
     "execution_count": 86,
     "metadata": {},
     "output_type": "execute_result"
    }
   ],
   "source": [
    "(np.array(tvds) >= obs2).mean()"
   ]
  },
  {
   "cell_type": "markdown",
   "id": "0eff2e3c",
   "metadata": {},
   "source": [
    "**Conclusion:**\n",
    "Since our p-value = 1.0 which is greater than our alpha level of 0.05, we can conclude that the missingness of `patch` **does not** depend on the `result` column. "
   ]
  },
  {
   "cell_type": "code",
   "execution_count": 100,
   "id": "da9e9511",
   "metadata": {},
   "outputs": [],
   "source": [
    "fig_2 = px.histogram(pd.DataFrame(tvds), x=0, nbins=50, histnorm='probability', \n",
    "                   title='Empirical Distribution of the TVD (patch v. result)')\n",
    "fig_2.add_vline(x=obs2, line_color='red')\n",
    "fig_2.add_annotation(text=f'<span style=\"color:red\">Observed TVD = {round(obs2, 2)}</span>',\n",
    "                   x=2.3 * obs2, showarrow=False, y=0.16)\n",
    "fig_2.update_layout(yaxis_range=[0, 0.2])\n",
    "# fig.write_html\n",
    "# fig.write_html('patch2.html', include_plotlyjs='cdn')"
   ]
  },
  {
   "cell_type": "code",
   "execution_count": 119,
   "id": "4b35013e",
   "metadata": {},
   "outputs": [],
   "source": [
    "patch2 = league[['patch_missing', 'result']]\n",
    "\n",
    "\n",
    "px.histogram(patch2, x='result', color='patch_missing', histnorm='probability', marginal='box',\n",
    "             title=\"Result by Missingness of Patch\", barmode='overlay', opacity=0.7)\n"
   ]
  },
  {
   "cell_type": "code",
   "execution_count": 118,
   "id": "4974b48b",
   "metadata": {},
   "outputs": [],
   "source": [
    "# create_kde_plotly(patch2, 'patch_missing', True, False, 'result', \n",
    "#                   \"Result by Missingness of Patch\")\n"
   ]
  },
  {
   "cell_type": "code",
   "execution_count": 106,
   "id": "6f0a420f",
   "metadata": {},
   "outputs": [],
   "source": [
    "# piv.plot(kind='barh', title='Gender by Missingness of Child Height (MAR Example)', barmode='group')\n",
    "# piv\n"
   ]
  },
  {
   "cell_type": "code",
   "execution_count": null,
   "id": "968bb61e",
   "metadata": {},
   "outputs": [],
   "source": []
  }
 ],
 "metadata": {
  "kernelspec": {
   "display_name": "Python 3 (ipykernel)",
   "language": "python",
   "name": "python3"
  },
  "language_info": {
   "codemirror_mode": {
    "name": "ipython",
    "version": 3
   },
   "file_extension": ".py",
   "mimetype": "text/x-python",
   "name": "python",
   "nbconvert_exporter": "python",
   "pygments_lexer": "ipython3",
   "version": "3.8.18"
  }
 },
 "nbformat": 4,
 "nbformat_minor": 5
}
