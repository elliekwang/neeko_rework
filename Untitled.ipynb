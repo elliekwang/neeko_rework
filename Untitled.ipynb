{
 "cells": [
  {
   "cell_type": "code",
   "execution_count": 40,
   "id": "64b020fb",
   "metadata": {},
   "outputs": [
    {
     "data": {
      "text/plain": [
       "0         False\n",
       "1         False\n",
       "2         False\n",
       "3         False\n",
       "4         False\n",
       "          ...  \n",
       "148987    False\n",
       "148988    False\n",
       "148989    False\n",
       "148990    False\n",
       "148991    False\n",
       "Name: champion, Length: 148992, dtype: bool"
      ]
     },
     "execution_count": 40,
     "metadata": {},
     "output_type": "execute_result"
    }
   ],
   "source": [
    "import pandas as pd\n",
    "import numpy as np\n",
    "from pathlib import Path\n",
    "\n",
    "import plotly.express as px\n",
    "pd.options.plotting.backend = 'plotly'\n",
    "\n",
    "# from dsc80_utils import * # Feel free to uncomment and use this.\n",
    "\n",
    "fp1 = '../data/league_2023.csv'\n",
    "\n",
    "fp2 = '../data/league_2022.csv'\n",
    "league23 = pd.read_csv(fp1)\n",
    "league23[league23['patch'] == 13.09]\n",
    "\n",
    "league22 = pd.read_csv(fp2)\n",
    "\n",
    "league22\n",
    "\n",
    "list(league.columns)\n",
    "\n",
    "neeko = league[league['champion'] == 'Neeko']\n",
    "\n",
    "# neeko = neeko[neeko['patch'] == 13.9]\n",
    "\n",
    "\n",
    "neeko['patch'].value_counts()\n",
    "\n",
    "# neeko\n",
    "\n",
    "\n",
    "league22[league22['champion'] == 'neeko']\n",
    "league22['champion'] == 'neeko'\n",
    "\n",
    "\n",
    "#hi joyce\n"
   ]
  },
  {
   "cell_type": "code",
   "execution_count": null,
   "id": "0147a076",
   "metadata": {},
   "outputs": [],
   "source": []
  }
 ],
 "metadata": {
  "kernelspec": {
   "display_name": "Python 3 (ipykernel)",
   "language": "python",
   "name": "python3"
  },
  "language_info": {
   "codemirror_mode": {
    "name": "ipython",
    "version": 3
   },
   "file_extension": ".py",
   "mimetype": "text/x-python",
   "name": "python",
   "nbconvert_exporter": "python",
   "pygments_lexer": "ipython3",
   "version": "3.8.18"
  }
 },
 "nbformat": 4,
 "nbformat_minor": 5
}
